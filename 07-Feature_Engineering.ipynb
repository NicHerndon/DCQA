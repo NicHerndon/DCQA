{
 "cells": [
  {
   "cell_type": "markdown",
   "metadata": {},
   "source": [
    "# Feature Engineering"
   ]
  },
  {
   "cell_type": "code",
   "execution_count": 4,
   "metadata": {},
   "outputs": [],
   "source": [
    "from src.setup import *\n",
    "%load_ext rpy2.ipython"
   ]
  },
  {
   "cell_type": "code",
   "execution_count": 2,
   "metadata": {},
   "outputs": [
    {
     "name": "stdout",
     "output_type": "stream",
     "text": [
      "── Attaching core tidyverse packages ──────────────────────── tidyverse 2.0.0 ──\n",
      "✔ dplyr     1.1.4     ✔ readr     2.1.5\n",
      "✔ forcats   1.0.0     ✔ stringr   1.5.1\n",
      "✔ ggplot2   3.5.1     ✔ tibble    3.2.1\n",
      "✔ lubridate 1.9.3     ✔ tidyr     1.3.1\n",
      "✔ purrr     1.0.2     \n",
      "── Conflicts ────────────────────────────────────────── tidyverse_conflicts() ──\n",
      "✖ dplyr::filter() masks stats::filter()\n",
      "✖ dplyr::lag()    masks stats::lag()\n",
      "ℹ Use the conflicted package (<http://conflicted.r-lib.org/>) to force all conflicts to become errors\n"
     ]
    },
    {
     "name": "stderr",
     "output_type": "stream",
     "text": [
      "System has not been booted with systemd as init system (PID 1). Can't operate.\n",
      "Failed to connect to bus: Host is down\n"
     ]
    }
   ],
   "source": [
    "%%capture --no-stdout err\n",
    "%%R \n",
    "library(tidyverse)"
   ]
  },
  {
   "cell_type": "markdown",
   "metadata": {},
   "source": [
    "## Date/time fields"
   ]
  },
  {
   "cell_type": "code",
   "execution_count": 3,
   "metadata": {},
   "outputs": [
    {
     "name": "stdout",
     "output_type": "stream",
     "text": [
      "2003 07 25 16 04 27.500000\n",
      "2003 07 25 16 07 27.300000\n",
      "2003 07 25 16 10 27.300000\n",
      "2003 07 25 16 13 27.400000\n",
      "2003 07 25 16 16 27.800000\n"
     ]
    }
   ],
   "source": [
    "%%bash\n",
    "zcat data/glarp/outside.gz | head -5"
   ]
  },
  {
   "cell_type": "code",
   "execution_count": 4,
   "metadata": {},
   "outputs": [
    {
     "data": {
      "text/html": [
       "<div>\n",
       "<style scoped>\n",
       "    .dataframe tbody tr th:only-of-type {\n",
       "        vertical-align: middle;\n",
       "    }\n",
       "\n",
       "    .dataframe tbody tr th {\n",
       "        vertical-align: top;\n",
       "    }\n",
       "\n",
       "    .dataframe thead th {\n",
       "        text-align: right;\n",
       "    }\n",
       "</style>\n",
       "<table border=\"1\" class=\"dataframe\">\n",
       "  <thead>\n",
       "    <tr style=\"text-align: right;\">\n",
       "      <th></th>\n",
       "      <th>year</th>\n",
       "      <th>month</th>\n",
       "      <th>day</th>\n",
       "      <th>hour</th>\n",
       "      <th>minute</th>\n",
       "      <th>degrees</th>\n",
       "    </tr>\n",
       "  </thead>\n",
       "  <tbody>\n",
       "    <tr>\n",
       "      <th>0</th>\n",
       "      <td>2003</td>\n",
       "      <td>7</td>\n",
       "      <td>25</td>\n",
       "      <td>16</td>\n",
       "      <td>4</td>\n",
       "      <td>27.5</td>\n",
       "    </tr>\n",
       "    <tr>\n",
       "      <th>1</th>\n",
       "      <td>2003</td>\n",
       "      <td>7</td>\n",
       "      <td>25</td>\n",
       "      <td>16</td>\n",
       "      <td>7</td>\n",
       "      <td>27.3</td>\n",
       "    </tr>\n",
       "    <tr>\n",
       "      <th>2</th>\n",
       "      <td>2003</td>\n",
       "      <td>7</td>\n",
       "      <td>25</td>\n",
       "      <td>16</td>\n",
       "      <td>10</td>\n",
       "      <td>27.3</td>\n",
       "    </tr>\n",
       "    <tr>\n",
       "      <th>3</th>\n",
       "      <td>2003</td>\n",
       "      <td>7</td>\n",
       "      <td>25</td>\n",
       "      <td>16</td>\n",
       "      <td>13</td>\n",
       "      <td>27.4</td>\n",
       "    </tr>\n",
       "    <tr>\n",
       "      <th>4</th>\n",
       "      <td>2003</td>\n",
       "      <td>7</td>\n",
       "      <td>25</td>\n",
       "      <td>16</td>\n",
       "      <td>16</td>\n",
       "      <td>27.8</td>\n",
       "    </tr>\n",
       "  </tbody>\n",
       "</table>\n",
       "</div>"
      ],
      "text/plain": [
       "   year  month  day  hour  minute  degrees\n",
       "0  2003      7   25    16       4     27.5\n",
       "1  2003      7   25    16       7     27.3\n",
       "2  2003      7   25    16      10     27.3\n",
       "3  2003      7   25    16      13     27.4\n",
       "4  2003      7   25    16      16     27.8"
      ]
     },
     "execution_count": 4,
     "metadata": {},
     "output_type": "execute_result"
    }
   ],
   "source": [
    "temps = pd.read_csv('data/glarp/outside.gz', \n",
    "                    sep=' ', header=None, \n",
    "                    names=['year', 'month', 'day', \n",
    "                           'hour', 'minute', 'degrees'])\n",
    "temps.head(5)"
   ]
  },
  {
   "cell_type": "markdown",
   "metadata": {},
   "source": [
    "### Creating Datetimes"
   ]
  },
  {
   "cell_type": "code",
   "execution_count": 5,
   "metadata": {},
   "outputs": [
    {
     "data": {
      "text/html": [
       "<div>\n",
       "<style scoped>\n",
       "    .dataframe tbody tr th:only-of-type {\n",
       "        vertical-align: middle;\n",
       "    }\n",
       "\n",
       "    .dataframe tbody tr th {\n",
       "        vertical-align: top;\n",
       "    }\n",
       "\n",
       "    .dataframe thead th {\n",
       "        text-align: right;\n",
       "    }\n",
       "</style>\n",
       "<table border=\"1\" class=\"dataframe\">\n",
       "  <thead>\n",
       "    <tr style=\"text-align: right;\">\n",
       "      <th></th>\n",
       "      <th>degrees</th>\n",
       "    </tr>\n",
       "  </thead>\n",
       "  <tbody>\n",
       "    <tr>\n",
       "      <th>2003-07-25 16:04:00</th>\n",
       "      <td>27.5</td>\n",
       "    </tr>\n",
       "    <tr>\n",
       "      <th>2003-07-25 16:07:00</th>\n",
       "      <td>27.3</td>\n",
       "    </tr>\n",
       "    <tr>\n",
       "      <th>2003-07-25 16:10:00</th>\n",
       "      <td>27.3</td>\n",
       "    </tr>\n",
       "    <tr>\n",
       "      <th>2003-07-25 16:13:00</th>\n",
       "      <td>27.4</td>\n",
       "    </tr>\n",
       "    <tr>\n",
       "      <th>...</th>\n",
       "      <td>...</td>\n",
       "    </tr>\n",
       "    <tr>\n",
       "      <th>2004-07-16 15:19:00</th>\n",
       "      <td>16.9</td>\n",
       "    </tr>\n",
       "    <tr>\n",
       "      <th>2004-07-16 15:22:00</th>\n",
       "      <td>16.8</td>\n",
       "    </tr>\n",
       "    <tr>\n",
       "      <th>2004-07-16 15:25:00</th>\n",
       "      <td>16.8</td>\n",
       "    </tr>\n",
       "    <tr>\n",
       "      <th>2004-07-16 15:28:00</th>\n",
       "      <td>16.4</td>\n",
       "    </tr>\n",
       "  </tbody>\n",
       "</table>\n",
       "<p>169513 rows × 1 columns</p>\n",
       "</div>"
      ],
      "text/plain": [
       "                     degrees\n",
       "2003-07-25 16:04:00     27.5\n",
       "2003-07-25 16:07:00     27.3\n",
       "2003-07-25 16:10:00     27.3\n",
       "2003-07-25 16:13:00     27.4\n",
       "...                      ...\n",
       "2004-07-16 15:19:00     16.9\n",
       "2004-07-16 15:22:00     16.8\n",
       "2004-07-16 15:25:00     16.8\n",
       "2004-07-16 15:28:00     16.4\n",
       "\n",
       "[169513 rows x 1 columns]"
      ]
     },
     "execution_count": 5,
     "metadata": {},
     "output_type": "execute_result"
    }
   ],
   "source": [
    "ts_fields = ['year', 'month', 'day', 'hour', 'minute']\n",
    "temps.index = pd.to_datetime(temps[ts_fields])\n",
    "temps.drop(columns=ts_fields, inplace=True)\n",
    "temps"
   ]
  },
  {
   "cell_type": "code",
   "execution_count": 6,
   "metadata": {},
   "outputs": [
    {
     "data": {
      "text/plain": [
       "False"
      ]
     },
     "execution_count": 6,
     "metadata": {},
     "output_type": "execute_result"
    }
   ],
   "source": [
    "temps.index.is_monotonic_increasing"
   ]
  },
  {
   "cell_type": "code",
   "execution_count": 7,
   "metadata": {},
   "outputs": [
    {
     "data": {
      "text/plain": [
       "2003-10-26 01:01:00   -1 days +23:03:00\n",
       "dtype: timedelta64[ns]"
      ]
     },
     "execution_count": 7,
     "metadata": {},
     "output_type": "execute_result"
    }
   ],
   "source": [
    "increments = temps.index.to_series().diff()\n",
    "increments[increments < pd.Timedelta(minutes=0)]"
   ]
  },
  {
   "cell_type": "code",
   "execution_count": 8,
   "metadata": {},
   "outputs": [
    {
     "data": {
      "text/plain": [
       "True"
      ]
     },
     "execution_count": 8,
     "metadata": {},
     "output_type": "execute_result"
    }
   ],
   "source": [
    "temps.sort_index(inplace=True)\n",
    "temps.index.is_monotonic_increasing"
   ]
  },
  {
   "cell_type": "markdown",
   "metadata": {},
   "source": [
    "### Imposing Regularity"
   ]
  },
  {
   "cell_type": "code",
   "execution_count": 9,
   "metadata": {},
   "outputs": [
    {
     "data": {
      "text/plain": [
       "2003-07-26 19:28:00   0 days 00:06:00\n",
       "2003-07-27 09:10:00   0 days 00:06:00\n",
       "2003-07-29 08:28:00   0 days 00:06:00\n",
       "2003-07-29 11:43:00   0 days 00:06:00\n",
       "                            ...      \n",
       "2004-07-05 19:55:00   0 days 07:36:00\n",
       "2004-07-06 09:28:00   0 days 00:06:00\n",
       "2004-07-06 16:28:00   0 days 00:06:00\n",
       "2004-07-14 04:04:00   0 days 00:06:00\n",
       "Length: 160, dtype: timedelta64[ns]"
      ]
     },
     "execution_count": 9,
     "metadata": {},
     "output_type": "execute_result"
    }
   ],
   "source": [
    "increments = temps.index.to_series().diff()\n",
    "gaps = increments[increments > pd.Timedelta(minutes=3)]\n",
    "gaps"
   ]
  },
  {
   "cell_type": "code",
   "execution_count": 10,
   "metadata": {},
   "outputs": [
    {
     "name": "stdout",
     "output_type": "stream",
     "text": [
      "2003-12-11 03:04:00   1 days 13:48:00\n",
      "2004-04-28 00:31:00   0 days 13:06:00\n",
      "2004-07-05 19:55:00   0 days 07:36:00\n",
      "2003-12-18 09:25:00   0 days 06:33:00\n",
      "2003-12-06 09:25:00   0 days 06:24:00\n",
      "2003-12-29 08:46:00   0 days 06:03:00\n",
      "2003-12-11 14:19:00   0 days 04:42:00\n",
      "2004-04-04 03:01:00   0 days 01:03:00\n",
      "2004-06-30 18:13:00   0 days 00:33:00\n",
      "2003-11-24 08:04:00   0 days 00:30:00\n",
      "2003-10-11 17:13:00   0 days 00:27:00\n",
      "2003-12-13 17:10:00   0 days 00:15:00\n",
      "2004-07-02 09:22:00   0 days 00:12:00\n",
      "2004-06-30 03:07:00   0 days 00:12:00\n",
      "2004-06-22 10:16:00   0 days 00:12:00\n",
      "dtype: timedelta64[ns]\n"
     ]
    }
   ],
   "source": [
    "with show_more_rows():\n",
    "    print(gaps.sort_values(ascending=False).head(15))"
   ]
  },
  {
   "cell_type": "code",
   "execution_count": 11,
   "metadata": {},
   "outputs": [
    {
     "data": {
      "text/html": [
       "<div>\n",
       "<style scoped>\n",
       "    .dataframe tbody tr th:only-of-type {\n",
       "        vertical-align: middle;\n",
       "    }\n",
       "\n",
       "    .dataframe tbody tr th {\n",
       "        vertical-align: top;\n",
       "    }\n",
       "\n",
       "    .dataframe thead th {\n",
       "        text-align: right;\n",
       "    }\n",
       "</style>\n",
       "<table border=\"1\" class=\"dataframe\">\n",
       "  <thead>\n",
       "    <tr style=\"text-align: right;\">\n",
       "      <th></th>\n",
       "      <th>degrees</th>\n",
       "    </tr>\n",
       "  </thead>\n",
       "  <tbody>\n",
       "    <tr>\n",
       "      <th>2003-07-26 19:22:00</th>\n",
       "      <td>27.5</td>\n",
       "    </tr>\n",
       "    <tr>\n",
       "      <th>2003-07-26 19:28:00</th>\n",
       "      <td>27.1</td>\n",
       "    </tr>\n",
       "  </tbody>\n",
       "</table>\n",
       "</div>"
      ],
      "text/plain": [
       "                     degrees\n",
       "2003-07-26 19:22:00     27.5\n",
       "2003-07-26 19:28:00     27.1"
      ]
     },
     "execution_count": 11,
     "metadata": {},
     "output_type": "execute_result"
    }
   ],
   "source": [
    "temps.loc['2003-07-26 19:22:00':'2003-07-26 19:28:00']"
   ]
  },
  {
   "cell_type": "code",
   "execution_count": 12,
   "metadata": {},
   "outputs": [
    {
     "data": {
      "text/plain": [
       "2003-10-03 12:04:00   0 days 00:02:00\n",
       "2003-10-26 01:01:00   0 days 00:00:00\n",
       "2003-12-24 15:10:00   0 days 00:00:00\n",
       "2003-10-26 01:58:00   0 days 00:00:00\n",
       "                            ...      \n",
       "2003-10-26 01:13:00   0 days 00:00:00\n",
       "2003-10-26 01:10:00   0 days 00:00:00\n",
       "2003-10-26 01:07:00   0 days 00:00:00\n",
       "2003-12-24 15:10:00   0 days 00:00:00\n",
       "Length: 22, dtype: timedelta64[ns]"
      ]
     },
     "execution_count": 12,
     "metadata": {},
     "output_type": "execute_result"
    }
   ],
   "source": [
    "small_steps = increments[increments < pd.Timedelta(minutes=3)]\n",
    "small_steps.sort_values(ascending=False)"
   ]
  },
  {
   "cell_type": "code",
   "execution_count": 13,
   "metadata": {},
   "outputs": [
    {
     "data": {
      "text/html": [
       "<div>\n",
       "<style scoped>\n",
       "    .dataframe tbody tr th:only-of-type {\n",
       "        vertical-align: middle;\n",
       "    }\n",
       "\n",
       "    .dataframe tbody tr th {\n",
       "        vertical-align: top;\n",
       "    }\n",
       "\n",
       "    .dataframe thead th {\n",
       "        text-align: right;\n",
       "    }\n",
       "</style>\n",
       "<table border=\"1\" class=\"dataframe\">\n",
       "  <thead>\n",
       "    <tr style=\"text-align: right;\">\n",
       "      <th></th>\n",
       "      <th>degrees</th>\n",
       "    </tr>\n",
       "  </thead>\n",
       "  <tbody>\n",
       "    <tr>\n",
       "      <th>2003-10-03 11:58:00</th>\n",
       "      <td>13.0</td>\n",
       "    </tr>\n",
       "    <tr>\n",
       "      <th>2003-10-03 12:02:00</th>\n",
       "      <td>12.8</td>\n",
       "    </tr>\n",
       "    <tr>\n",
       "      <th>2003-10-03 12:04:00</th>\n",
       "      <td>12.8</td>\n",
       "    </tr>\n",
       "    <tr>\n",
       "      <th>2003-10-03 12:07:00</th>\n",
       "      <td>12.8</td>\n",
       "    </tr>\n",
       "  </tbody>\n",
       "</table>\n",
       "</div>"
      ],
      "text/plain": [
       "                     degrees\n",
       "2003-10-03 11:58:00     13.0\n",
       "2003-10-03 12:02:00     12.8\n",
       "2003-10-03 12:04:00     12.8\n",
       "2003-10-03 12:07:00     12.8"
      ]
     },
     "execution_count": 13,
     "metadata": {},
     "output_type": "execute_result"
    }
   ],
   "source": [
    "temps.loc['2003-10-03 11:57':'2003-10-03 12:08']"
   ]
  },
  {
   "cell_type": "markdown",
   "metadata": {},
   "source": [
    "### Duplicated Timestamps"
   ]
  },
  {
   "cell_type": "code",
   "execution_count": 14,
   "metadata": {},
   "outputs": [
    {
     "data": {
      "text/html": [
       "<div>\n",
       "<style scoped>\n",
       "    .dataframe tbody tr th:only-of-type {\n",
       "        vertical-align: middle;\n",
       "    }\n",
       "\n",
       "    .dataframe tbody tr th {\n",
       "        vertical-align: top;\n",
       "    }\n",
       "\n",
       "    .dataframe thead th {\n",
       "        text-align: right;\n",
       "    }\n",
       "</style>\n",
       "<table border=\"1\" class=\"dataframe\">\n",
       "  <thead>\n",
       "    <tr style=\"text-align: right;\">\n",
       "      <th></th>\n",
       "      <th>degrees</th>\n",
       "    </tr>\n",
       "  </thead>\n",
       "  <tbody>\n",
       "    <tr>\n",
       "      <th>2003-10-26 01:01:00</th>\n",
       "      <td>1.9</td>\n",
       "    </tr>\n",
       "    <tr>\n",
       "      <th>2003-10-26 01:01:00</th>\n",
       "      <td>0.9</td>\n",
       "    </tr>\n",
       "    <tr>\n",
       "      <th>2003-10-26 01:07:00</th>\n",
       "      <td>1.9</td>\n",
       "    </tr>\n",
       "    <tr>\n",
       "      <th>2003-10-26 01:07:00</th>\n",
       "      <td>1.1</td>\n",
       "    </tr>\n",
       "    <tr>\n",
       "      <th>...</th>\n",
       "      <td>...</td>\n",
       "    </tr>\n",
       "    <tr>\n",
       "      <th>2003-10-26 01:58:00</th>\n",
       "      <td>0.1</td>\n",
       "    </tr>\n",
       "    <tr>\n",
       "      <th>2003-12-24 15:10:00</th>\n",
       "      <td>6.4</td>\n",
       "    </tr>\n",
       "    <tr>\n",
       "      <th>2003-12-24 15:10:00</th>\n",
       "      <td>20.9</td>\n",
       "    </tr>\n",
       "    <tr>\n",
       "      <th>2003-12-24 15:10:00</th>\n",
       "      <td>6.4</td>\n",
       "    </tr>\n",
       "  </tbody>\n",
       "</table>\n",
       "<p>41 rows × 1 columns</p>\n",
       "</div>"
      ],
      "text/plain": [
       "                     degrees\n",
       "2003-10-26 01:01:00      1.9\n",
       "2003-10-26 01:01:00      0.9\n",
       "2003-10-26 01:07:00      1.9\n",
       "2003-10-26 01:07:00      1.1\n",
       "...                      ...\n",
       "2003-10-26 01:58:00      0.1\n",
       "2003-12-24 15:10:00      6.4\n",
       "2003-12-24 15:10:00     20.9\n",
       "2003-12-24 15:10:00      6.4\n",
       "\n",
       "[41 rows x 1 columns]"
      ]
     },
     "execution_count": 14,
     "metadata": {},
     "output_type": "execute_result"
    }
   ],
   "source": [
    "# Show all rows that are part of duplicate set\n",
    "# Other `keep` options will drop some or all duplicates\n",
    "temps[temps.index.duplicated(keep=False)]"
   ]
  },
  {
   "cell_type": "code",
   "execution_count": 15,
   "metadata": {},
   "outputs": [
    {
     "name": "stdout",
     "output_type": "stream",
     "text": [
      "Length of original DataFrame: 169,513\n",
      "Length of de-duped DataFrame: 169,492\n"
     ]
    },
    {
     "data": {
      "text/plain": [
       "True"
      ]
     },
     "execution_count": 15,
     "metadata": {},
     "output_type": "execute_result"
    }
   ],
   "source": [
    "no_dups = (temps\n",
    "             .reset_index()  # De-dup on named column\n",
    "             .drop_duplicates(keep='first', subset='index')\n",
    "             .set_index('index'))\n",
    "\n",
    "print(f\"Length of original DataFrame: {len(temps):,}\")\n",
    "print(f\"Length of de-duped DataFrame: {len(no_dups):,}\")\n",
    "\n",
    "# Check if datetime index is now unique\n",
    "no_dups.index.is_unique"
   ]
  },
  {
   "cell_type": "code",
   "execution_count": 16,
   "metadata": {},
   "outputs": [
    {
     "name": "stdout",
     "output_type": "stream",
     "text": [
      "Length of mean-by-duplicate: 169,492\n"
     ]
    },
    {
     "data": {
      "text/plain": [
       "True"
      ]
     },
     "execution_count": 16,
     "metadata": {},
     "output_type": "execute_result"
    }
   ],
   "source": [
    "mean_dups = temps.groupby(temps.index).mean()\n",
    "\n",
    "print(f\"Length of mean-by-duplicate: {len(mean_dups):,}\")\n",
    "mean_dups.index.is_unique"
   ]
  },
  {
   "cell_type": "markdown",
   "metadata": {},
   "source": [
    "### Adding Timestamps"
   ]
  },
  {
   "cell_type": "code",
   "execution_count": 17,
   "metadata": {},
   "outputs": [
    {
     "data": {
      "text/html": [
       "<div>\n",
       "<style scoped>\n",
       "    .dataframe tbody tr th:only-of-type {\n",
       "        vertical-align: middle;\n",
       "    }\n",
       "\n",
       "    .dataframe tbody tr th {\n",
       "        vertical-align: top;\n",
       "    }\n",
       "\n",
       "    .dataframe thead th {\n",
       "        text-align: right;\n",
       "    }\n",
       "</style>\n",
       "<table border=\"1\" class=\"dataframe\">\n",
       "  <thead>\n",
       "    <tr style=\"text-align: right;\">\n",
       "      <th></th>\n",
       "      <th>degrees</th>\n",
       "    </tr>\n",
       "    <tr>\n",
       "      <th>index</th>\n",
       "      <th></th>\n",
       "    </tr>\n",
       "  </thead>\n",
       "  <tbody>\n",
       "    <tr>\n",
       "      <th>2003-07-31</th>\n",
       "      <td>21.508462</td>\n",
       "    </tr>\n",
       "    <tr>\n",
       "      <th>2003-08-31</th>\n",
       "      <td>20.945075</td>\n",
       "    </tr>\n",
       "    <tr>\n",
       "      <th>2003-09-30</th>\n",
       "      <td>14.179293</td>\n",
       "    </tr>\n",
       "    <tr>\n",
       "      <th>2003-10-31</th>\n",
       "      <td>12.544181</td>\n",
       "    </tr>\n",
       "    <tr>\n",
       "      <th>...</th>\n",
       "      <td>...</td>\n",
       "    </tr>\n",
       "    <tr>\n",
       "      <th>2004-04-30</th>\n",
       "      <td>7.708277</td>\n",
       "    </tr>\n",
       "    <tr>\n",
       "      <th>2004-05-31</th>\n",
       "      <td>14.357831</td>\n",
       "    </tr>\n",
       "    <tr>\n",
       "      <th>2004-06-30</th>\n",
       "      <td>15.420425</td>\n",
       "    </tr>\n",
       "    <tr>\n",
       "      <th>2004-07-31</th>\n",
       "      <td>20.527493</td>\n",
       "    </tr>\n",
       "  </tbody>\n",
       "</table>\n",
       "<p>13 rows × 1 columns</p>\n",
       "</div>"
      ],
      "text/plain": [
       "              degrees\n",
       "index                \n",
       "2003-07-31  21.508462\n",
       "2003-08-31  20.945075\n",
       "2003-09-30  14.179293\n",
       "2003-10-31  12.544181\n",
       "...               ...\n",
       "2004-04-30   7.708277\n",
       "2004-05-31  14.357831\n",
       "2004-06-30  15.420425\n",
       "2004-07-31  20.527493\n",
       "\n",
       "[13 rows x 1 columns]"
      ]
     },
     "execution_count": 17,
     "metadata": {},
     "output_type": "execute_result"
    }
   ],
   "source": [
    "# See Pandas docs, it is easy to confuse M=month with m=minute\n",
    "no_dups.resample('1M').mean()"
   ]
  },
  {
   "cell_type": "code",
   "execution_count": 18,
   "metadata": {},
   "outputs": [
    {
     "data": {
      "text/html": [
       "<div>\n",
       "<style scoped>\n",
       "    .dataframe tbody tr th:only-of-type {\n",
       "        vertical-align: middle;\n",
       "    }\n",
       "\n",
       "    .dataframe tbody tr th {\n",
       "        vertical-align: top;\n",
       "    }\n",
       "\n",
       "    .dataframe thead th {\n",
       "        text-align: right;\n",
       "    }\n",
       "</style>\n",
       "<table border=\"1\" class=\"dataframe\">\n",
       "  <thead>\n",
       "    <tr style=\"text-align: right;\">\n",
       "      <th></th>\n",
       "      <th>degrees</th>\n",
       "    </tr>\n",
       "    <tr>\n",
       "      <th>month_name</th>\n",
       "      <th></th>\n",
       "    </tr>\n",
       "  </thead>\n",
       "  <tbody>\n",
       "    <tr>\n",
       "      <th>January</th>\n",
       "      <td>0.433968</td>\n",
       "    </tr>\n",
       "    <tr>\n",
       "      <th>February</th>\n",
       "      <td>-0.209109</td>\n",
       "    </tr>\n",
       "    <tr>\n",
       "      <th>March</th>\n",
       "      <td>7.848025</td>\n",
       "    </tr>\n",
       "    <tr>\n",
       "      <th>April</th>\n",
       "      <td>7.708277</td>\n",
       "    </tr>\n",
       "    <tr>\n",
       "      <th>...</th>\n",
       "      <td>...</td>\n",
       "    </tr>\n",
       "    <tr>\n",
       "      <th>September</th>\n",
       "      <td>14.179293</td>\n",
       "    </tr>\n",
       "    <tr>\n",
       "      <th>October</th>\n",
       "      <td>12.544181</td>\n",
       "    </tr>\n",
       "    <tr>\n",
       "      <th>November</th>\n",
       "      <td>2.332037</td>\n",
       "    </tr>\n",
       "    <tr>\n",
       "      <th>December</th>\n",
       "      <td>0.667080</td>\n",
       "    </tr>\n",
       "  </tbody>\n",
       "</table>\n",
       "<p>12 rows × 1 columns</p>\n",
       "</div>"
      ],
      "text/plain": [
       "              degrees\n",
       "month_name           \n",
       "January      0.433968\n",
       "February    -0.209109\n",
       "March        7.848025\n",
       "April        7.708277\n",
       "...               ...\n",
       "September   14.179293\n",
       "October     12.544181\n",
       "November     2.332037\n",
       "December     0.667080\n",
       "\n",
       "[12 rows x 1 columns]"
      ]
     },
     "execution_count": 18,
     "metadata": {},
     "output_type": "execute_result"
    }
   ],
   "source": [
    "# Groupby both month number and name\n",
    "by_month = no_dups.groupby(\n",
    "    [no_dups.index.month, no_dups.index.month_name()])\n",
    "# The mean temperature over the month\n",
    "by_month = by_month.mean()\n",
    "# Discard the month number now that result is sorted\n",
    "by_month = by_month.droplevel(0)\n",
    "# Name the index\n",
    "by_month.index.name = 'month_name'\n",
    "by_month"
   ]
  },
  {
   "cell_type": "code",
   "execution_count": 19,
   "metadata": {},
   "outputs": [
    {
     "data": {
      "text/html": [
       "<div>\n",
       "<style scoped>\n",
       "    .dataframe tbody tr th:only-of-type {\n",
       "        vertical-align: middle;\n",
       "    }\n",
       "\n",
       "    .dataframe tbody tr th {\n",
       "        vertical-align: top;\n",
       "    }\n",
       "\n",
       "    .dataframe thead th {\n",
       "        text-align: right;\n",
       "    }\n",
       "</style>\n",
       "<table border=\"1\" class=\"dataframe\">\n",
       "  <thead>\n",
       "    <tr style=\"text-align: right;\">\n",
       "      <th></th>\n",
       "      <th>degrees</th>\n",
       "    </tr>\n",
       "    <tr>\n",
       "      <th>index</th>\n",
       "      <th></th>\n",
       "    </tr>\n",
       "  </thead>\n",
       "  <tbody>\n",
       "    <tr>\n",
       "      <th>2003-07-25 16:04:00</th>\n",
       "      <td>27.5</td>\n",
       "    </tr>\n",
       "    <tr>\n",
       "      <th>2003-07-25 16:07:00</th>\n",
       "      <td>27.3</td>\n",
       "    </tr>\n",
       "    <tr>\n",
       "      <th>2003-07-25 16:10:00</th>\n",
       "      <td>27.3</td>\n",
       "    </tr>\n",
       "    <tr>\n",
       "      <th>2003-07-25 16:13:00</th>\n",
       "      <td>27.4</td>\n",
       "    </tr>\n",
       "    <tr>\n",
       "      <th>...</th>\n",
       "      <td>...</td>\n",
       "    </tr>\n",
       "    <tr>\n",
       "      <th>2004-07-16 15:19:00</th>\n",
       "      <td>16.9</td>\n",
       "    </tr>\n",
       "    <tr>\n",
       "      <th>2004-07-16 15:22:00</th>\n",
       "      <td>16.8</td>\n",
       "    </tr>\n",
       "    <tr>\n",
       "      <th>2004-07-16 15:25:00</th>\n",
       "      <td>16.8</td>\n",
       "    </tr>\n",
       "    <tr>\n",
       "      <th>2004-07-16 15:28:00</th>\n",
       "      <td>16.4</td>\n",
       "    </tr>\n",
       "  </tbody>\n",
       "</table>\n",
       "<p>171349 rows × 1 columns</p>\n",
       "</div>"
      ],
      "text/plain": [
       "                     degrees\n",
       "index                       \n",
       "2003-07-25 16:04:00     27.5\n",
       "2003-07-25 16:07:00     27.3\n",
       "2003-07-25 16:10:00     27.3\n",
       "2003-07-25 16:13:00     27.4\n",
       "...                      ...\n",
       "2004-07-16 15:19:00     16.9\n",
       "2004-07-16 15:22:00     16.8\n",
       "2004-07-16 15:25:00     16.8\n",
       "2004-07-16 15:28:00     16.4\n",
       "\n",
       "[171349 rows x 1 columns]"
      ]
     },
     "execution_count": 19,
     "metadata": {},
     "output_type": "execute_result"
    }
   ],
   "source": [
    "filled_temps = no_dups.asfreq('3T')\n",
    "filled_temps"
   ]
  },
  {
   "cell_type": "code",
   "execution_count": 20,
   "metadata": {},
   "outputs": [
    {
     "data": {
      "text/plain": [
       "1858"
      ]
     },
     "execution_count": 20,
     "metadata": {},
     "output_type": "execute_result"
    }
   ],
   "source": [
    "sum(filled_temps.degrees.isnull())"
   ]
  },
  {
   "cell_type": "code",
   "execution_count": 21,
   "metadata": {},
   "outputs": [
    {
     "data": {
      "text/html": [
       "<div>\n",
       "<style scoped>\n",
       "    .dataframe tbody tr th:only-of-type {\n",
       "        vertical-align: middle;\n",
       "    }\n",
       "\n",
       "    .dataframe tbody tr th {\n",
       "        vertical-align: top;\n",
       "    }\n",
       "\n",
       "    .dataframe thead th {\n",
       "        text-align: right;\n",
       "    }\n",
       "</style>\n",
       "<table border=\"1\" class=\"dataframe\">\n",
       "  <thead>\n",
       "    <tr style=\"text-align: right;\">\n",
       "      <th></th>\n",
       "      <th>degrees</th>\n",
       "    </tr>\n",
       "    <tr>\n",
       "      <th>Timestamp</th>\n",
       "      <th></th>\n",
       "    </tr>\n",
       "  </thead>\n",
       "  <tbody>\n",
       "    <tr>\n",
       "      <th>2003-07-25 16:04:00</th>\n",
       "      <td>27.5</td>\n",
       "    </tr>\n",
       "    <tr>\n",
       "      <th>2003-07-25 16:05:00</th>\n",
       "      <td>NaN</td>\n",
       "    </tr>\n",
       "    <tr>\n",
       "      <th>2003-07-25 16:06:00</th>\n",
       "      <td>NaN</td>\n",
       "    </tr>\n",
       "    <tr>\n",
       "      <th>2003-07-25 16:07:00</th>\n",
       "      <td>27.3</td>\n",
       "    </tr>\n",
       "    <tr>\n",
       "      <th>...</th>\n",
       "      <td>...</td>\n",
       "    </tr>\n",
       "    <tr>\n",
       "      <th>2004-07-16 15:25:00</th>\n",
       "      <td>16.8</td>\n",
       "    </tr>\n",
       "    <tr>\n",
       "      <th>2004-07-16 15:26:00</th>\n",
       "      <td>NaN</td>\n",
       "    </tr>\n",
       "    <tr>\n",
       "      <th>2004-07-16 15:27:00</th>\n",
       "      <td>NaN</td>\n",
       "    </tr>\n",
       "    <tr>\n",
       "      <th>2004-07-16 15:28:00</th>\n",
       "      <td>16.4</td>\n",
       "    </tr>\n",
       "  </tbody>\n",
       "</table>\n",
       "<p>514045 rows × 1 columns</p>\n",
       "</div>"
      ],
      "text/plain": [
       "                     degrees\n",
       "Timestamp                   \n",
       "2003-07-25 16:04:00     27.5\n",
       "2003-07-25 16:05:00      NaN\n",
       "2003-07-25 16:06:00      NaN\n",
       "2003-07-25 16:07:00     27.3\n",
       "...                      ...\n",
       "2004-07-16 15:25:00     16.8\n",
       "2004-07-16 15:26:00      NaN\n",
       "2004-07-16 15:27:00      NaN\n",
       "2004-07-16 15:28:00     16.4\n",
       "\n",
       "[514045 rows x 1 columns]"
      ]
     },
     "execution_count": 21,
     "metadata": {},
     "output_type": "execute_result"
    }
   ],
   "source": [
    "one_minute_temps = no_dups.asfreq('1T')\n",
    "one_minute_temps.index.name = 'Timestamp'\n",
    "one_minute_temps"
   ]
  },
  {
   "cell_type": "code",
   "execution_count": 22,
   "metadata": {},
   "outputs": [
    {
     "data": {
      "text/html": [
       "<div>\n",
       "<style scoped>\n",
       "    .dataframe tbody tr th:only-of-type {\n",
       "        vertical-align: middle;\n",
       "    }\n",
       "\n",
       "    .dataframe tbody tr th {\n",
       "        vertical-align: top;\n",
       "    }\n",
       "\n",
       "    .dataframe thead th {\n",
       "        text-align: right;\n",
       "    }\n",
       "</style>\n",
       "<table border=\"1\" class=\"dataframe\">\n",
       "  <thead>\n",
       "    <tr style=\"text-align: right;\">\n",
       "      <th></th>\n",
       "      <th>degrees</th>\n",
       "    </tr>\n",
       "    <tr>\n",
       "      <th>Timestamp</th>\n",
       "      <th></th>\n",
       "    </tr>\n",
       "  </thead>\n",
       "  <tbody>\n",
       "    <tr>\n",
       "      <th>2003-07-25 16:04:00</th>\n",
       "      <td>27.500000</td>\n",
       "    </tr>\n",
       "    <tr>\n",
       "      <th>2003-07-25 16:05:00</th>\n",
       "      <td>27.082346</td>\n",
       "    </tr>\n",
       "    <tr>\n",
       "      <th>2003-07-25 16:06:00</th>\n",
       "      <td>27.079049</td>\n",
       "    </tr>\n",
       "    <tr>\n",
       "      <th>2003-07-25 16:07:00</th>\n",
       "      <td>27.300000</td>\n",
       "    </tr>\n",
       "    <tr>\n",
       "      <th>2003-07-25 16:08:00</th>\n",
       "      <td>27.072395</td>\n",
       "    </tr>\n",
       "  </tbody>\n",
       "</table>\n",
       "</div>"
      ],
      "text/plain": [
       "                       degrees\n",
       "Timestamp                     \n",
       "2003-07-25 16:04:00  27.500000\n",
       "2003-07-25 16:05:00  27.082346\n",
       "2003-07-25 16:06:00  27.079049\n",
       "2003-07-25 16:07:00  27.300000\n",
       "2003-07-25 16:08:00  27.072395"
      ]
     },
     "execution_count": 22,
     "metadata": {},
     "output_type": "execute_result"
    }
   ],
   "source": [
    "one_minute_temps.interpolate(method='spline', order=3, \n",
    "                             inplace=True)\n",
    "one_minute_temps.head()"
   ]
  },
  {
   "cell_type": "code",
   "execution_count": 23,
   "metadata": {},
   "outputs": [
    {
     "data": {
      "image/png": "[encoded data removed]",
      "text/plain": [
       "<Figure size 1200x300 with 1 Axes>"
      ]
     },
     "metadata": {},
     "output_type": "display_data"
    }
   ],
   "source": [
    "(one_minute_temps\n",
    "     .loc['2003-12-07':'2003-12-12', 'degrees']\n",
    "     .plot(title=\"Spline intepolation of missing temps\", \n",
    "           figsize=(12,3)))\n",
    "plt.savefig(\"img/(Ch07)Spline intepolation of missing temps.png\")"
   ]
  },
  {
   "cell_type": "markdown",
   "metadata": {},
   "source": [
    "## String fields"
   ]
  },
  {
   "cell_type": "code",
   "execution_count": 34,
   "metadata": {},
   "outputs": [
    {
     "data": {
      "text/html": [
       "<div>\n",
       "<style scoped>\n",
       "    .dataframe tbody tr th:only-of-type {\n",
       "        vertical-align: middle;\n",
       "    }\n",
       "\n",
       "    .dataframe tbody tr th {\n",
       "        vertical-align: top;\n",
       "    }\n",
       "\n",
       "    .dataframe thead th {\n",
       "        text-align: right;\n",
       "    }\n",
       "</style>\n",
       "<table border=\"1\" class=\"dataframe\">\n",
       "  <thead>\n",
       "    <tr style=\"text-align: right;\">\n",
       "      <th></th>\n",
       "      <th>Part_No</th>\n",
       "      <th>Description</th>\n",
       "      <th>Maker</th>\n",
       "      <th>Price</th>\n",
       "    </tr>\n",
       "  </thead>\n",
       "  <tbody>\n",
       "    <tr>\n",
       "      <th>0</th>\n",
       "      <td>12345</td>\n",
       "      <td>Wankle rotary engine</td>\n",
       "      <td>Acme Corporation</td>\n",
       "      <td>$ 555.55</td>\n",
       "    </tr>\n",
       "    <tr>\n",
       "      <th>1</th>\n",
       "      <td>No.678</td>\n",
       "      <td>Sousaphone</td>\n",
       "      <td>Marching Inc.</td>\n",
       "      <td>$ 333.33</td>\n",
       "    </tr>\n",
       "    <tr>\n",
       "      <th>2</th>\n",
       "      <td>2468</td>\n",
       "      <td>Feather Duster</td>\n",
       "      <td>Sweeps Bros</td>\n",
       "      <td>$  22.22</td>\n",
       "    </tr>\n",
       "    <tr>\n",
       "      <th>3</th>\n",
       "      <td>#9922</td>\n",
       "      <td>Area 51 metal fragment</td>\n",
       "      <td>No Such Agency</td>\n",
       "      <td>$9999.99</td>\n",
       "    </tr>\n",
       "  </tbody>\n",
       "</table>\n",
       "</div>"
      ],
      "text/plain": [
       "  Part_No             Description             Maker     Price\n",
       "0   12345    Wankle rotary engine  Acme Corporation  $ 555.55\n",
       "1  No.678              Sousaphone     Marching Inc.  $ 333.33\n",
       "2    2468          Feather Duster       Sweeps Bros  $  22.22\n",
       "3   #9922  Area 51 metal fragment    No Such Agency  $9999.99"
      ]
     },
     "execution_count": 34,
     "metadata": {},
     "output_type": "execute_result"
    }
   ],
   "source": [
    "df = pd.read_fwf('data/parts2.fwf')\n",
    "df"
   ]
  },
  {
   "cell_type": "code",
   "execution_count": 35,
   "metadata": {},
   "outputs": [],
   "source": [
    "# Regular expression to strip all non-digits\n",
    "df['Part_No'] = (df.Part_No\n",
    "                     .str.replace(r'[^0-9]', '', regex = True)\n",
    "                     .astype(np.uint16))\n",
    "\n",
    "# Remove spaces or $ from start of strings\n",
    "df['Price'] = (df.Price\n",
    "                   .str.lstrip(\"$ \")\n",
    "                   .astype(float))"
   ]
  },
  {
   "cell_type": "code",
   "execution_count": 36,
   "metadata": {},
   "outputs": [
    {
     "data": {
      "text/plain": [
       "Part_No         uint16\n",
       "Description     object\n",
       "Maker           object\n",
       "Price          float64\n",
       "dtype: object"
      ]
     },
     "execution_count": 36,
     "metadata": {},
     "output_type": "execute_result"
    }
   ],
   "source": [
    "df.dtypes"
   ]
  },
  {
   "cell_type": "code",
   "execution_count": 37,
   "metadata": {},
   "outputs": [
    {
     "data": {
      "text/html": [
       "<div>\n",
       "<style scoped>\n",
       "    .dataframe tbody tr th:only-of-type {\n",
       "        vertical-align: middle;\n",
       "    }\n",
       "\n",
       "    .dataframe tbody tr th {\n",
       "        vertical-align: top;\n",
       "    }\n",
       "\n",
       "    .dataframe thead th {\n",
       "        text-align: right;\n",
       "    }\n",
       "</style>\n",
       "<table border=\"1\" class=\"dataframe\">\n",
       "  <thead>\n",
       "    <tr style=\"text-align: right;\">\n",
       "      <th></th>\n",
       "      <th>Part_No</th>\n",
       "      <th>Description</th>\n",
       "      <th>Maker</th>\n",
       "      <th>Price</th>\n",
       "    </tr>\n",
       "  </thead>\n",
       "  <tbody>\n",
       "    <tr>\n",
       "      <th>0</th>\n",
       "      <td>12345</td>\n",
       "      <td>Wankle rotary engine</td>\n",
       "      <td>Acme Corporation</td>\n",
       "      <td>555.55</td>\n",
       "    </tr>\n",
       "    <tr>\n",
       "      <th>1</th>\n",
       "      <td>678</td>\n",
       "      <td>Sousaphone</td>\n",
       "      <td>Marching Inc.</td>\n",
       "      <td>333.33</td>\n",
       "    </tr>\n",
       "    <tr>\n",
       "      <th>2</th>\n",
       "      <td>2468</td>\n",
       "      <td>Feather Duster</td>\n",
       "      <td>Sweeps Bros</td>\n",
       "      <td>22.22</td>\n",
       "    </tr>\n",
       "    <tr>\n",
       "      <th>3</th>\n",
       "      <td>9922</td>\n",
       "      <td>Area 51 metal fragment</td>\n",
       "      <td>No Such Agency</td>\n",
       "      <td>9999.99</td>\n",
       "    </tr>\n",
       "  </tbody>\n",
       "</table>\n",
       "</div>"
      ],
      "text/plain": [
       "   Part_No             Description             Maker    Price\n",
       "0    12345    Wankle rotary engine  Acme Corporation   555.55\n",
       "1      678              Sousaphone     Marching Inc.   333.33\n",
       "2     2468          Feather Duster       Sweeps Bros    22.22\n",
       "3     9922  Area 51 metal fragment    No Such Agency  9999.99"
      ]
     },
     "execution_count": 37,
     "metadata": {},
     "output_type": "execute_result"
    }
   ],
   "source": [
    "df"
   ]
  },
  {
   "cell_type": "markdown",
   "metadata": {},
   "source": [
    "### Fuzzy Matching"
   ]
  },
  {
   "cell_type": "code",
   "execution_count": 38,
   "metadata": {},
   "outputs": [
    {
     "data": {
      "text/html": [
       "<div>\n",
       "<style scoped>\n",
       "    .dataframe tbody tr th:only-of-type {\n",
       "        vertical-align: middle;\n",
       "    }\n",
       "\n",
       "    .dataframe tbody tr th {\n",
       "        vertical-align: top;\n",
       "    }\n",
       "\n",
       "    .dataframe thead th {\n",
       "        text-align: right;\n",
       "    }\n",
       "</style>\n",
       "<table border=\"1\" class=\"dataframe\">\n",
       "  <thead>\n",
       "    <tr style=\"text-align: right;\">\n",
       "      <th></th>\n",
       "      <th>Last_Name</th>\n",
       "      <th>Other_Data</th>\n",
       "    </tr>\n",
       "    <tr>\n",
       "      <th>Group</th>\n",
       "      <th></th>\n",
       "      <th></th>\n",
       "    </tr>\n",
       "  </thead>\n",
       "  <tbody>\n",
       "    <tr>\n",
       "      <th>1</th>\n",
       "      <td>Levenshtein</td>\n",
       "      <td>103</td>\n",
       "    </tr>\n",
       "    <tr>\n",
       "      <th>1</th>\n",
       "      <td>Levenschtein</td>\n",
       "      <td>158</td>\n",
       "    </tr>\n",
       "    <tr>\n",
       "      <th>1</th>\n",
       "      <td>Levenstein</td>\n",
       "      <td>110</td>\n",
       "    </tr>\n",
       "    <tr>\n",
       "      <th>2</th>\n",
       "      <td>Hagelin</td>\n",
       "      <td>136</td>\n",
       "    </tr>\n",
       "    <tr>\n",
       "      <th>2</th>\n",
       "      <td>Haslam</td>\n",
       "      <td>105</td>\n",
       "    </tr>\n",
       "    <tr>\n",
       "      <th>2</th>\n",
       "      <td>Haugland</td>\n",
       "      <td>190</td>\n",
       "    </tr>\n",
       "    <tr>\n",
       "      <th>2</th>\n",
       "      <td>Heislen</td>\n",
       "      <td>181</td>\n",
       "    </tr>\n",
       "    <tr>\n",
       "      <th>2</th>\n",
       "      <td>Heslin</td>\n",
       "      <td>106</td>\n",
       "    </tr>\n",
       "  </tbody>\n",
       "</table>\n",
       "</div>"
      ],
      "text/plain": [
       "          Last_Name  Other_Data\n",
       "Group                          \n",
       "1       Levenshtein         103\n",
       "1      Levenschtein         158\n",
       "1        Levenstein         110\n",
       "2           Hagelin         136\n",
       "2            Haslam         105\n",
       "2          Haugland         190\n",
       "2           Heislen         181\n",
       "2            Heslin         106"
      ]
     },
     "execution_count": 38,
     "metadata": {},
     "output_type": "execute_result"
    }
   ],
   "source": [
    "names = pd.read_csv('data/names.csv', index_col='Group')\n",
    "names.head(8)"
   ]
  },
  {
   "cell_type": "code",
   "execution_count": null,
   "metadata": {},
   "outputs": [],
   "source": [
    "!pip install metaphone"
   ]
  },
  {
   "cell_type": "code",
   "execution_count": 41,
   "metadata": {},
   "outputs": [],
   "source": [
    "from metaphone import doublemetaphone\n",
    "\n",
    "metas = zip(*names.Last_Name.map(doublemetaphone))\n",
    "names['meta1'], names['meta2'] = metas"
   ]
  },
  {
   "cell_type": "code",
   "execution_count": 42,
   "metadata": {},
   "outputs": [
    {
     "name": "stdout",
     "output_type": "stream",
     "text": [
      "      Last_Name  Other_Data meta1 meta2\n",
      "Group                                  \n",
      "6         Jeong         191   JNK   ANK\n",
      "6          Jong         157   JNK   ANK\n",
      "6         Chŏng         100   XNK      \n",
      "6         Chung         123   XNK      \n",
      "6          Jung         118   JNK   ANK\n",
      "6         Joung         168   JNK   ANK\n",
      "6         Chong         101   XNK      \n",
      "6        Cheong         133   XNK      \n",
      "6        Choung         104   XNK      \n"
     ]
    }
   ],
   "source": [
    "with show_more_rows():\n",
    "    print(names.loc[6])"
   ]
  },
  {
   "cell_type": "code",
   "execution_count": 43,
   "metadata": {
    "scrolled": true
   },
   "outputs": [
    {
     "name": "stdout",
     "output_type": "stream",
     "text": [
      "       Last_Name  Other_Data meta1 meta2\n",
      "Group                                   \n",
      "5        Gadaffi         197   KTF      \n",
      "5         Gadafi         189   KTF      \n",
      "5         Gadafy         181   KTF      \n",
      "5        Gaddafi         163   KTF      \n",
      "5        Gaddafy         179   KTF      \n",
      "5        Gadhafi         112   KTF      \n",
      "5        Gathafi         187   K0F   KTF\n",
      "5       Ghadaffi         141   KTF      \n",
      "5        Ghadafi         152   KTF      \n",
      "5       Ghaddafi         192   KTF      \n",
      "5       Ghaddafy         122   KTF      \n",
      "5       Gheddafi         142   KTF      \n",
      "5        Kadaffi         139   KTF      \n",
      "5         Kadafi         188   KTF      \n",
      "5        Kaddafi         192   KTF      \n",
      "5        Kadhafi         121   KTF      \n",
      "5        Kazzafi         193   KSF  KTSF\n",
      "5       Khadaffy         148   KTF      \n",
      "5        Khadafy         157   KTF      \n",
      "5       Khaddafi         134   KTF      \n",
      "5         Qadafi         136   KTF      \n",
      "5        Qaddafi         173   KTF      \n",
      "5        Qadhafi         124   KTF      \n",
      "5      Qadhdhafi         114  KTTF      \n",
      "5      Qadhdhāfī         106  KTTF      \n",
      "5       Qadthafi         186   KTF      \n",
      "5        Qathafi         130   K0F   KTF\n",
      "5       Quathafi         145   K0F   KTF\n",
      "5        Qudhafi         158   KTF      \n"
     ]
    }
   ],
   "source": [
    "with show_more_rows():\n",
    "    print(names.loc[5])"
   ]
  },
  {
   "cell_type": "code",
   "execution_count": 44,
   "metadata": {},
   "outputs": [
    {
     "name": "stdout",
     "output_type": "stream",
     "text": [
      "          Last_Name  Other_Data   meta1 meta2\n",
      "Group                                        \n",
      "1       Levenshtein         103  LFNXTN      \n",
      "1      Levenschtein         158  LFNXTN      \n",
      "1        Levenstein         110  LFNSTN      \n",
      "2           Hagelin         136    HJLN  HKLN\n",
      "2            Haslam         105    HSLM      \n",
      "2          Haugland         190   HKLNT      \n",
      "2           Heislen         181     HLN      \n",
      "2            Heslin         106    HSLN      \n",
      "2           Hicklin         151    HKLN      \n",
      "2          Highland         172   HHLNT      \n",
      "2          Hoagland         174   HKLNT      \n",
      "3           Schmidt         107     XMT   SMT\n",
      "3             Shmit         167     XMT      \n",
      "3             Smith         160     SM0   XMT\n",
      "3             Smitt         181     SMT   XMT\n",
      "3              Smit         192     SMT   XMT\n",
      "4             Mertz         173    MRTS      \n",
      "4              Merz         116     MRS      \n",
      "4            Mertes         178    MRTS      \n",
      "4             Hertz         188    HRTS      \n"
     ]
    }
   ],
   "source": [
    "with show_more_rows():\n",
    "    print(names.loc[names.index < 5])"
   ]
  },
  {
   "cell_type": "markdown",
   "metadata": {},
   "source": [
    "### Explicit Categories"
   ]
  },
  {
   "cell_type": "code",
   "execution_count": 45,
   "metadata": {},
   "outputs": [
    {
     "data": {
      "text/html": [
       "<div>\n",
       "<style scoped>\n",
       "    .dataframe tbody tr th:only-of-type {\n",
       "        vertical-align: middle;\n",
       "    }\n",
       "\n",
       "    .dataframe tbody tr th {\n",
       "        vertical-align: top;\n",
       "    }\n",
       "\n",
       "    .dataframe thead th {\n",
       "        text-align: right;\n",
       "    }\n",
       "</style>\n",
       "<table border=\"1\" class=\"dataframe\">\n",
       "  <thead>\n",
       "    <tr style=\"text-align: right;\">\n",
       "      <th></th>\n",
       "      <th>Name</th>\n",
       "      <th>Height</th>\n",
       "      <th>Weight</th>\n",
       "    </tr>\n",
       "  </thead>\n",
       "  <tbody>\n",
       "    <tr>\n",
       "      <th>0</th>\n",
       "      <td>James</td>\n",
       "      <td>167.089607</td>\n",
       "      <td>64.806216</td>\n",
       "    </tr>\n",
       "    <tr>\n",
       "      <th>1</th>\n",
       "      <td>David</td>\n",
       "      <td>181.648633</td>\n",
       "      <td>78.281527</td>\n",
       "    </tr>\n",
       "    <tr>\n",
       "      <th>2</th>\n",
       "      <td>Barbara</td>\n",
       "      <td>176.272800</td>\n",
       "      <td>87.767722</td>\n",
       "    </tr>\n",
       "    <tr>\n",
       "      <th>3</th>\n",
       "      <td>John</td>\n",
       "      <td>173.270164</td>\n",
       "      <td>81.635672</td>\n",
       "    </tr>\n",
       "    <tr>\n",
       "      <th>...</th>\n",
       "      <td>...</td>\n",
       "      <td>...</td>\n",
       "      <td>...</td>\n",
       "    </tr>\n",
       "    <tr>\n",
       "      <th>24996</th>\n",
       "      <td>Michael</td>\n",
       "      <td>163.952580</td>\n",
       "      <td>68.936137</td>\n",
       "    </tr>\n",
       "    <tr>\n",
       "      <th>24997</th>\n",
       "      <td>Marie</td>\n",
       "      <td>164.334317</td>\n",
       "      <td>67.830516</td>\n",
       "    </tr>\n",
       "    <tr>\n",
       "      <th>24998</th>\n",
       "      <td>Robert</td>\n",
       "      <td>171.524117</td>\n",
       "      <td>75.861686</td>\n",
       "    </tr>\n",
       "    <tr>\n",
       "      <th>24999</th>\n",
       "      <td>James</td>\n",
       "      <td>174.949129</td>\n",
       "      <td>71.620899</td>\n",
       "    </tr>\n",
       "  </tbody>\n",
       "</table>\n",
       "<p>25000 rows × 3 columns</p>\n",
       "</div>"
      ],
      "text/plain": [
       "          Name      Height     Weight\n",
       "0        James  167.089607  64.806216\n",
       "1        David  181.648633  78.281527\n",
       "2      Barbara  176.272800  87.767722\n",
       "3         John  173.270164  81.635672\n",
       "...        ...         ...        ...\n",
       "24996  Michael  163.952580  68.936137\n",
       "24997    Marie  164.334317  67.830516\n",
       "24998   Robert  171.524117  75.861686\n",
       "24999    James  174.949129  71.620899\n",
       "\n",
       "[25000 rows x 3 columns]"
      ]
     },
     "execution_count": 45,
     "metadata": {},
     "output_type": "execute_result"
    }
   ],
   "source": [
    "humans = pd.read_csv('data/humans-names.csv')\n",
    "humans"
   ]
  },
  {
   "cell_type": "code",
   "execution_count": 46,
   "metadata": {},
   "outputs": [
    {
     "data": {
      "text/html": [
       "<div>\n",
       "<style scoped>\n",
       "    .dataframe tbody tr th:only-of-type {\n",
       "        vertical-align: middle;\n",
       "    }\n",
       "\n",
       "    .dataframe tbody tr th {\n",
       "        vertical-align: top;\n",
       "    }\n",
       "\n",
       "    .dataframe thead th {\n",
       "        text-align: right;\n",
       "    }\n",
       "</style>\n",
       "<table border=\"1\" class=\"dataframe\">\n",
       "  <thead>\n",
       "    <tr style=\"text-align: right;\">\n",
       "      <th></th>\n",
       "      <th>Name</th>\n",
       "      <th>Height</th>\n",
       "      <th>Weight</th>\n",
       "    </tr>\n",
       "  </thead>\n",
       "  <tbody>\n",
       "    <tr>\n",
       "      <th>0</th>\n",
       "      <td>James</td>\n",
       "      <td>167.089607</td>\n",
       "      <td>64.806216</td>\n",
       "    </tr>\n",
       "    <tr>\n",
       "      <th>1</th>\n",
       "      <td>David</td>\n",
       "      <td>181.648633</td>\n",
       "      <td>78.281527</td>\n",
       "    </tr>\n",
       "    <tr>\n",
       "      <th>2</th>\n",
       "      <td>Barbara</td>\n",
       "      <td>176.272800</td>\n",
       "      <td>87.767722</td>\n",
       "    </tr>\n",
       "    <tr>\n",
       "      <th>3</th>\n",
       "      <td>John</td>\n",
       "      <td>173.270164</td>\n",
       "      <td>81.635672</td>\n",
       "    </tr>\n",
       "    <tr>\n",
       "      <th>...</th>\n",
       "      <td>...</td>\n",
       "      <td>...</td>\n",
       "      <td>...</td>\n",
       "    </tr>\n",
       "    <tr>\n",
       "      <th>24579</th>\n",
       "      <td>Michael</td>\n",
       "      <td>163.952580</td>\n",
       "      <td>68.936137</td>\n",
       "    </tr>\n",
       "    <tr>\n",
       "      <th>24580</th>\n",
       "      <td>Marie</td>\n",
       "      <td>164.334317</td>\n",
       "      <td>67.830516</td>\n",
       "    </tr>\n",
       "    <tr>\n",
       "      <th>24581</th>\n",
       "      <td>Robert</td>\n",
       "      <td>171.524117</td>\n",
       "      <td>75.861686</td>\n",
       "    </tr>\n",
       "    <tr>\n",
       "      <th>24582</th>\n",
       "      <td>James</td>\n",
       "      <td>174.949129</td>\n",
       "      <td>71.620899</td>\n",
       "    </tr>\n",
       "  </tbody>\n",
       "</table>\n",
       "<p>24583 rows × 3 columns</p>\n",
       "</div>"
      ],
      "text/plain": [
       "          Name      Height     Weight\n",
       "0        James  167.089607  64.806216\n",
       "1        David  181.648633  78.281527\n",
       "2      Barbara  176.272800  87.767722\n",
       "3         John  173.270164  81.635672\n",
       "...        ...         ...        ...\n",
       "24579  Michael  163.952580  68.936137\n",
       "24580    Marie  164.334317  67.830516\n",
       "24581   Robert  171.524117  75.861686\n",
       "24582    James  174.949129  71.620899\n",
       "\n",
       "[24583 rows x 3 columns]"
      ]
     },
     "execution_count": 46,
     "metadata": {},
     "output_type": "execute_result"
    }
   ],
   "source": [
    "name_counts = humans.Name.value_counts()\n",
    "uncommon = name_counts[name_counts < 10]\n",
    "humans = (humans\n",
    "              .set_index('Name')\n",
    "              .drop(uncommon.index)\n",
    "              .reset_index())\n",
    "humans"
   ]
  },
  {
   "cell_type": "code",
   "execution_count": 47,
   "metadata": {},
   "outputs": [
    {
     "data": {
      "text/plain": [
       "CategoricalDtype(categories=['Barbara', 'David', 'Elizabeth', 'James', 'Jennifer',\n",
       "                  'Jessica', 'John', 'Jon', 'Joseph', 'Linda', 'Marie', 'Mary',\n",
       "                  'Michael', 'Patricia', 'Richard', 'Robert', 'Susan',\n",
       "                  'William'],\n",
       ", ordered=False, categories_dtype=object)"
      ]
     },
     "execution_count": 47,
     "metadata": {},
     "output_type": "execute_result"
    }
   ],
   "source": [
    "humans['Name'] = humans.Name.astype('category')\n",
    "humans.Name.dtype"
   ]
  },
  {
   "cell_type": "code",
   "execution_count": 48,
   "metadata": {},
   "outputs": [
    {
     "data": {
      "text/html": [
       "<div>\n",
       "<style scoped>\n",
       "    .dataframe tbody tr th:only-of-type {\n",
       "        vertical-align: middle;\n",
       "    }\n",
       "\n",
       "    .dataframe tbody tr th {\n",
       "        vertical-align: top;\n",
       "    }\n",
       "\n",
       "    .dataframe thead th {\n",
       "        text-align: right;\n",
       "    }\n",
       "</style>\n",
       "<table border=\"1\" class=\"dataframe\">\n",
       "  <thead>\n",
       "    <tr style=\"text-align: right;\">\n",
       "      <th></th>\n",
       "      <th>Name</th>\n",
       "      <th>Height</th>\n",
       "      <th>Weight</th>\n",
       "    </tr>\n",
       "  </thead>\n",
       "  <tbody>\n",
       "    <tr>\n",
       "      <th>19</th>\n",
       "      <td>Mary</td>\n",
       "      <td>170.513197</td>\n",
       "      <td>71.145258</td>\n",
       "    </tr>\n",
       "    <tr>\n",
       "      <th>35</th>\n",
       "      <td>Mary</td>\n",
       "      <td>175.783570</td>\n",
       "      <td>73.843096</td>\n",
       "    </tr>\n",
       "    <tr>\n",
       "      <th>54</th>\n",
       "      <td>Mary</td>\n",
       "      <td>166.074242</td>\n",
       "      <td>70.826540</td>\n",
       "    </tr>\n",
       "    <tr>\n",
       "      <th>61</th>\n",
       "      <td>Mary</td>\n",
       "      <td>175.258933</td>\n",
       "      <td>78.888337</td>\n",
       "    </tr>\n",
       "    <tr>\n",
       "      <th>...</th>\n",
       "      <td>...</td>\n",
       "      <td>...</td>\n",
       "      <td>...</td>\n",
       "    </tr>\n",
       "    <tr>\n",
       "      <th>24532</th>\n",
       "      <td>Mary</td>\n",
       "      <td>172.602398</td>\n",
       "      <td>72.602118</td>\n",
       "    </tr>\n",
       "    <tr>\n",
       "      <th>24536</th>\n",
       "      <td>Mary</td>\n",
       "      <td>172.159574</td>\n",
       "      <td>70.383305</td>\n",
       "    </tr>\n",
       "    <tr>\n",
       "      <th>24547</th>\n",
       "      <td>Mary</td>\n",
       "      <td>173.902497</td>\n",
       "      <td>71.545191</td>\n",
       "    </tr>\n",
       "    <tr>\n",
       "      <th>24549</th>\n",
       "      <td>Mary</td>\n",
       "      <td>169.510964</td>\n",
       "      <td>71.460077</td>\n",
       "    </tr>\n",
       "  </tbody>\n",
       "</table>\n",
       "<p>1515 rows × 3 columns</p>\n",
       "</div>"
      ],
      "text/plain": [
       "       Name      Height     Weight\n",
       "19     Mary  170.513197  71.145258\n",
       "35     Mary  175.783570  73.843096\n",
       "54     Mary  166.074242  70.826540\n",
       "61     Mary  175.258933  78.888337\n",
       "...     ...         ...        ...\n",
       "24532  Mary  172.602398  72.602118\n",
       "24536  Mary  172.159574  70.383305\n",
       "24547  Mary  173.902497  71.545191\n",
       "24549  Mary  169.510964  71.460077\n",
       "\n",
       "[1515 rows x 3 columns]"
      ]
     },
     "execution_count": 48,
     "metadata": {},
     "output_type": "execute_result"
    }
   ],
   "source": [
    "humans[humans.Name == 'Mary']"
   ]
  },
  {
   "cell_type": "code",
   "execution_count": 49,
   "metadata": {},
   "outputs": [
    {
     "name": "stdout",
     "output_type": "stream",
     "text": [
      "Rows: 25000 Columns: 3\n",
      "── Column specification ────────────────────────────────────────────────────────\n",
      "Delimiter: \",\"\n",
      "chr (1): Name\n",
      "dbl (2): Height, Weight\n",
      "\n",
      "ℹ Use `spec()` to retrieve the full column specification for this data.\n",
      "ℹ Specify the column types or set `show_col_types = FALSE` to quiet this message.\n",
      "# A tibble: 25,000 × 3\n",
      "   Name      Height Weight\n",
      "   <chr>      <dbl>  <dbl>\n",
      " 1 James       167.   64.8\n",
      " 2 David       182.   78.3\n",
      " 3 Barbara     176.   87.8\n",
      " 4 John        173.   81.6\n",
      " 5 Michael     172.   82.8\n",
      " 6 William     174.   70.7\n",
      " 7 Elizabeth   177.   81.2\n",
      " 8 Joseph      178.   78.3\n",
      " 9 Jessica     172.   64.5\n",
      "10 William     170.   69.2\n",
      "# ℹ 24,990 more rows\n",
      "# ℹ Use `print(n = ...)` to see more rows\n"
     ]
    }
   ],
   "source": [
    "%%capture --no-stdout err\n",
    "%%R\n",
    "humans <- read_csv('data/humans-names.csv')\n",
    "humans"
   ]
  },
  {
   "cell_type": "code",
   "execution_count": 50,
   "metadata": {},
   "outputs": [
    {
     "name": "stdout",
     "output_type": "stream",
     "text": [
      "# A tibble: 25,000 × 3\n",
      "   Name      Height Weight\n",
      "   <fct>      <dbl>  <dbl>\n",
      " 1 James       167.   64.8\n",
      " 2 David       182.   78.3\n",
      " 3 Barbara     176.   87.8\n",
      " 4 John        173.   81.6\n",
      " 5 Michael     172.   82.8\n",
      " 6 William     174.   70.7\n",
      " 7 Elizabeth   177.   81.2\n",
      " 8 Joseph      178.   78.3\n",
      " 9 Jessica     172.   64.5\n",
      "10 William     170.   69.2\n",
      "# ℹ 24,990 more rows\n",
      "# ℹ Use `print(n = ...)` to see more rows\n"
     ]
    }
   ],
   "source": [
    "%%R\n",
    "# Make the column Name into a factor variable\n",
    "humans <- mutate_at(humans, vars(Name), factor) \n",
    "\n",
    "# Any values occurring fewer than 100 times will be \n",
    "# aggregated under then factor level \"UNCOMMON\"\n",
    "humans['Name'] <- fct_lump_min(humans$Name, min = 100, \n",
    "                               other_level = \"UNCOMMON\")\n",
    "humans"
   ]
  },
  {
   "cell_type": "code",
   "execution_count": 51,
   "metadata": {},
   "outputs": [
    {
     "name": "stdout",
     "output_type": "stream",
     "text": [
      " [1] \"Barbara\"   \"David\"     \"Elizabeth\" \"James\"     \"Jennifer\"  \"Jessica\"  \n",
      " [7] \"John\"      \"Jon\"       \"Joseph\"    \"Linda\"     \"Marie\"     \"Mary\"     \n",
      "[13] \"Michael\"   \"Patricia\"  \"Richard\"   \"Robert\"    \"Susan\"     \"William\"  \n",
      "[19] \"UNCOMMON\" \n"
     ]
    }
   ],
   "source": [
    "%%R\n",
    "levels(humans$Name)"
   ]
  },
  {
   "cell_type": "code",
   "execution_count": 52,
   "metadata": {},
   "outputs": [
    {
     "name": "stdout",
     "output_type": "stream",
     "text": [
      "# A tibble: 417 × 3\n",
      "   Name     Height Weight\n",
      "   <fct>     <dbl>  <dbl>\n",
      " 1 UNCOMMON   172.   76.5\n",
      " 2 UNCOMMON   167.   60.3\n",
      " 3 UNCOMMON   182.   85.2\n",
      " 4 UNCOMMON   176.   72.3\n",
      " 5 UNCOMMON   174.   82.1\n",
      " 6 UNCOMMON   170.   66.8\n",
      " 7 UNCOMMON   171.   60.0\n",
      " 8 UNCOMMON   171.   73.9\n",
      " 9 UNCOMMON   171.   80.4\n",
      "10 UNCOMMON   177.   73.3\n",
      "# ℹ 407 more rows\n",
      "# ℹ Use `print(n = ...)` to see more rows\n"
     ]
    }
   ],
   "source": [
    "%%R\n",
    "humans %>% filter(Name == \"UNCOMMON\")"
   ]
  },
  {
   "cell_type": "code",
   "execution_count": 53,
   "metadata": {},
   "outputs": [
    {
     "data": {
      "image/png": "[encoded data removed]",
      "text/plain": [
       "<IPython.core.display.Image object>"
      ]
     },
     "metadata": {},
     "output_type": "display_data"
    }
   ],
   "source": [
    "%%R\n",
    "im <- ggplot(humans, aes(y = Name)) + geom_bar(stat = \"count\")\n",
    "im"
   ]
  },
  {
   "cell_type": "code",
   "execution_count": 54,
   "metadata": {},
   "outputs": [
    {
     "name": "stdout",
     "output_type": "stream",
     "text": [
      "Saving 6.67 x 6.67 in image\n"
     ]
    }
   ],
   "source": [
    "%%capture --no-stdout err\n",
    "%%R\n",
    "ggsave(\"img/(Ch07)name-histogram-with-uncommon.png\", dpi=600)"
   ]
  },
  {
   "cell_type": "markdown",
   "metadata": {},
   "source": [
    "## String Vectors"
   ]
  },
  {
   "cell_type": "code",
   "execution_count": 2,
   "metadata": {},
   "outputs": [],
   "source": [
    "# William Butler Yeats\n",
    "second_coming = \"\"\"\n",
    "Turning and turning in the widening gyre   \n",
    "The falcon cannot hear the falconer;\n",
    "Things fall apart; the centre cannot hold;\n",
    "Mere anarchy is loosed upon the world,\n",
    "The blood-dimmed tide is loosed, and everywhere   \n",
    "The ceremony of innocence is drowned;\n",
    "The best lack all conviction, while the worst   \n",
    "Are full of passionate intensity.\n",
    "\n",
    "Surely some revelation is at hand;\n",
    "Surely the Second Coming is at hand.   \n",
    "The Second Coming! Hardly are those words out   \n",
    "When a vast image out of Spiritus Mundi\n",
    "Troubles my sight: somewhere in sands of the desert   \n",
    "A shape with lion body and the head of a man,   \n",
    "A gaze blank and pitiless as the sun,   \n",
    "Is moving its slow thighs, while all about it   \n",
    "Reel shadows of the indignant desert birds.   \n",
    "The darkness drops again; but now I know   \n",
    "That twenty centuries of stony sleep\n",
    "Were vexed to nightmare by a rocking cradle,   \n",
    "And what rough beast, its hour come round at last,   \n",
    "Slouches towards Bethlehem to be born?\n",
    "\"\"\""
   ]
  },
  {
   "cell_type": "code",
   "execution_count": 5,
   "metadata": {},
   "outputs": [
    {
     "data": {
      "text/plain": [
       "['turning', 'turning', 'widening', 'gyre', 'falcon', 'cannot']"
      ]
     },
     "execution_count": 5,
     "metadata": {},
     "output_type": "execute_result"
    }
   ],
   "source": [
    "def simplify_text(text):\n",
    "    stops = nltk.corpus.stopwords.words('english')\n",
    "    words = re.findall(r'[a-z]+', text.lower())\n",
    "    return [w for w in words if w not in stops]\n",
    "\n",
    "poem = simplify_text(second_coming)\n",
    "poem[:6]"
   ]
  },
  {
   "cell_type": "code",
   "execution_count": 6,
   "metadata": {},
   "outputs": [
    {
     "name": "stdout",
     "output_type": "stream",
     "text": [
      "Vector dimensions=84\n"
     ]
    },
    {
     "data": {
      "text/plain": [
       "[('falcon', 0), ('dimmed', 1), ('hour', 2), ('last', 3), ('words', 4)]"
      ]
     },
     "execution_count": 6,
     "metadata": {},
     "output_type": "execute_result"
    }
   ],
   "source": [
    "word2ndx = {w:n for (n, w) in enumerate(set(poem))}\n",
    "print(f\"Vector dimensions={len(word2ndx)}\")\n",
    "\n",
    "def make_vector(words, word2ndx=word2ndx):\n",
    "    # Generate the vector of zero count per dimension\n",
    "    vec = np.zeros(len(word2ndx), dtype=np.uint16)\n",
    "    for word in words:\n",
    "        # we might ignore unknown word or attempt \n",
    "        # to canonicalize it, here we raise exception\n",
    "        assert word in word2ndx\n",
    "        n = word2ndx[word]\n",
    "        vec[n] += 1\n",
    "    return vec\n",
    "\n",
    "list(word2ndx.items())[:5]"
   ]
  },
  {
   "cell_type": "code",
   "execution_count": 7,
   "metadata": {},
   "outputs": [
    {
     "name": "stdout",
     "output_type": "stream",
     "text": [
      "Stanza 1:\n",
      "[1 1 0 0 0 0 0 0 1 0 0 1 1 1 1 0 1 0 0 0 1 1 1 0 0 1 0 0 0 0 0 0 0 0 0 1 0\n",
      " 1 0 1 0 0 0 0 0 0 1 2 0 0 0 0 1 1 0 1 0 0 1 1 0 0 0 2 0 0 1 0 0 1 0 2 1 0\n",
      " 0 0 1 1 1 1 0 0 0 0]\n",
      "Stanza 2:\n",
      "[0 0 1 1 1 1 2 1 0 1 1 0 0 0 0 1 0 1 1 1 0 0 0 1 1 0 1 1 1 1 2 1 1 1 1 0 1\n",
      " 0 2 0 1 1 1 1 1 1 0 0 1 1 2 1 0 0 1 0 1 1 0 0 1 1 1 0 1 1 0 1 1 0 1 0 0 1\n",
      " 1 1 0 0 0 0 2 1 1 1]\n"
     ]
    }
   ],
   "source": [
    "for i, stanza in enumerate(second_coming.split('\\n\\n')):\n",
    "    print(f\"Stanza {i+1}:\")\n",
    "    print(make_vector(simplify_text(stanza)))"
   ]
  },
  {
   "cell_type": "code",
   "execution_count": 8,
   "metadata": {},
   "outputs": [
    {
     "name": "stdout",
     "output_type": "stream",
     "text": [
      "[('Paul_Faust',\n",
      "  'United',\n",
      "  '@united Love to report how horrible this flight is to '\n",
      "  \"your team. Let's make it worse...as they get to my \"\n",
      "  'seat...out of all snacks'),\n",
      " ('Jennsaint8',\n",
      "  'Southwest',\n",
      "  '@SouthwestAir any chance they will change this to '\n",
      "  'include Northeast airports?  JetBlue has.'),\n",
      " ('_stephanieejayy',\n",
      "  'Delta',\n",
      "  '@JetBlue do you have any afternoon flights going from '\n",
      "  'BQN to JFK? I only seem to find early morning flights.')]\n"
     ]
    }
   ],
   "source": [
    "db = sqlite3.connect('data/Airline-Tweets.sqlite')\n",
    "cur = db.cursor()\n",
    "\n",
    "sql = \"\"\"\n",
    "SELECT name, airline, text \n",
    "FROM Tweets \n",
    "\"\"\"\n",
    "cur.execute(sql)\n",
    "tweets = cur.fetchall()\n",
    "pprint(tweets[5000:5003], width=60)"
   ]
  },
  {
   "cell_type": "code",
   "execution_count": null,
   "metadata": {
    "scrolled": true
   },
   "outputs": [],
   "source": [
    "!pip install --upgrade gensim\n",
    "# restart the kernel"
   ]
  },
  {
   "cell_type": "code",
   "execution_count": 9,
   "metadata": {},
   "outputs": [],
   "source": [
    "from gensim.models.doc2vec import Doc2Vec, TaggedDocument\n",
    "\n",
    "docs = []\n",
    "for (author, airline, msg) in tweets:\n",
    "    td = TaggedDocument(simplify_text(msg), [author, airline])\n",
    "    docs.append(td)\n",
    "\n",
    "# Require words occur at least 4x, look 2 words to each side\n",
    "# The produced vector is 10 dimensional\n",
    "model = Doc2Vec(docs, vector_size=10, window=2, min_count=4)"
   ]
  },
  {
   "cell_type": "code",
   "execution_count": 11,
   "metadata": {},
   "outputs": [
    {
     "name": "stdout",
     "output_type": "stream",
     "text": [
      "Number of words: 3359\n"
     ]
    },
    {
     "data": {
      "text/plain": [
       "['united',\n",
       " 'flight',\n",
       " 'usairways',\n",
       " 'americanair',\n",
       " 'southwestair',\n",
       " 'jetblue',\n",
       " 'get']"
      ]
     },
     "execution_count": 11,
     "metadata": {},
     "output_type": "execute_result"
    }
   ],
   "source": [
    "print(\"Number of words:\", len(model.wv.index_to_key))\n",
    "list(model.wv.key_to_index)[:7]"
   ]
  },
  {
   "cell_type": "code",
   "execution_count": 12,
   "metadata": {},
   "outputs": [
    {
     "name": "stdout",
     "output_type": "stream",
     "text": [
      "@AmericanAir thank you for responding rather quickly btw\n"
     ]
    },
    {
     "data": {
      "text/plain": [
       "array([-0.04338666, -0.1596374 , -0.13851959, -0.11083671, -0.02469394,\n",
       "       -0.02636589,  0.10275329, -0.16033235, -0.3941465 , -0.40132207],\n",
       "      dtype=float32)"
      ]
     },
     "execution_count": 12,
     "metadata": {},
     "output_type": "execute_result"
    }
   ],
   "source": [
    "msg = tweets[11_001][2]\n",
    "print(msg)\n",
    "model.infer_vector(simplify_text(msg))"
   ]
  },
  {
   "cell_type": "code",
   "execution_count": 13,
   "metadata": {},
   "outputs": [
    {
     "data": {
      "text/plain": [
       "array([ 0.01028982, -0.01029472, -0.07406542, -0.09274689, -0.01865385,\n",
       "       -0.04349611, -0.02674023, -0.0259037 ,  0.0122519 , -0.12773861],\n",
       "      dtype=float32)"
      ]
     },
     "execution_count": 13,
     "metadata": {},
     "output_type": "execute_result"
    }
   ],
   "source": [
    "badservice = model.infer_vector(['bad', 'service'])\n",
    "badservice"
   ]
  },
  {
   "cell_type": "code",
   "execution_count": 14,
   "metadata": {},
   "outputs": [
    {
     "name": "stdout",
     "output_type": "stream",
     "text": [
      "Delta:\n",
      "[-1.52127    -2.3590174  -4.3186183  -4.9296927  -0.38914594 -1.9413637\n",
      "  0.6615115   5.0510488  -9.451831   -9.609143  ]\n",
      "\n",
      "United:\n",
      "[-2.8761196 -5.755101  -1.8010364 -5.724102   1.6656172 -3.8141003\n",
      "  3.426973  -1.1337922 -1.2238384 -8.749978 ]\n",
      "\n",
      "JetBlue:\n",
      "[-0.00912944 -0.06442876  0.09061412 -0.06688263  0.04503469 -0.07784047\n",
      " -0.0549182  -0.02002615  0.05514987  0.04012597]\n",
      "\n"
     ]
    }
   ],
   "source": [
    "airlines = ('Delta', 'United', 'JetBlue')\n",
    "delta, united, jetblue = (model.docvecs[x] for x in airlines)\n",
    "print(f\"Delta:\\n{delta}\\n\")\n",
    "print(f\"United:\\n{united}\\n\")\n",
    "print(f\"JetBlue:\\n{jetblue}\\n\")"
   ]
  },
  {
   "cell_type": "code",
   "execution_count": 15,
   "metadata": {},
   "outputs": [
    {
     "name": "stdout",
     "output_type": "stream",
     "text": [
      "Delta  | United  | 0.308\n",
      "Delta  | JetBlue | 1.274\n",
      "United | JetBlue | 0.837\n"
     ]
    }
   ],
   "source": [
    "from scipy.spatial.distance import cosine\n",
    "print(f\"Delta  | United  | {cosine(delta, united):.3f}\")\n",
    "print(f\"Delta  | JetBlue | {cosine(delta, jetblue):.3f}\")\n",
    "print(f\"United | JetBlue | {cosine(united, jetblue):.3f}\")"
   ]
  },
  {
   "cell_type": "markdown",
   "metadata": {},
   "source": [
    "## Decompositions"
   ]
  },
  {
   "cell_type": "markdown",
   "metadata": {},
   "source": [
    "### Rotation and whitening"
   ]
  },
  {
   "cell_type": "code",
   "execution_count": 16,
   "metadata": {},
   "outputs": [
    {
     "data": {
      "image/png": "[encoded data removed]",
      "text/plain": [
       "<Figure size 640x480 with 1 Axes>"
      ]
     },
     "metadata": {},
     "output_type": "display_data"
    }
   ],
   "source": [
    "from src.whiten import data, show\n",
    "\n",
    "# Only two initial features for illustration, \n",
    "# but in general we would have a highly dimensionality\n",
    "show(data, \"Parameter space for two features\", \n",
    "     \"Raw Feature 1\", \"Raw Feature 2\")"
   ]
  },
  {
   "cell_type": "code",
   "execution_count": 17,
   "metadata": {},
   "outputs": [
    {
     "data": {
      "image/png": "[encoded data removed]",
      "text/plain": [
       "<Figure size 640x480 with 1 Axes>"
      ]
     },
     "metadata": {},
     "output_type": "display_data"
    }
   ],
   "source": [
    "from sklearn.decomposition import PCA\n",
    "show(PCA().fit_transform(data), \n",
    "     \"PCA Components\", \"Synthetic Axis 1\", \"Synthetic Axis 2\")"
   ]
  },
  {
   "cell_type": "code",
   "execution_count": 18,
   "metadata": {},
   "outputs": [
    {
     "data": {
      "image/png": "[encoded data removed]",
      "text/plain": [
       "<Figure size 640x480 with 1 Axes>"
      ]
     },
     "metadata": {},
     "output_type": "display_data"
    }
   ],
   "source": [
    "show(PCA(whiten=True).fit_transform(data), \n",
    "     \"Whitened Components\", \"Synthetic Axis 1\", \"Synthetic Axis 2\")"
   ]
  },
  {
   "cell_type": "markdown",
   "metadata": {},
   "source": [
    "### Dimensionality Reduction"
   ]
  },
  {
   "cell_type": "code",
   "execution_count": 19,
   "metadata": {},
   "outputs": [],
   "source": [
    "cancer = load_breast_cancer()\n",
    "X_raw = StandardScaler().fit_transform(cancer.data)\n",
    "y = cancer.target"
   ]
  },
  {
   "cell_type": "code",
   "execution_count": 20,
   "metadata": {},
   "outputs": [],
   "source": [
    "X_pca1 = PCA(n_components=1, whiten=True).fit_transform(X_raw)\n",
    "X_pca2 = PCA(n_components=2, whiten=True).fit_transform(X_raw)\n",
    "X_pca4 = PCA(n_components=4, whiten=True).fit_transform(X_raw)"
   ]
  },
  {
   "cell_type": "code",
   "execution_count": 21,
   "metadata": {},
   "outputs": [
    {
     "name": "stdout",
     "output_type": "stream",
     "text": [
      "Features | X.shape=(569, 30)\t| error_rate=4.90%\n",
      "Features | X.shape=(569, 1)\t| error_rate=9.79%\n",
      "Features | X.shape=(569, 2)\t| error_rate=6.99%\n",
      "Features | X.shape=(569, 4)\t| error_rate=4.20%\n"
     ]
    }
   ],
   "source": [
    "for X in (X_raw, X_pca1, X_pca2, X_pca4):\n",
    "    X_train, X_test, y_train, y_test = (\n",
    "        train_test_split(X, y, random_state=1))\n",
    "    model = KNeighborsClassifier().fit(X_train, y_train)\n",
    "    accuracy = model.score(X_test, y_test)\n",
    "    error_rate = 100*(1-accuracy)\n",
    "    print(f\"Features | {X.shape=}\\t| {error_rate=:.2f}%\")"
   ]
  },
  {
   "cell_type": "code",
   "execution_count": 22,
   "metadata": {},
   "outputs": [
    {
     "data": {
      "text/html": [
       "<div>\n",
       "<style scoped>\n",
       "    .dataframe tbody tr th:only-of-type {\n",
       "        vertical-align: middle;\n",
       "    }\n",
       "\n",
       "    .dataframe tbody tr th {\n",
       "        vertical-align: top;\n",
       "    }\n",
       "\n",
       "    .dataframe thead th {\n",
       "        text-align: right;\n",
       "    }\n",
       "</style>\n",
       "<table border=\"1\" class=\"dataframe\">\n",
       "  <thead>\n",
       "    <tr style=\"text-align: right;\">\n",
       "      <th></th>\n",
       "      <th>pca_1</th>\n",
       "      <th>pca_2</th>\n",
       "      <th>pca_3</th>\n",
       "    </tr>\n",
       "  </thead>\n",
       "  <tbody>\n",
       "    <tr>\n",
       "      <th>mean radius</th>\n",
       "      <td>0.218902</td>\n",
       "      <td>-0.233857</td>\n",
       "      <td>-0.008531</td>\n",
       "    </tr>\n",
       "    <tr>\n",
       "      <th>mean texture</th>\n",
       "      <td>0.103725</td>\n",
       "      <td>-0.059706</td>\n",
       "      <td>0.064550</td>\n",
       "    </tr>\n",
       "    <tr>\n",
       "      <th>mean perimeter</th>\n",
       "      <td>0.227537</td>\n",
       "      <td>-0.215181</td>\n",
       "      <td>-0.009314</td>\n",
       "    </tr>\n",
       "    <tr>\n",
       "      <th>mean area</th>\n",
       "      <td>0.220995</td>\n",
       "      <td>-0.231077</td>\n",
       "      <td>0.028700</td>\n",
       "    </tr>\n",
       "    <tr>\n",
       "      <th>...</th>\n",
       "      <td>...</td>\n",
       "      <td>...</td>\n",
       "      <td>...</td>\n",
       "    </tr>\n",
       "    <tr>\n",
       "      <th>worst concavity</th>\n",
       "      <td>0.228768</td>\n",
       "      <td>0.097964</td>\n",
       "      <td>-0.173057</td>\n",
       "    </tr>\n",
       "    <tr>\n",
       "      <th>worst concave points</th>\n",
       "      <td>0.250886</td>\n",
       "      <td>-0.008257</td>\n",
       "      <td>-0.170344</td>\n",
       "    </tr>\n",
       "    <tr>\n",
       "      <th>worst symmetry</th>\n",
       "      <td>0.122905</td>\n",
       "      <td>0.141883</td>\n",
       "      <td>-0.271313</td>\n",
       "    </tr>\n",
       "    <tr>\n",
       "      <th>worst fractal dimension</th>\n",
       "      <td>0.131784</td>\n",
       "      <td>0.275339</td>\n",
       "      <td>-0.232791</td>\n",
       "    </tr>\n",
       "  </tbody>\n",
       "</table>\n",
       "<p>30 rows × 3 columns</p>\n",
       "</div>"
      ],
      "text/plain": [
       "                            pca_1     pca_2     pca_3\n",
       "mean radius              0.218902 -0.233857 -0.008531\n",
       "mean texture             0.103725 -0.059706  0.064550\n",
       "mean perimeter           0.227537 -0.215181 -0.009314\n",
       "mean area                0.220995 -0.231077  0.028700\n",
       "...                           ...       ...       ...\n",
       "worst concavity          0.228768  0.097964 -0.173057\n",
       "worst concave points     0.250886 -0.008257 -0.170344\n",
       "worst symmetry           0.122905  0.141883 -0.271313\n",
       "worst fractal dimension  0.131784  0.275339 -0.232791\n",
       "\n",
       "[30 rows x 3 columns]"
      ]
     },
     "execution_count": 22,
     "metadata": {},
     "output_type": "execute_result"
    }
   ],
   "source": [
    "pca3 = PCA(n_components=3).fit(X_raw)\n",
    "pd.DataFrame(pca3.components_.T, \n",
    "             index=cancer.feature_names, \n",
    "             columns=['pca_1', 'pca_2', 'pca_3'])"
   ]
  },
  {
   "cell_type": "code",
   "execution_count": 23,
   "metadata": {},
   "outputs": [
    {
     "name": "stdout",
     "output_type": "stream",
     "text": [
      "Row 0 as transform: [ 9.19283683  1.94858307 -1.12316616]\n",
      "Row 0 as mul/sum:   [ 9.19283683  1.94858307 -1.12316616]\n"
     ]
    }
   ],
   "source": [
    "row0_sk = pca3.transform(X_raw)[0]\n",
    "row0_np = (pca3.components_ * X_raw[0]).sum(axis=1)\n",
    "print(f\"Row 0 as transform: {row0_sk}\")\n",
    "print(f\"Row 0 as mul/sum:   {row0_np}\")"
   ]
  },
  {
   "cell_type": "markdown",
   "metadata": {},
   "source": [
    "### Visualization"
   ]
  },
  {
   "cell_type": "code",
   "execution_count": 24,
   "metadata": {},
   "outputs": [
    {
     "data": {
      "image/png": "[encoded data removed]",
      "text/plain": [
       "<Figure size 1000x500 with 10 Axes>"
      ]
     },
     "metadata": {},
     "output_type": "display_data"
    }
   ],
   "source": [
    "digits = get_digits()"
   ]
  },
  {
   "cell_type": "code",
   "execution_count": 25,
   "metadata": {},
   "outputs": [
    {
     "data": {
      "image/png": "[encoded data removed]",
      "text/plain": [
       "<Figure size 800x800 with 1 Axes>"
      ]
     },
     "metadata": {},
     "output_type": "display_data"
    }
   ],
   "source": [
    "pca_digits = PCA(n_components=2).fit_transform(digits.data)\n",
    "plot_digits(pca_digits, digits, \"PCA\")"
   ]
  },
  {
   "cell_type": "code",
   "execution_count": 26,
   "metadata": {},
   "outputs": [
    {
     "data": {
      "image/png": "[encoded data removed]",
      "text/plain": [
       "<Figure size 800x800 with 1 Axes>"
      ]
     },
     "metadata": {},
     "output_type": "display_data"
    }
   ],
   "source": [
    "tsne_digits = TSNE(random_state=1).fit_transform(digits.data)\n",
    "plot_digits(tsne_digits, digits, \"t-SNE\")"
   ]
  },
  {
   "cell_type": "markdown",
   "metadata": {},
   "source": [
    "## Quantization and Binarization"
   ]
  },
  {
   "cell_type": "code",
   "execution_count": 27,
   "metadata": {},
   "outputs": [
    {
     "data": {
      "text/html": [
       "<div>\n",
       "<style scoped>\n",
       "    .dataframe tbody tr th:only-of-type {\n",
       "        vertical-align: middle;\n",
       "    }\n",
       "\n",
       "    .dataframe tbody tr th {\n",
       "        vertical-align: top;\n",
       "    }\n",
       "\n",
       "    .dataframe thead th {\n",
       "        text-align: right;\n",
       "    }\n",
       "</style>\n",
       "<table border=\"1\" class=\"dataframe\">\n",
       "  <thead>\n",
       "    <tr style=\"text-align: right;\">\n",
       "      <th></th>\n",
       "      <th>Language</th>\n",
       "      <th>Experience</th>\n",
       "      <th>Age</th>\n",
       "      <th>Post_Secondary</th>\n",
       "      <th>Success</th>\n",
       "    </tr>\n",
       "  </thead>\n",
       "  <tbody>\n",
       "    <tr>\n",
       "      <th>95</th>\n",
       "      <td>C++</td>\n",
       "      <td>1.0</td>\n",
       "      <td>57</td>\n",
       "      <td>12</td>\n",
       "      <td>7</td>\n",
       "    </tr>\n",
       "    <tr>\n",
       "      <th>44</th>\n",
       "      <td>Python</td>\n",
       "      <td>7.0</td>\n",
       "      <td>24</td>\n",
       "      <td>11</td>\n",
       "      <td>5</td>\n",
       "    </tr>\n",
       "    <tr>\n",
       "      <th>56</th>\n",
       "      <td>R</td>\n",
       "      <td>2.0</td>\n",
       "      <td>46</td>\n",
       "      <td>9</td>\n",
       "      <td>10</td>\n",
       "    </tr>\n",
       "    <tr>\n",
       "      <th>97</th>\n",
       "      <td>Python</td>\n",
       "      <td>2.0</td>\n",
       "      <td>23</td>\n",
       "      <td>3</td>\n",
       "      <td>5</td>\n",
       "    </tr>\n",
       "    <tr>\n",
       "      <th>69</th>\n",
       "      <td>Python</td>\n",
       "      <td>5.0</td>\n",
       "      <td>53</td>\n",
       "      <td>4</td>\n",
       "      <td>8</td>\n",
       "    </tr>\n",
       "    <tr>\n",
       "      <th>114</th>\n",
       "      <td>Python</td>\n",
       "      <td>25.0</td>\n",
       "      <td>76</td>\n",
       "      <td>23</td>\n",
       "      <td>1</td>\n",
       "    </tr>\n",
       "  </tbody>\n",
       "</table>\n",
       "</div>"
      ],
      "text/plain": [
       "    Language  Experience  Age  Post_Secondary  Success\n",
       "95       C++         1.0   57              12        7\n",
       "44    Python         7.0   24              11        5\n",
       "56         R         2.0   46               9       10\n",
       "97    Python         2.0   23               3        5\n",
       "69    Python         5.0   53               4        8\n",
       "114   Python        25.0   76              23        1"
      ]
     },
     "execution_count": 27,
     "metadata": {},
     "output_type": "execute_result"
    }
   ],
   "source": [
    "survey = pd.read_csv('data/ML-survey.csv')\n",
    "survey.sample(6, random_state=1)"
   ]
  },
  {
   "cell_type": "code",
   "execution_count": 28,
   "metadata": {},
   "outputs": [
    {
     "data": {
      "image/png": "[encoded data removed]",
      "text/plain": [
       "<Figure size 640x480 with 1 Axes>"
      ]
     },
     "metadata": {},
     "output_type": "display_data"
    }
   ],
   "source": [
    "title=\"Distribution of Ratings\"\n",
    "(survey\n",
    "    .Success\n",
    "    .value_counts()\n",
    "    .sort_index()\n",
    "    .plot(kind='bar', title=title))\n",
    "plt.savefig(f'img/(Ch07){title}.png')"
   ]
  },
  {
   "cell_type": "code",
   "execution_count": 29,
   "metadata": {},
   "outputs": [
    {
     "data": {
      "text/plain": [
       "0       True\n",
       "1       True\n",
       "2       True\n",
       "3      False\n",
       "       ...  \n",
       "112    False\n",
       "113     True\n",
       "114    False\n",
       "115     True\n",
       "Name: Success, Length: 116, dtype: bool"
      ]
     },
     "execution_count": 29,
     "metadata": {},
     "output_type": "execute_result"
    }
   ],
   "source": [
    "survey.Success >= 8"
   ]
  },
  {
   "cell_type": "code",
   "execution_count": 30,
   "metadata": {},
   "outputs": [
    {
     "data": {
      "text/html": [
       "<div>\n",
       "<style scoped>\n",
       "    .dataframe tbody tr th:only-of-type {\n",
       "        vertical-align: middle;\n",
       "    }\n",
       "\n",
       "    .dataframe tbody tr th {\n",
       "        vertical-align: top;\n",
       "    }\n",
       "\n",
       "    .dataframe thead th {\n",
       "        text-align: right;\n",
       "    }\n",
       "</style>\n",
       "<table border=\"1\" class=\"dataframe\">\n",
       "  <thead>\n",
       "    <tr style=\"text-align: right;\">\n",
       "      <th></th>\n",
       "      <th>Language</th>\n",
       "      <th>Experience</th>\n",
       "      <th>Age</th>\n",
       "      <th>Post_Secondary</th>\n",
       "      <th>Success</th>\n",
       "    </tr>\n",
       "  </thead>\n",
       "  <tbody>\n",
       "    <tr>\n",
       "      <th>0</th>\n",
       "      <td>Python</td>\n",
       "      <td>20.0</td>\n",
       "      <td>53</td>\n",
       "      <td>13</td>\n",
       "      <td>1</td>\n",
       "    </tr>\n",
       "    <tr>\n",
       "      <th>1</th>\n",
       "      <td>Python</td>\n",
       "      <td>4.0</td>\n",
       "      <td>33</td>\n",
       "      <td>7</td>\n",
       "      <td>1</td>\n",
       "    </tr>\n",
       "    <tr>\n",
       "      <th>2</th>\n",
       "      <td>Python</td>\n",
       "      <td>1.0</td>\n",
       "      <td>31</td>\n",
       "      <td>10</td>\n",
       "      <td>1</td>\n",
       "    </tr>\n",
       "    <tr>\n",
       "      <th>3</th>\n",
       "      <td>Python</td>\n",
       "      <td>12.0</td>\n",
       "      <td>60</td>\n",
       "      <td>12</td>\n",
       "      <td>0</td>\n",
       "    </tr>\n",
       "    <tr>\n",
       "      <th>...</th>\n",
       "      <td>...</td>\n",
       "      <td>...</td>\n",
       "      <td>...</td>\n",
       "      <td>...</td>\n",
       "      <td>...</td>\n",
       "    </tr>\n",
       "    <tr>\n",
       "      <th>112</th>\n",
       "      <td>Python</td>\n",
       "      <td>4.0</td>\n",
       "      <td>35</td>\n",
       "      <td>4</td>\n",
       "      <td>0</td>\n",
       "    </tr>\n",
       "    <tr>\n",
       "      <th>113</th>\n",
       "      <td>Python</td>\n",
       "      <td>3.0</td>\n",
       "      <td>44</td>\n",
       "      <td>6</td>\n",
       "      <td>1</td>\n",
       "    </tr>\n",
       "    <tr>\n",
       "      <th>114</th>\n",
       "      <td>Python</td>\n",
       "      <td>25.0</td>\n",
       "      <td>76</td>\n",
       "      <td>23</td>\n",
       "      <td>0</td>\n",
       "    </tr>\n",
       "    <tr>\n",
       "      <th>115</th>\n",
       "      <td>Python</td>\n",
       "      <td>25.0</td>\n",
       "      <td>75</td>\n",
       "      <td>12</td>\n",
       "      <td>1</td>\n",
       "    </tr>\n",
       "  </tbody>\n",
       "</table>\n",
       "<p>116 rows × 5 columns</p>\n",
       "</div>"
      ],
      "text/plain": [
       "    Language  Experience  Age  Post_Secondary  Success\n",
       "0     Python        20.0   53              13        1\n",
       "1     Python         4.0   33               7        1\n",
       "2     Python         1.0   31              10        1\n",
       "3     Python        12.0   60              12        0\n",
       "..       ...         ...  ...             ...      ...\n",
       "112   Python         4.0   35               4        0\n",
       "113   Python         3.0   44               6        1\n",
       "114   Python        25.0   76              23        0\n",
       "115   Python        25.0   75              12        1\n",
       "\n",
       "[116 rows x 5 columns]"
      ]
     },
     "execution_count": 30,
     "metadata": {},
     "output_type": "execute_result"
    }
   ],
   "source": [
    "from sklearn.preprocessing import Binarizer\n",
    "\n",
    "# Set threshold anywhere *between* 7 and 8\n",
    "binary_rating = Binarizer(threshold=7.5)\n",
    "\n",
    "# Pass 2-D DataFrame, not Series\n",
    "success = binary_rating.fit_transform(survey[['Success']])\n",
    "\n",
    "# Maintaining versions is good practice\n",
    "survey2 = survey.copy()\n",
    "survey2['Success'] = success\n",
    "survey2"
   ]
  },
  {
   "cell_type": "code",
   "execution_count": 31,
   "metadata": {},
   "outputs": [
    {
     "data": {
      "image/png": "[encoded data removed]",
      "text/plain": [
       "<Figure size 640x480 with 1 Axes>"
      ]
     },
     "metadata": {},
     "output_type": "display_data"
    }
   ],
   "source": [
    "title=\"Distribution of Education\"\n",
    "(survey2\n",
    "    .Post_Secondary\n",
    "    .plot(kind=\"hist\", bins=20, title=title))\n",
    "plt.savefig(f'img/(Ch07){title}.png')"
   ]
  },
  {
   "cell_type": "code",
   "execution_count": 32,
   "metadata": {},
   "outputs": [
    {
     "data": {
      "text/html": [
       "<div>\n",
       "<style scoped>\n",
       "    .dataframe tbody tr th:only-of-type {\n",
       "        vertical-align: middle;\n",
       "    }\n",
       "\n",
       "    .dataframe tbody tr th {\n",
       "        vertical-align: top;\n",
       "    }\n",
       "\n",
       "    .dataframe thead th {\n",
       "        text-align: right;\n",
       "    }\n",
       "</style>\n",
       "<table border=\"1\" class=\"dataframe\">\n",
       "  <thead>\n",
       "    <tr style=\"text-align: right;\">\n",
       "      <th></th>\n",
       "      <th>Language</th>\n",
       "      <th>Experience</th>\n",
       "      <th>Age</th>\n",
       "      <th>Success</th>\n",
       "      <th>Education</th>\n",
       "    </tr>\n",
       "  </thead>\n",
       "  <tbody>\n",
       "    <tr>\n",
       "      <th>24</th>\n",
       "      <td>Python</td>\n",
       "      <td>3.0</td>\n",
       "      <td>28</td>\n",
       "      <td>1</td>\n",
       "      <td>0</td>\n",
       "    </tr>\n",
       "    <tr>\n",
       "      <th>89</th>\n",
       "      <td>Python</td>\n",
       "      <td>12.0</td>\n",
       "      <td>46</td>\n",
       "      <td>0</td>\n",
       "      <td>2</td>\n",
       "    </tr>\n",
       "    <tr>\n",
       "      <th>28</th>\n",
       "      <td>Python</td>\n",
       "      <td>3.0</td>\n",
       "      <td>31</td>\n",
       "      <td>1</td>\n",
       "      <td>1</td>\n",
       "    </tr>\n",
       "    <tr>\n",
       "      <th>56</th>\n",
       "      <td>R</td>\n",
       "      <td>2.0</td>\n",
       "      <td>46</td>\n",
       "      <td>1</td>\n",
       "      <td>2</td>\n",
       "    </tr>\n",
       "    <tr>\n",
       "      <th>2</th>\n",
       "      <td>Python</td>\n",
       "      <td>1.0</td>\n",
       "      <td>31</td>\n",
       "      <td>1</td>\n",
       "      <td>2</td>\n",
       "    </tr>\n",
       "    <tr>\n",
       "      <th>53</th>\n",
       "      <td>Python</td>\n",
       "      <td>10.0</td>\n",
       "      <td>3</td>\n",
       "      <td>1</td>\n",
       "      <td>2</td>\n",
       "    </tr>\n",
       "    <tr>\n",
       "      <th>45</th>\n",
       "      <td>Python</td>\n",
       "      <td>1.0</td>\n",
       "      <td>31</td>\n",
       "      <td>0</td>\n",
       "      <td>2</td>\n",
       "    </tr>\n",
       "    <tr>\n",
       "      <th>79</th>\n",
       "      <td>JavaScript</td>\n",
       "      <td>1.0</td>\n",
       "      <td>32</td>\n",
       "      <td>1</td>\n",
       "      <td>1</td>\n",
       "    </tr>\n",
       "  </tbody>\n",
       "</table>\n",
       "</div>"
      ],
      "text/plain": [
       "      Language  Experience  Age  Success  Education\n",
       "24      Python         3.0   28        1          0\n",
       "89      Python        12.0   46        0          2\n",
       "28      Python         3.0   31        1          1\n",
       "56           R         2.0   46        1          2\n",
       "2       Python         1.0   31        1          2\n",
       "53      Python        10.0    3        1          2\n",
       "45      Python         1.0   31        0          2\n",
       "79  JavaScript         1.0   32        1          1"
      ]
     },
     "execution_count": 32,
     "metadata": {},
     "output_type": "execute_result"
    }
   ],
   "source": [
    "from sklearn.preprocessing import KBinsDiscretizer\n",
    "\n",
    "# Create a binner with 3 balanced bins\n",
    "edu_bin = KBinsDiscretizer(n_bins=3, \n",
    "                           encode='ordinal', \n",
    "                           strategy='quantile')\n",
    "\n",
    "# Bin the Post_Secondary column\n",
    "level = edu_bin.fit_transform(survey2[['Post_Secondary']])\n",
    "\n",
    "# In this version, rename the binned field \"Education\"\n",
    "survey3 = survey2.copy()\n",
    "survey3['Education'] = level.astype(np.uint8)\n",
    "survey3.drop('Post_Secondary', axis=1, inplace=True)\n",
    "survey3.sample(8, random_state=2)"
   ]
  },
  {
   "cell_type": "code",
   "execution_count": 33,
   "metadata": {},
   "outputs": [
    {
     "name": "stdout",
     "output_type": "stream",
     "text": [
      "Education cut-offs:\n",
      "[-12.           4.33333333   7.          23.        ] \n",
      "\n",
      "Count per bin:\n",
      "Education\n",
      "2    44\n",
      "0    39\n",
      "1    33\n",
      "Name: count, dtype: int64\n"
     ]
    }
   ],
   "source": [
    "print(\"Education cut-offs:\")\n",
    "print(edu_bin.bin_edges_[0], '\\n')\n",
    "print(\"Count per bin:\")\n",
    "print(survey3.Education.value_counts())"
   ]
  },
  {
   "cell_type": "code",
   "execution_count": 34,
   "metadata": {},
   "outputs": [
    {
     "data": {
      "text/html": [
       "<div>\n",
       "<style scoped>\n",
       "    .dataframe tbody tr th:only-of-type {\n",
       "        vertical-align: middle;\n",
       "    }\n",
       "\n",
       "    .dataframe tbody tr th {\n",
       "        vertical-align: top;\n",
       "    }\n",
       "\n",
       "    .dataframe thead th {\n",
       "        text-align: right;\n",
       "    }\n",
       "</style>\n",
       "<table border=\"1\" class=\"dataframe\">\n",
       "  <thead>\n",
       "    <tr style=\"text-align: right;\">\n",
       "      <th></th>\n",
       "      <th>Language</th>\n",
       "      <th>Experience</th>\n",
       "      <th>Age</th>\n",
       "      <th>Success</th>\n",
       "      <th>Education</th>\n",
       "    </tr>\n",
       "  </thead>\n",
       "  <tbody>\n",
       "    <tr>\n",
       "      <th>83</th>\n",
       "      <td>MATLAB</td>\n",
       "      <td>1</td>\n",
       "      <td>37</td>\n",
       "      <td>0</td>\n",
       "      <td>2</td>\n",
       "    </tr>\n",
       "    <tr>\n",
       "      <th>5</th>\n",
       "      <td>Python</td>\n",
       "      <td>0</td>\n",
       "      <td>32</td>\n",
       "      <td>1</td>\n",
       "      <td>0</td>\n",
       "    </tr>\n",
       "    <tr>\n",
       "      <th>6</th>\n",
       "      <td>Python</td>\n",
       "      <td>0</td>\n",
       "      <td>34</td>\n",
       "      <td>0</td>\n",
       "      <td>2</td>\n",
       "    </tr>\n",
       "    <tr>\n",
       "      <th>42</th>\n",
       "      <td>MATLAB</td>\n",
       "      <td>0</td>\n",
       "      <td>31</td>\n",
       "      <td>0</td>\n",
       "      <td>2</td>\n",
       "    </tr>\n",
       "    <tr>\n",
       "      <th>100</th>\n",
       "      <td>Python</td>\n",
       "      <td>0</td>\n",
       "      <td>47</td>\n",
       "      <td>0</td>\n",
       "      <td>2</td>\n",
       "    </tr>\n",
       "    <tr>\n",
       "      <th>97</th>\n",
       "      <td>Python</td>\n",
       "      <td>0</td>\n",
       "      <td>23</td>\n",
       "      <td>0</td>\n",
       "      <td>0</td>\n",
       "    </tr>\n",
       "    <tr>\n",
       "      <th>40</th>\n",
       "      <td>Python</td>\n",
       "      <td>1</td>\n",
       "      <td>33</td>\n",
       "      <td>1</td>\n",
       "      <td>2</td>\n",
       "    </tr>\n",
       "    <tr>\n",
       "      <th>25</th>\n",
       "      <td>R</td>\n",
       "      <td>0</td>\n",
       "      <td>36</td>\n",
       "      <td>1</td>\n",
       "      <td>0</td>\n",
       "    </tr>\n",
       "  </tbody>\n",
       "</table>\n",
       "</div>"
      ],
      "text/plain": [
       "    Language  Experience  Age  Success  Education\n",
       "83    MATLAB           1   37        0          2\n",
       "5     Python           0   32        1          0\n",
       "6     Python           0   34        0          2\n",
       "42    MATLAB           0   31        0          2\n",
       "100   Python           0   47        0          2\n",
       "97    Python           0   23        0          0\n",
       "40    Python           1   33        1          2\n",
       "25         R           0   36        1          0"
      ]
     },
     "execution_count": 34,
     "metadata": {},
     "output_type": "execute_result"
    }
   ],
   "source": [
    "# Create a binner with 5 bins of same numeric range\n",
    "exp = KBinsDiscretizer(n_bins=5, \n",
    "                       encode='ordinal', \n",
    "                       strategy='uniform')\n",
    "\n",
    "# Bin the Experience column\n",
    "exp_level = exp.fit_transform(survey3[['Experience']])\n",
    "\n",
    "# Retain the Experience name, but new meaning\n",
    "survey4 = survey3.copy()\n",
    "survey4['Experience'] = exp_level.astype(np.uint8)\n",
    "survey4.sample(8, random_state=3)"
   ]
  },
  {
   "cell_type": "code",
   "execution_count": 35,
   "metadata": {},
   "outputs": [
    {
     "name": "stdout",
     "output_type": "stream",
     "text": [
      "Experience cut-offs:\n",
      "[ 0.   5.4 10.8 16.2 21.6 27. ] \n",
      "\n",
      "Count per bin:\n",
      "Experience\n",
      "0    93\n",
      "1    14\n",
      "2     4\n",
      "3     1\n",
      "4     4\n",
      "Name: count, dtype: int64\n"
     ]
    }
   ],
   "source": [
    "print(\"Experience cut-offs:\")\n",
    "print(exp.bin_edges_[0], '\\n')\n",
    "print(\"Count per bin:\")\n",
    "print(survey4\n",
    "        .Experience.value_counts()\n",
    "        .sort_index())"
   ]
  },
  {
   "cell_type": "code",
   "execution_count": 36,
   "metadata": {},
   "outputs": [
    {
     "data": {
      "text/plain": [
       "mean    36.965517\n",
       "min      3.000000\n",
       "max     99.000000\n",
       "Name: Age, dtype: float64"
      ]
     },
     "execution_count": 36,
     "metadata": {},
     "output_type": "execute_result"
    }
   ],
   "source": [
    "survey4.Age.describe()[['mean', 'min', 'max']]"
   ]
  },
  {
   "cell_type": "code",
   "execution_count": 37,
   "metadata": {},
   "outputs": [
    {
     "data": {
      "text/html": [
       "<div>\n",
       "<style scoped>\n",
       "    .dataframe tbody tr th:only-of-type {\n",
       "        vertical-align: middle;\n",
       "    }\n",
       "\n",
       "    .dataframe tbody tr th {\n",
       "        vertical-align: top;\n",
       "    }\n",
       "\n",
       "    .dataframe thead th {\n",
       "        text-align: right;\n",
       "    }\n",
       "</style>\n",
       "<table border=\"1\" class=\"dataframe\">\n",
       "  <thead>\n",
       "    <tr style=\"text-align: right;\">\n",
       "      <th></th>\n",
       "      <th>Language</th>\n",
       "      <th>Experience</th>\n",
       "      <th>Age</th>\n",
       "      <th>Post_Secondary</th>\n",
       "      <th>Success</th>\n",
       "    </tr>\n",
       "  </thead>\n",
       "  <tbody>\n",
       "    <tr>\n",
       "      <th>53</th>\n",
       "      <td>Python</td>\n",
       "      <td>10.0</td>\n",
       "      <td>3</td>\n",
       "      <td>9</td>\n",
       "      <td>9</td>\n",
       "    </tr>\n",
       "    <tr>\n",
       "      <th>85</th>\n",
       "      <td>Python</td>\n",
       "      <td>3.0</td>\n",
       "      <td>3</td>\n",
       "      <td>10</td>\n",
       "      <td>6</td>\n",
       "    </tr>\n",
       "  </tbody>\n",
       "</table>\n",
       "</div>"
      ],
      "text/plain": [
       "   Language  Experience  Age  Post_Secondary  Success\n",
       "53   Python        10.0    3               9        9\n",
       "85   Python         3.0    3              10        6"
      ]
     },
     "execution_count": 37,
     "metadata": {},
     "output_type": "execute_result"
    }
   ],
   "source": [
    "survey[survey.Age < 10]"
   ]
  },
  {
   "cell_type": "code",
   "execution_count": 38,
   "metadata": {},
   "outputs": [
    {
     "data": {
      "text/html": [
       "<div>\n",
       "<style scoped>\n",
       "    .dataframe tbody tr th:only-of-type {\n",
       "        vertical-align: middle;\n",
       "    }\n",
       "\n",
       "    .dataframe tbody tr th {\n",
       "        vertical-align: top;\n",
       "    }\n",
       "\n",
       "    .dataframe thead th {\n",
       "        text-align: right;\n",
       "    }\n",
       "</style>\n",
       "<table border=\"1\" class=\"dataframe\">\n",
       "  <thead>\n",
       "    <tr style=\"text-align: right;\">\n",
       "      <th></th>\n",
       "      <th>Language</th>\n",
       "      <th>Experience</th>\n",
       "      <th>Success</th>\n",
       "      <th>Education</th>\n",
       "      <th>Young</th>\n",
       "      <th>Mid_Age</th>\n",
       "      <th>Old</th>\n",
       "    </tr>\n",
       "  </thead>\n",
       "  <tbody>\n",
       "    <tr>\n",
       "      <th>13</th>\n",
       "      <td>Python</td>\n",
       "      <td>0</td>\n",
       "      <td>0</td>\n",
       "      <td>2</td>\n",
       "      <td>0</td>\n",
       "      <td>1</td>\n",
       "      <td>0</td>\n",
       "    </tr>\n",
       "    <tr>\n",
       "      <th>2</th>\n",
       "      <td>Python</td>\n",
       "      <td>0</td>\n",
       "      <td>1</td>\n",
       "      <td>2</td>\n",
       "      <td>0</td>\n",
       "      <td>1</td>\n",
       "      <td>0</td>\n",
       "    </tr>\n",
       "    <tr>\n",
       "      <th>25</th>\n",
       "      <td>R</td>\n",
       "      <td>0</td>\n",
       "      <td>1</td>\n",
       "      <td>0</td>\n",
       "      <td>0</td>\n",
       "      <td>1</td>\n",
       "      <td>0</td>\n",
       "    </tr>\n",
       "    <tr>\n",
       "      <th>16</th>\n",
       "      <td>Python</td>\n",
       "      <td>0</td>\n",
       "      <td>1</td>\n",
       "      <td>0</td>\n",
       "      <td>0</td>\n",
       "      <td>0</td>\n",
       "      <td>1</td>\n",
       "    </tr>\n",
       "    <tr>\n",
       "      <th>19</th>\n",
       "      <td>Python</td>\n",
       "      <td>0</td>\n",
       "      <td>0</td>\n",
       "      <td>1</td>\n",
       "      <td>0</td>\n",
       "      <td>0</td>\n",
       "      <td>1</td>\n",
       "    </tr>\n",
       "    <tr>\n",
       "      <th>79</th>\n",
       "      <td>JavaScript</td>\n",
       "      <td>0</td>\n",
       "      <td>1</td>\n",
       "      <td>1</td>\n",
       "      <td>0</td>\n",
       "      <td>1</td>\n",
       "      <td>0</td>\n",
       "    </tr>\n",
       "    <tr>\n",
       "      <th>5</th>\n",
       "      <td>Python</td>\n",
       "      <td>0</td>\n",
       "      <td>1</td>\n",
       "      <td>0</td>\n",
       "      <td>0</td>\n",
       "      <td>1</td>\n",
       "      <td>0</td>\n",
       "    </tr>\n",
       "    <tr>\n",
       "      <th>24</th>\n",
       "      <td>Python</td>\n",
       "      <td>0</td>\n",
       "      <td>1</td>\n",
       "      <td>0</td>\n",
       "      <td>1</td>\n",
       "      <td>0</td>\n",
       "      <td>0</td>\n",
       "    </tr>\n",
       "  </tbody>\n",
       "</table>\n",
       "</div>"
      ],
      "text/plain": [
       "      Language  Experience  Success  Education  Young  Mid_Age  Old\n",
       "13      Python           0        0          2      0        1    0\n",
       "2       Python           0        1          2      0        1    0\n",
       "25           R           0        1          0      0        1    0\n",
       "16      Python           0        1          0      0        0    1\n",
       "19      Python           0        0          1      0        0    1\n",
       "79  JavaScript           0        1          1      0        1    0\n",
       "5       Python           0        1          0      0        1    0\n",
       "24      Python           0        1          0      1        0    0"
      ]
     },
     "execution_count": 38,
     "metadata": {},
     "output_type": "execute_result"
    }
   ],
   "source": [
    "# Create next version and impute for bad data\n",
    "survey5 = survey4.copy()\n",
    "survey5.loc[survey5.Age == 3, 'Age'] = 35\n",
    "\n",
    "# Create a binner with 3 bins to 3 columns\n",
    "# Note: a sparse array with \"onehot\"\n",
    "age_bin = KBinsDiscretizer(n_bins=3, \n",
    "                           encode='onehot-dense', \n",
    "                           strategy='quantile')\n",
    "\n",
    "# Bin and split the Age column\n",
    "age = age_bin.fit_transform(survey5[['Age']])\n",
    "age = age.astype(np.uint8).T\n",
    "survey5 = survey5.assign(Young=age[0], \n",
    "                         Mid_Age=age[1], \n",
    "                         Old=age[2])\n",
    "survey5.drop('Age', axis=1, inplace=True)\n",
    "survey5.sample(8, random_state=4)"
   ]
  },
  {
   "cell_type": "markdown",
   "metadata": {},
   "source": [
    "## One-Hot Encoding"
   ]
  },
  {
   "cell_type": "code",
   "execution_count": 39,
   "metadata": {},
   "outputs": [
    {
     "data": {
      "text/html": [
       "<div>\n",
       "<style scoped>\n",
       "    .dataframe tbody tr th:only-of-type {\n",
       "        vertical-align: middle;\n",
       "    }\n",
       "\n",
       "    .dataframe tbody tr th {\n",
       "        vertical-align: top;\n",
       "    }\n",
       "\n",
       "    .dataframe thead th {\n",
       "        text-align: right;\n",
       "    }\n",
       "</style>\n",
       "<table border=\"1\" class=\"dataframe\">\n",
       "  <thead>\n",
       "    <tr style=\"text-align: right;\">\n",
       "      <th></th>\n",
       "      <th>83</th>\n",
       "      <th>5</th>\n",
       "      <th>6</th>\n",
       "      <th>42</th>\n",
       "      <th>100</th>\n",
       "      <th>97</th>\n",
       "      <th>40</th>\n",
       "      <th>25</th>\n",
       "      <th>115</th>\n",
       "      <th>103</th>\n",
       "    </tr>\n",
       "  </thead>\n",
       "  <tbody>\n",
       "    <tr>\n",
       "      <th>Lang_C++</th>\n",
       "      <td>False</td>\n",
       "      <td>False</td>\n",
       "      <td>False</td>\n",
       "      <td>False</td>\n",
       "      <td>False</td>\n",
       "      <td>False</td>\n",
       "      <td>False</td>\n",
       "      <td>False</td>\n",
       "      <td>False</td>\n",
       "      <td>False</td>\n",
       "    </tr>\n",
       "    <tr>\n",
       "      <th>Lang_JavaScript</th>\n",
       "      <td>False</td>\n",
       "      <td>False</td>\n",
       "      <td>False</td>\n",
       "      <td>False</td>\n",
       "      <td>False</td>\n",
       "      <td>False</td>\n",
       "      <td>False</td>\n",
       "      <td>False</td>\n",
       "      <td>False</td>\n",
       "      <td>False</td>\n",
       "    </tr>\n",
       "    <tr>\n",
       "      <th>Lang_MATLAB</th>\n",
       "      <td>True</td>\n",
       "      <td>False</td>\n",
       "      <td>False</td>\n",
       "      <td>True</td>\n",
       "      <td>False</td>\n",
       "      <td>False</td>\n",
       "      <td>False</td>\n",
       "      <td>False</td>\n",
       "      <td>False</td>\n",
       "      <td>False</td>\n",
       "    </tr>\n",
       "    <tr>\n",
       "      <th>Lang_Python</th>\n",
       "      <td>False</td>\n",
       "      <td>True</td>\n",
       "      <td>True</td>\n",
       "      <td>False</td>\n",
       "      <td>True</td>\n",
       "      <td>True</td>\n",
       "      <td>True</td>\n",
       "      <td>False</td>\n",
       "      <td>True</td>\n",
       "      <td>False</td>\n",
       "    </tr>\n",
       "    <tr>\n",
       "      <th>Lang_R</th>\n",
       "      <td>False</td>\n",
       "      <td>False</td>\n",
       "      <td>False</td>\n",
       "      <td>False</td>\n",
       "      <td>False</td>\n",
       "      <td>False</td>\n",
       "      <td>False</td>\n",
       "      <td>True</td>\n",
       "      <td>False</td>\n",
       "      <td>True</td>\n",
       "    </tr>\n",
       "    <tr>\n",
       "      <th>Lang_Scala</th>\n",
       "      <td>False</td>\n",
       "      <td>False</td>\n",
       "      <td>False</td>\n",
       "      <td>False</td>\n",
       "      <td>False</td>\n",
       "      <td>False</td>\n",
       "      <td>False</td>\n",
       "      <td>False</td>\n",
       "      <td>False</td>\n",
       "      <td>False</td>\n",
       "    </tr>\n",
       "    <tr>\n",
       "      <th>Lang_VB</th>\n",
       "      <td>False</td>\n",
       "      <td>False</td>\n",
       "      <td>False</td>\n",
       "      <td>False</td>\n",
       "      <td>False</td>\n",
       "      <td>False</td>\n",
       "      <td>False</td>\n",
       "      <td>False</td>\n",
       "      <td>False</td>\n",
       "      <td>False</td>\n",
       "    </tr>\n",
       "    <tr>\n",
       "      <th>Lang_Whitespace</th>\n",
       "      <td>False</td>\n",
       "      <td>False</td>\n",
       "      <td>False</td>\n",
       "      <td>False</td>\n",
       "      <td>False</td>\n",
       "      <td>False</td>\n",
       "      <td>False</td>\n",
       "      <td>False</td>\n",
       "      <td>False</td>\n",
       "      <td>False</td>\n",
       "    </tr>\n",
       "  </tbody>\n",
       "</table>\n",
       "</div>"
      ],
      "text/plain": [
       "                   83     5      6      42     100    97     40     25   \\\n",
       "Lang_C++         False  False  False  False  False  False  False  False   \n",
       "Lang_JavaScript  False  False  False  False  False  False  False  False   \n",
       "Lang_MATLAB       True  False  False   True  False  False  False  False   \n",
       "Lang_Python      False   True   True  False   True   True   True  False   \n",
       "Lang_R           False  False  False  False  False  False  False   True   \n",
       "Lang_Scala       False  False  False  False  False  False  False  False   \n",
       "Lang_VB          False  False  False  False  False  False  False  False   \n",
       "Lang_Whitespace  False  False  False  False  False  False  False  False   \n",
       "\n",
       "                   115    103  \n",
       "Lang_C++         False  False  \n",
       "Lang_JavaScript  False  False  \n",
       "Lang_MATLAB      False  False  \n",
       "Lang_Python       True  False  \n",
       "Lang_R           False   True  \n",
       "Lang_Scala       False  False  \n",
       "Lang_VB          False  False  \n",
       "Lang_Whitespace  False  False  "
      ]
     },
     "execution_count": 39,
     "metadata": {},
     "output_type": "execute_result"
    }
   ],
   "source": [
    "survey6 = pd.get_dummies(survey5, prefix=\"Lang\")\n",
    "survey6.sample(10, random_state=3).T.tail(8)"
   ]
  },
  {
   "cell_type": "code",
   "execution_count": 42,
   "metadata": {},
   "outputs": [
    {
     "name": "stdout",
     "output_type": "stream",
     "text": [
      "['Language_C++' 'Language_JavaScript' 'Language_MATLAB' 'Language_Python'\n",
      " 'Language_R' 'Language_Scala' 'Language_VB' 'Language_Whitespace']\n",
      "\n",
      "A few encoded rows:\n",
      "[[0. 0. 0. 1. 0. 0. 0. 0.]\n",
      " [0. 0. 0. 0. 0. 0. 0. 1.]\n",
      " [0. 0. 0. 1. 0. 0. 0. 0.]\n",
      " [0. 0. 1. 0. 0. 0. 0. 0.]\n",
      " [0. 0. 0. 1. 0. 0. 0. 0.]\n",
      " [0. 0. 0. 1. 0. 0. 0. 0.]\n",
      " [0. 0. 0. 1. 0. 0. 0. 0.]\n",
      " [0. 0. 0. 1. 0. 0. 0. 0.]\n",
      " [0. 0. 0. 0. 1. 0. 0. 0.]\n",
      " [0. 0. 0. 1. 0. 0. 0. 0.]]\n"
     ]
    }
   ],
   "source": [
    "from sklearn.preprocessing import OneHotEncoder\n",
    "lang = survey5[['Language']]\n",
    "enc = OneHotEncoder(sparse_output=False).fit(lang)\n",
    "one_hot = enc.transform(lang)\n",
    "print(enc.get_feature_names_out())\n",
    "print(\"\\nA few encoded rows:\")\n",
    "print(one_hot[80:90])"
   ]
  },
  {
   "cell_type": "code",
   "execution_count": 43,
   "metadata": {},
   "outputs": [
    {
     "name": "stdout",
     "output_type": "stream",
     "text": [
      "Experience             3\n",
      "Success                1\n",
      "Education              2\n",
      "Young                  0\n",
      "Mid_Age                0\n",
      "Old                    1\n",
      "Lang_C++           False\n",
      "Lang_JavaScript    False\n",
      "Lang_MATLAB        False\n",
      "Lang_Python         True\n",
      "Lang_R             False\n",
      "Lang_Scala         False\n",
      "Lang_VB            False\n",
      "Lang_Whitespace    False\n",
      "Name: 0, dtype: object\n"
     ]
    }
   ],
   "source": [
    "with show_more_rows():\n",
    "    print(survey6.loc[0])"
   ]
  },
  {
   "cell_type": "markdown",
   "metadata": {},
   "source": [
    "## Polynomial Features"
   ]
  },
  {
   "cell_type": "code",
   "execution_count": 44,
   "metadata": {},
   "outputs": [],
   "source": [
    "cancer = load_breast_cancer()\n",
    "X_raw = MinMaxScaler().fit_transform(cancer.data)\n",
    "y = cancer.target"
   ]
  },
  {
   "cell_type": "markdown",
   "metadata": {},
   "source": [
    "### Generating Synthetic Features"
   ]
  },
  {
   "cell_type": "code",
   "execution_count": 45,
   "metadata": {},
   "outputs": [
    {
     "name": "stdout",
     "output_type": "stream",
     "text": [
      "Raw data set shape:  (569, 30)\n",
      "Degree 2 polynomial: (569, 496)\n",
      "Degree 3 polynomial: (569, 5456)\n",
      "Degree 4 polynomial: (569, 46376)\n",
      "Degree 5 polynomial: (569, 324632)\n"
     ]
    }
   ],
   "source": [
    "poly = dict()\n",
    "X_poly = dict()\n",
    "\n",
    "print(f\"Raw data set shape:  {cancer.data.shape}\")\n",
    "\n",
    "for n in [2, 3, 4, 5]:\n",
    "    poly[n] = PolynomialFeatures(n)\n",
    "    X_poly[n] = poly[n].fit_transform(X_raw)\n",
    "    print(f\"Degree {n} polynomial: {X_poly[n].shape}\")"
   ]
  },
  {
   "cell_type": "code",
   "execution_count": 47,
   "metadata": {},
   "outputs": [
    {
     "data": {
      "text/plain": [
       "mean compactness^2                       0.627323\n",
       "radius error worst perimeter             0.238017\n",
       "smoothness error worst concavity         0.090577\n",
       "mean compactness worst concavity         0.450361\n",
       "perimeter error                          0.369034\n",
       "area error fractal dimension error       0.050119\n",
       "radius error concavity error             0.048323\n",
       "mean fractal dimension symmetry error    0.188707\n",
       "dtype: float64"
      ]
     },
     "execution_count": 47,
     "metadata": {},
     "output_type": "execute_result"
    }
   ],
   "source": [
    "names = poly[2].get_feature_names_out(cancer.feature_names)\n",
    "\n",
    "row0 = pd.Series(X_poly[2][0], index=names)\n",
    "row0.sample(8, random_state=6)"
   ]
  },
  {
   "cell_type": "code",
   "execution_count": 49,
   "metadata": {},
   "outputs": [
    {
     "data": {
      "text/plain": [
       "mean texture mean symmetry concavity error worst fractal dimension      0.000884\n",
       "mean texture mean perimeter mean smoothness                             0.007345\n",
       "mean concave points compactness error worst perimeter^2                 0.114747\n",
       "fractal dimension error worst radius worst perimeter worst symmetry     0.045447\n",
       "mean compactness mean fractal dimension worst area worst compactness    0.133861\n",
       "mean area worst compactness worst concave points^2                      0.187367\n",
       "dtype: float64"
      ]
     },
     "execution_count": 49,
     "metadata": {},
     "output_type": "execute_result"
    }
   ],
   "source": [
    "names = poly[4].get_feature_names_out(cancer.feature_names)\n",
    "row0 = pd.Series(X_poly[4][0], index=names)\n",
    "row0.sample(6, random_state=2)"
   ]
  },
  {
   "cell_type": "code",
   "execution_count": 52,
   "metadata": {},
   "outputs": [
    {
     "name": "stdout",
     "output_type": "stream",
     "text": [
      "# A tibble: 3 × 8\n",
      "  `(Intercept)`     A     B     C `A:B` `A:C` `B:C` `A:B:C`\n",
      "          <dbl> <dbl> <dbl> <dbl> <dbl> <dbl> <dbl>   <dbl>\n",
      "1             1   0.2   0.1  -0.2  0.02 -0.04 -0.02  -0.004\n",
      "2             1   0.3  -0.3   0.3 -0.09  0.09 -0.09  -0.027\n",
      "3             1   0.4   0.5   0.1  0.2   0.04  0.05   0.02 \n"
     ]
    }
   ],
   "source": [
    "%%R\n",
    "library(tibble)\n",
    "\n",
    "X <- tibble(A = c(0.2, 0.3, 0.4), \n",
    "            B = c(0.1, -0.3, 0.5),\n",
    "            C = c(-0.2, 0.3, 0.1))\n",
    "formula = ~ .^3 \n",
    "poly2 <- as_tibble(model.matrix(formula, data=X))\n",
    "poly2"
   ]
  },
  {
   "cell_type": "markdown",
   "metadata": {},
   "source": [
    "### Feature Selection"
   ]
  },
  {
   "cell_type": "code",
   "execution_count": 53,
   "metadata": {},
   "outputs": [],
   "source": [
    "model = RandomForestClassifier(n_estimators=100, max_depth=5, \n",
    "                               n_jobs=4, random_state=2)"
   ]
  },
  {
   "cell_type": "code",
   "execution_count": 54,
   "metadata": {},
   "outputs": [
    {
     "data": {
      "text/plain": [
       "(569, 337)"
      ]
     },
     "execution_count": 54,
     "metadata": {},
     "output_type": "execute_result"
    }
   ],
   "source": [
    "rfecv = RFECV(estimator=model, n_jobs=-1)\n",
    "best_feat = rfecv.fit(X_poly[2], y)\n",
    "X_support = X_poly[2][:, best_feat.support_]\n",
    "X_support.shape"
   ]
  },
  {
   "cell_type": "code",
   "execution_count": 55,
   "metadata": {},
   "outputs": [
    {
     "name": "stdout",
     "output_type": "stream",
     "text": [
      "Features | X.shape=(569, 30)\t| error_rate=2.80%\n",
      "Features | X.shape=(569, 496)\t| error_rate=1.40%\n",
      "Features | X.shape=(569, 337)\t| error_rate=0.70%\n"
     ]
    }
   ],
   "source": [
    "for X in (X_raw, X_poly[2], X_support):\n",
    "    X_train, X_test, y_train, y_test = (\n",
    "        train_test_split(X, y, random_state=42))\n",
    "    model.fit(X_train, y_train) \n",
    "    accuracy = model.score(X_test, y_test)\n",
    "    error_rate = 100*(1-accuracy)\n",
    "    print(f\"Features | {X.shape=}\\t| {error_rate=:.2f}%\")"
   ]
  },
  {
   "cell_type": "code",
   "execution_count": 57,
   "metadata": {},
   "outputs": [
    {
     "data": {
      "image/png": "[encoded data removed]",
      "text/plain": [
       "<Figure size 1000x250 with 1 Axes>"
      ]
     },
     "metadata": {},
     "output_type": "display_data"
    }
   ],
   "source": [
    "title = \"#Features vs. Accuracy on 2-Polynomial Data\"\n",
    "(pd.Series(best_feat.cv_results_['mean_test_score'])\n",
    "     .plot(figsize=(10, 2.5), linewidth=0.75, title=title))\n",
    "plt.savefig(f'img/(Ch07){title}.png')"
   ]
  }
 ],
 "metadata": {
  "kernelspec": {
   "display_name": "Python 3 (ipykernel)",
   "language": "python",
   "name": "python3"
  },
  "language_info": {
   "codemirror_mode": {
    "name": "ipython",
    "version": 3
   },
   "file_extension": ".py",
   "mimetype": "text/x-python",
   "name": "python",
   "nbconvert_exporter": "python",
   "pygments_lexer": "ipython3",
   "version": "3.11.6"
  }
 },
 "nbformat": 4,
 "nbformat_minor": 4
}
