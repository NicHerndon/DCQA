{
 "cells": [
  {
   "cell_type": "markdown",
   "metadata": {},
   "source": [
    "# Data Ingestion – Tabular Formats"
   ]
  },
  {
   "cell_type": "code",
   "execution_count": 86,
   "metadata": {},
   "outputs": [],
   "source": [
    "from src.setup import *"
   ]
  },
  {
   "cell_type": "code",
   "execution_count": 2,
   "metadata": {},
   "outputs": [],
   "source": [
    "%load_ext rpy2.ipython"
   ]
  },
  {
   "cell_type": "code",
   "execution_count": 3,
   "metadata": {},
   "outputs": [
    {
     "name": "stdout",
     "output_type": "stream",
     "text": [
      "── Attaching core tidyverse packages ──────────────────────── tidyverse 2.0.0 ──\n",
      "✔ dplyr     1.1.4     ✔ readr     2.1.5\n",
      "✔ forcats   1.0.0     ✔ stringr   1.5.1\n",
      "✔ ggplot2   3.5.1     ✔ tibble    3.2.1\n",
      "✔ lubridate 1.9.3     ✔ tidyr     1.3.1\n",
      "✔ purrr     1.0.2     \n",
      "── Conflicts ────────────────────────────────────────── tidyverse_conflicts() ──\n",
      "✖ dplyr::filter() masks stats::filter()\n",
      "✖ dplyr::lag()    masks stats::lag()\n",
      "ℹ Use the conflicted package (<http://conflicted.r-lib.org/>) to force all conflicts to become errors\n"
     ]
    },
    {
     "name": "stderr",
     "output_type": "stream",
     "text": [
      "System has not been booted with systemd as init system (PID 1). Can't operate.\n",
      "Failed to connect to bus: Host is down\n"
     ]
    }
   ],
   "source": [
    "%%capture --no-stdout err\n",
    "%%R\n",
    "library(tidyverse)"
   ]
  },
  {
   "cell_type": "markdown",
   "metadata": {},
   "source": [
    "## Tidying Up"
   ]
  },
  {
   "cell_type": "code",
   "execution_count": 4,
   "metadata": {},
   "outputs": [
    {
     "data": {
      "text/html": [
       "<div>\n",
       "<style scoped>\n",
       "    .dataframe tbody tr th:only-of-type {\n",
       "        vertical-align: middle;\n",
       "    }\n",
       "\n",
       "    .dataframe tbody tr th {\n",
       "        vertical-align: top;\n",
       "    }\n",
       "\n",
       "    .dataframe thead th {\n",
       "        text-align: right;\n",
       "    }\n",
       "</style>\n",
       "<table border=\"1\" class=\"dataframe\">\n",
       "  <thead>\n",
       "    <tr style=\"text-align: right;\">\n",
       "      <th></th>\n",
       "      <th>Last Name</th>\n",
       "      <th>First Name</th>\n",
       "      <th>4th Grade</th>\n",
       "      <th>5th Grade</th>\n",
       "      <th>6th Grade</th>\n",
       "    </tr>\n",
       "  </thead>\n",
       "  <tbody>\n",
       "    <tr>\n",
       "      <th>0</th>\n",
       "      <td>Johnson</td>\n",
       "      <td>Mia</td>\n",
       "      <td>A</td>\n",
       "      <td>B+</td>\n",
       "      <td>A-</td>\n",
       "    </tr>\n",
       "    <tr>\n",
       "      <th>1</th>\n",
       "      <td>Lopez</td>\n",
       "      <td>Liam</td>\n",
       "      <td>B</td>\n",
       "      <td>B</td>\n",
       "      <td>A+</td>\n",
       "    </tr>\n",
       "    <tr>\n",
       "      <th>2</th>\n",
       "      <td>Lee</td>\n",
       "      <td>Isabella</td>\n",
       "      <td>C</td>\n",
       "      <td>C-</td>\n",
       "      <td>B-</td>\n",
       "    </tr>\n",
       "    <tr>\n",
       "      <th>3</th>\n",
       "      <td>Fisher</td>\n",
       "      <td>Mason</td>\n",
       "      <td>B</td>\n",
       "      <td>B-</td>\n",
       "      <td>C+</td>\n",
       "    </tr>\n",
       "    <tr>\n",
       "      <th>4</th>\n",
       "      <td>Gupta</td>\n",
       "      <td>Olivia</td>\n",
       "      <td>B</td>\n",
       "      <td>A+</td>\n",
       "      <td>A</td>\n",
       "    </tr>\n",
       "    <tr>\n",
       "      <th>5</th>\n",
       "      <td>Robinson</td>\n",
       "      <td>Sophia</td>\n",
       "      <td>A+</td>\n",
       "      <td>B-</td>\n",
       "      <td>A</td>\n",
       "    </tr>\n",
       "  </tbody>\n",
       "</table>\n",
       "</div>"
      ],
      "text/plain": [
       "  Last Name First Name 4th Grade 5th Grade 6th Grade\n",
       "0   Johnson        Mia         A        B+        A-\n",
       "1     Lopez       Liam         B         B        A+\n",
       "2       Lee   Isabella         C        C-        B-\n",
       "3    Fisher      Mason         B        B-        C+\n",
       "4     Gupta     Olivia         B        A+         A\n",
       "5  Robinson     Sophia        A+        B-         A"
      ]
     },
     "execution_count": 4,
     "metadata": {},
     "output_type": "execute_result"
    }
   ],
   "source": [
    "students = pd.read_csv('data/students-scores.csv')\n",
    "students"
   ]
  },
  {
   "cell_type": "code",
   "execution_count": 5,
   "metadata": {},
   "outputs": [],
   "source": [
    "# Generic conversion of letter grades to numbers\n",
    "def num_score(x):\n",
    "    to_num = {'A+': 4.3, 'A': 4, 'A-': 3.7,\n",
    "              'B+': 3.3, 'B': 3, 'B-': 2.7,\n",
    "              'C+': 2.3, 'C': 2, 'C-': 1.7}\n",
    "    return x.map(lambda x: to_num.get(x, x))"
   ]
  },
  {
   "cell_type": "code",
   "execution_count": 6,
   "metadata": {},
   "outputs": [
    {
     "data": {
      "image/png": "[encoded data removed]",
      "text/plain": [
       "<Figure size 640x480 with 1 Axes>"
      ]
     },
     "metadata": {},
     "output_type": "display_data"
    }
   ],
   "source": [
    "(students\n",
    "     .set_index('Last Name')\n",
    "     .drop('First Name', axis=1)\n",
    "     .apply(num_score)\n",
    "     .T\n",
    "     .plot(title=\"Student score by year\")\n",
    "     .legend(bbox_to_anchor=(1, .75))\n",
    ")\n",
    "plt.savefig(\"img/(Ch01)Student score by year\");"
   ]
  },
  {
   "cell_type": "code",
   "execution_count": 7,
   "metadata": {},
   "outputs": [
    {
     "data": {
      "text/html": [
       "<div>\n",
       "<style scoped>\n",
       "    .dataframe tbody tr th:only-of-type {\n",
       "        vertical-align: middle;\n",
       "    }\n",
       "\n",
       "    .dataframe tbody tr th {\n",
       "        vertical-align: top;\n",
       "    }\n",
       "\n",
       "    .dataframe thead th {\n",
       "        text-align: right;\n",
       "    }\n",
       "</style>\n",
       "<table border=\"1\" class=\"dataframe\">\n",
       "  <thead>\n",
       "    <tr style=\"text-align: right;\">\n",
       "      <th></th>\n",
       "      <th></th>\n",
       "      <th></th>\n",
       "      <th>Score</th>\n",
       "    </tr>\n",
       "    <tr>\n",
       "      <th>First Name</th>\n",
       "      <th>Last Name</th>\n",
       "      <th>Level</th>\n",
       "      <th></th>\n",
       "    </tr>\n",
       "  </thead>\n",
       "  <tbody>\n",
       "    <tr>\n",
       "      <th>Mia</th>\n",
       "      <th>Johnson</th>\n",
       "      <th>4th Grade</th>\n",
       "      <td>A</td>\n",
       "    </tr>\n",
       "    <tr>\n",
       "      <th>Liam</th>\n",
       "      <th>Lopez</th>\n",
       "      <th>4th Grade</th>\n",
       "      <td>B</td>\n",
       "    </tr>\n",
       "    <tr>\n",
       "      <th>Isabella</th>\n",
       "      <th>Lee</th>\n",
       "      <th>4th Grade</th>\n",
       "      <td>C</td>\n",
       "    </tr>\n",
       "    <tr>\n",
       "      <th>Mason</th>\n",
       "      <th>Fisher</th>\n",
       "      <th>4th Grade</th>\n",
       "      <td>B</td>\n",
       "    </tr>\n",
       "    <tr>\n",
       "      <th>...</th>\n",
       "      <th>...</th>\n",
       "      <th>...</th>\n",
       "      <td>...</td>\n",
       "    </tr>\n",
       "    <tr>\n",
       "      <th>Isabella</th>\n",
       "      <th>Lee</th>\n",
       "      <th>6th Grade</th>\n",
       "      <td>B-</td>\n",
       "    </tr>\n",
       "    <tr>\n",
       "      <th>Mason</th>\n",
       "      <th>Fisher</th>\n",
       "      <th>6th Grade</th>\n",
       "      <td>C+</td>\n",
       "    </tr>\n",
       "    <tr>\n",
       "      <th>Olivia</th>\n",
       "      <th>Gupta</th>\n",
       "      <th>6th Grade</th>\n",
       "      <td>A</td>\n",
       "    </tr>\n",
       "    <tr>\n",
       "      <th>Sophia</th>\n",
       "      <th>Robinson</th>\n",
       "      <th>6th Grade</th>\n",
       "      <td>A</td>\n",
       "    </tr>\n",
       "  </tbody>\n",
       "</table>\n",
       "<p>18 rows × 1 columns</p>\n",
       "</div>"
      ],
      "text/plain": [
       "                               Score\n",
       "First Name Last Name Level          \n",
       "Mia        Johnson   4th Grade     A\n",
       "Liam       Lopez     4th Grade     B\n",
       "Isabella   Lee       4th Grade     C\n",
       "Mason      Fisher    4th Grade     B\n",
       "...                              ...\n",
       "Isabella   Lee       6th Grade    B-\n",
       "Mason      Fisher    6th Grade    C+\n",
       "Olivia     Gupta     6th Grade     A\n",
       "Sophia     Robinson  6th Grade     A\n",
       "\n",
       "[18 rows x 1 columns]"
      ]
     },
     "execution_count": 7,
     "metadata": {},
     "output_type": "execute_result"
    }
   ],
   "source": [
    "students.melt(\n",
    "    id_vars=[\"Last Name\", \"First Name\"], \n",
    "    var_name=\"Level\",\n",
    "    value_name=\"Score\"\n",
    ").set_index(['First Name', 'Last Name', 'Level'])"
   ]
  },
  {
   "cell_type": "code",
   "execution_count": 8,
   "metadata": {},
   "outputs": [
    {
     "name": "stdout",
     "output_type": "stream",
     "text": [
      "Rows: 6 Columns: 5\n",
      "── Column specification ────────────────────────────────────────────────────────\n",
      "Delimiter: \",\"\n",
      "chr (5): Last Name, First Name, 4th Grade, 5th Grade, 6th Grade\n",
      "\n",
      "ℹ Use `spec()` to retrieve the full column specification for this data.\n",
      "ℹ Specify the column types or set `show_col_types = FALSE` to quiet this message.\n",
      "# A tibble: 6 × 5\n",
      "  `Last Name` `First Name` `4th Grade` `5th Grade` `6th Grade`\n",
      "  <chr>       <chr>        <chr>       <chr>       <chr>      \n",
      "1 Johnson     Mia          A           B+          A-         \n",
      "2 Lopez       Liam         B           B           A+         \n",
      "3 Lee         Isabella     C           C-          B-         \n",
      "4 Fisher      Mason        B           B-          C+         \n",
      "5 Gupta       Olivia       B           A+          A          \n",
      "6 Robinson    Sophia       A+          B-          A          \n"
     ]
    }
   ],
   "source": [
    "%%capture --no-stdout err\n",
    "%%R\n",
    "library('tidyverse')\n",
    "\n",
    "studentsR <- read_csv('data/students-scores.csv')\n",
    "studentsR"
   ]
  },
  {
   "cell_type": "code",
   "execution_count": 9,
   "metadata": {},
   "outputs": [
    {
     "name": "stdout",
     "output_type": "stream",
     "text": [
      "Rows: 6 Columns: 5\n",
      "── Column specification ────────────────────────────────────────────────────────\n",
      "Delimiter: \",\"\n",
      "chr (5): Last Name, First Name, 4th Grade, 5th Grade, 6th Grade\n",
      "\n",
      "ℹ Use `spec()` to retrieve the full column specification for this data.\n",
      "ℹ Specify the column types or set `show_col_types = FALSE` to quiet this message.\n",
      "# A tibble: 18 × 4\n",
      "   `Last Name` `First Name` Level     Score\n",
      "   <chr>       <chr>        <chr>     <chr>\n",
      " 1 Johnson     Mia          4th Grade A    \n",
      " 2 Johnson     Mia          5th Grade B+   \n",
      " 3 Johnson     Mia          6th Grade A-   \n",
      " 4 Lopez       Liam         4th Grade B    \n",
      " 5 Lopez       Liam         5th Grade B    \n",
      " 6 Lopez       Liam         6th Grade A+   \n",
      " 7 Lee         Isabella     4th Grade C    \n",
      " 8 Lee         Isabella     5th Grade C-   \n",
      " 9 Lee         Isabella     6th Grade B-   \n",
      "10 Fisher      Mason        4th Grade B    \n",
      "11 Fisher      Mason        5th Grade B-   \n",
      "12 Fisher      Mason        6th Grade C+   \n",
      "13 Gupta       Olivia       4th Grade B    \n",
      "14 Gupta       Olivia       5th Grade A+   \n",
      "15 Gupta       Olivia       6th Grade A    \n",
      "16 Robinson    Sophia       4th Grade A+   \n",
      "17 Robinson    Sophia       5th Grade B-   \n",
      "18 Robinson    Sophia       6th Grade A    \n"
     ]
    }
   ],
   "source": [
    "%%capture --no-stdout err\n",
    "%%R\n",
    "studentsR <- read_csv('data/students-scores.csv')\n",
    "studentsR %>% \n",
    "  pivot_longer(c(`4th Grade`, `5th Grade`, `6th Grade`), \n",
    "               names_to = \"Level\", \n",
    "               values_to = \"Score\")"
   ]
  },
  {
   "cell_type": "markdown",
   "metadata": {},
   "source": [
    "## CSV"
   ]
  },
  {
   "cell_type": "markdown",
   "metadata": {},
   "source": [
    "### Sanity Checks"
   ]
  },
  {
   "cell_type": "code",
   "execution_count": 10,
   "metadata": {},
   "outputs": [
    {
     "name": "stdout",
     "output_type": "stream",
     "text": [
      "ParserError\n",
      "Error tokenizing data. C error: Expected 6 fields in line 75, saw 8\n"
     ]
    }
   ],
   "source": [
    "# Use try/except to avoid full traceback in example\n",
    "try:\n",
    "    pd.read_csv('data/big-random.csv')\n",
    "except Exception as err:\n",
    "    print_err(err)"
   ]
  },
  {
   "cell_type": "code",
   "execution_count": 11,
   "metadata": {},
   "outputs": [
    {
     "name": "stdout",
     "output_type": "stream",
     "text": [
      " 100000  100000 4335846 data/big-random.csv\n"
     ]
    }
   ],
   "source": [
    "%%bash\n",
    "# What is the general size/shape of this file?\n",
    "wc data/big-random.csv"
   ]
  },
  {
   "cell_type": "code",
   "execution_count": 12,
   "metadata": {},
   "outputs": [
    {
     "name": "stdout",
     "output_type": "stream",
     "text": [
      "     46 3\n",
      "  99909 5\n",
      "     45 7\n"
     ]
    }
   ],
   "source": [
    "%%bash\n",
    "cat data/big-random.csv | \n",
    "    tr -d -c ',\\n' | \n",
    "    awk '{ print length; }' | \n",
    "    sort | \n",
    "    uniq -c"
   ]
  },
  {
   "cell_type": "code",
   "execution_count": 13,
   "metadata": {},
   "outputs": [
    {
     "name": "stdout",
     "output_type": "stream",
     "text": [
      "74-squarcerai,45,quiescenze,12,scuoieremo,70\n",
      "75:fantasmagorici,28,immischiavate,44,schiavizzammo,97,sfilzarono,49\n",
      "76-interagiste,50,repentagli,72,attendato,95\n",
      "--\n",
      "712-resettando,58,strisciato,46,insaldai,62\n",
      "713:aspirasse,15,imbozzimatrici,70,incanalante,93,succhieremo,41\n",
      "714-saccarometriche,18,stremaste,12,hindi,19\n",
      "--\n",
      "8096-squincio,16,biascicona,93,solisti,70\n",
      "8097:rinegoziante,50,circoncidiamo,83,stringavate,79,stipularono,34\n"
     ]
    }
   ],
   "source": [
    "%%bash\n",
    "grep -C1 -nP '^([^,]+,){7}' data/big-random.csv | head"
   ]
  },
  {
   "cell_type": "code",
   "execution_count": 14,
   "metadata": {},
   "outputs": [
    {
     "data": {
      "text/html": [
       "<div>\n",
       "<style scoped>\n",
       "    .dataframe tbody tr th:only-of-type {\n",
       "        vertical-align: middle;\n",
       "    }\n",
       "\n",
       "    .dataframe tbody tr th {\n",
       "        vertical-align: top;\n",
       "    }\n",
       "\n",
       "    .dataframe thead th {\n",
       "        text-align: right;\n",
       "    }\n",
       "</style>\n",
       "<table border=\"1\" class=\"dataframe\">\n",
       "  <thead>\n",
       "    <tr style=\"text-align: right;\">\n",
       "      <th></th>\n",
       "      <th>0</th>\n",
       "      <th>1</th>\n",
       "      <th>2</th>\n",
       "      <th>3</th>\n",
       "      <th>4</th>\n",
       "      <th>5</th>\n",
       "    </tr>\n",
       "  </thead>\n",
       "  <tbody>\n",
       "    <tr>\n",
       "      <th>0</th>\n",
       "      <td>infilaste</td>\n",
       "      <td>21</td>\n",
       "      <td>esemplava</td>\n",
       "      <td>15</td>\n",
       "      <td>stabaccavo</td>\n",
       "      <td>73</td>\n",
       "    </tr>\n",
       "    <tr>\n",
       "      <th>1</th>\n",
       "      <td>abbadaste</td>\n",
       "      <td>50</td>\n",
       "      <td>enartrosi</td>\n",
       "      <td>85</td>\n",
       "      <td>iella</td>\n",
       "      <td>54</td>\n",
       "    </tr>\n",
       "    <tr>\n",
       "      <th>2</th>\n",
       "      <td>frustulo</td>\n",
       "      <td>77</td>\n",
       "      <td>temporale</td>\n",
       "      <td>83</td>\n",
       "      <td>scoppianti</td>\n",
       "      <td>91</td>\n",
       "    </tr>\n",
       "    <tr>\n",
       "      <th>3</th>\n",
       "      <td>gavocciolo</td>\n",
       "      <td>84</td>\n",
       "      <td>postelegrafiche</td>\n",
       "      <td>93</td>\n",
       "      <td>inglesizzanti</td>\n",
       "      <td>63</td>\n",
       "    </tr>\n",
       "    <tr>\n",
       "      <th>...</th>\n",
       "      <td>...</td>\n",
       "      <td>...</td>\n",
       "      <td>...</td>\n",
       "      <td>...</td>\n",
       "      <td>...</td>\n",
       "      <td>...</td>\n",
       "    </tr>\n",
       "    <tr>\n",
       "      <th>99905</th>\n",
       "      <td>notareschi</td>\n",
       "      <td>60</td>\n",
       "      <td>paganico</td>\n",
       "      <td>64</td>\n",
       "      <td>esecutavamo</td>\n",
       "      <td>20</td>\n",
       "    </tr>\n",
       "    <tr>\n",
       "      <th>99906</th>\n",
       "      <td>rispranghiamo</td>\n",
       "      <td>11</td>\n",
       "      <td>schioccano</td>\n",
       "      <td>44</td>\n",
       "      <td>imbozzarono</td>\n",
       "      <td>80</td>\n",
       "    </tr>\n",
       "    <tr>\n",
       "      <th>99907</th>\n",
       "      <td>compone</td>\n",
       "      <td>85</td>\n",
       "      <td>disfronderebbe</td>\n",
       "      <td>19</td>\n",
       "      <td>vaporizzavo</td>\n",
       "      <td>54</td>\n",
       "    </tr>\n",
       "    <tr>\n",
       "      <th>99908</th>\n",
       "      <td>ritardata</td>\n",
       "      <td>29</td>\n",
       "      <td>scordare</td>\n",
       "      <td>43</td>\n",
       "      <td>appuntirebbe</td>\n",
       "      <td>24</td>\n",
       "    </tr>\n",
       "  </tbody>\n",
       "</table>\n",
       "<p>99909 rows × 6 columns</p>\n",
       "</div>"
      ],
      "text/plain": [
       "                   0   1                2   3              4   5\n",
       "0          infilaste  21        esemplava  15     stabaccavo  73\n",
       "1          abbadaste  50        enartrosi  85          iella  54\n",
       "2           frustulo  77        temporale  83     scoppianti  91\n",
       "3         gavocciolo  84  postelegrafiche  93  inglesizzanti  63\n",
       "...              ...  ..              ...  ..            ...  ..\n",
       "99905     notareschi  60         paganico  64    esecutavamo  20\n",
       "99906  rispranghiamo  11       schioccano  44    imbozzarono  80\n",
       "99907        compone  85   disfronderebbe  19    vaporizzavo  54\n",
       "99908      ritardata  29         scordare  43   appuntirebbe  24\n",
       "\n",
       "[99909 rows x 6 columns]"
      ]
     },
     "execution_count": 14,
     "metadata": {},
     "output_type": "execute_result"
    }
   ],
   "source": [
    "import re\n",
    "pat = re.compile(r'^([^,]+,){5}[^,]*$')\n",
    "with open('data/big-random.csv') as fh:\n",
    "    lines = [l.strip().split(',') \n",
    "             for l in fh if re.match(pat, l)]\n",
    "pd.DataFrame(lines)"
   ]
  },
  {
   "cell_type": "markdown",
   "metadata": {},
   "source": [
    "### The Good, The Bad, and The Textual Data"
   ]
  },
  {
   "cell_type": "markdown",
   "metadata": {},
   "source": [
    "**The Bad**"
   ]
  },
  {
   "cell_type": "code",
   "execution_count": 15,
   "metadata": {},
   "outputs": [
    {
     "name": "stdout",
     "output_type": "stream",
     "text": [
      "Part_No  Description              Maker               Price (USD)\n",
      "12345    Wankle rotary engine     Acme Corporation    555.55\n",
      "67890    Sousaphone               Marching Inc.       333.33\n",
      "2468     Feather Duster           Sweeps Bros         22.22\n",
      "A9922    Area 51 metal fragment   No Such Agency      9999.99"
     ]
    }
   ],
   "source": [
    "%%bash\n",
    "cat data/parts.fwf"
   ]
  },
  {
   "cell_type": "code",
   "execution_count": 16,
   "metadata": {},
   "outputs": [
    {
     "data": {
      "text/html": [
       "<div>\n",
       "<style scoped>\n",
       "    .dataframe tbody tr th:only-of-type {\n",
       "        vertical-align: middle;\n",
       "    }\n",
       "\n",
       "    .dataframe tbody tr th {\n",
       "        vertical-align: top;\n",
       "    }\n",
       "\n",
       "    .dataframe thead th {\n",
       "        text-align: right;\n",
       "    }\n",
       "</style>\n",
       "<table border=\"1\" class=\"dataframe\">\n",
       "  <thead>\n",
       "    <tr style=\"text-align: right;\">\n",
       "      <th></th>\n",
       "      <th>Part_No</th>\n",
       "      <th>Description</th>\n",
       "      <th>Maker</th>\n",
       "      <th>Price (USD)</th>\n",
       "    </tr>\n",
       "  </thead>\n",
       "  <tbody>\n",
       "    <tr>\n",
       "      <th>0</th>\n",
       "      <td>12345</td>\n",
       "      <td>Wankle rotary engine</td>\n",
       "      <td>Acme Corporation</td>\n",
       "      <td>555.55</td>\n",
       "    </tr>\n",
       "    <tr>\n",
       "      <th>1</th>\n",
       "      <td>67890</td>\n",
       "      <td>Sousaphone</td>\n",
       "      <td>Marching Inc.</td>\n",
       "      <td>333.33</td>\n",
       "    </tr>\n",
       "    <tr>\n",
       "      <th>2</th>\n",
       "      <td>2468</td>\n",
       "      <td>Feather Duster</td>\n",
       "      <td>Sweeps Bros</td>\n",
       "      <td>22.22</td>\n",
       "    </tr>\n",
       "  </tbody>\n",
       "</table>\n",
       "</div>"
      ],
      "text/plain": [
       "   Part_No           Description             Maker  Price (USD)\n",
       "0    12345  Wankle rotary engine  Acme Corporation       555.55\n",
       "1    67890            Sousaphone     Marching Inc.       333.33\n",
       "2     2468        Feather Duster       Sweeps Bros        22.22"
      ]
     },
     "execution_count": 16,
     "metadata": {},
     "output_type": "execute_result"
    }
   ],
   "source": [
    "df = pd.read_fwf('data/parts.fwf', nrows=3)\n",
    "df"
   ]
  },
  {
   "cell_type": "code",
   "execution_count": 17,
   "metadata": {},
   "outputs": [
    {
     "data": {
      "text/plain": [
       "Part_No          int64\n",
       "Description     object\n",
       "Maker           object\n",
       "Price (USD)    float64\n",
       "dtype: object"
      ]
     },
     "execution_count": 17,
     "metadata": {},
     "output_type": "execute_result"
    }
   ],
   "source": [
    "df.dtypes"
   ]
  },
  {
   "cell_type": "code",
   "execution_count": 18,
   "metadata": {},
   "outputs": [
    {
     "data": {
      "text/html": [
       "<div>\n",
       "<style scoped>\n",
       "    .dataframe tbody tr th:only-of-type {\n",
       "        vertical-align: middle;\n",
       "    }\n",
       "\n",
       "    .dataframe tbody tr th {\n",
       "        vertical-align: top;\n",
       "    }\n",
       "\n",
       "    .dataframe thead th {\n",
       "        text-align: right;\n",
       "    }\n",
       "</style>\n",
       "<table border=\"1\" class=\"dataframe\">\n",
       "  <thead>\n",
       "    <tr style=\"text-align: right;\">\n",
       "      <th></th>\n",
       "      <th>Part_No</th>\n",
       "      <th>Description</th>\n",
       "      <th>Maker</th>\n",
       "      <th>Price (USD)</th>\n",
       "    </tr>\n",
       "  </thead>\n",
       "  <tbody>\n",
       "    <tr>\n",
       "      <th>0</th>\n",
       "      <td>12345</td>\n",
       "      <td>Wankle rotary engine</td>\n",
       "      <td>Acme Corporation</td>\n",
       "      <td>555.55</td>\n",
       "    </tr>\n",
       "    <tr>\n",
       "      <th>1</th>\n",
       "      <td>67890</td>\n",
       "      <td>Sousaphone</td>\n",
       "      <td>Marching Inc.</td>\n",
       "      <td>333.33</td>\n",
       "    </tr>\n",
       "    <tr>\n",
       "      <th>2</th>\n",
       "      <td>2468</td>\n",
       "      <td>Feather Duster</td>\n",
       "      <td>Sweeps Bros</td>\n",
       "      <td>22.22</td>\n",
       "    </tr>\n",
       "    <tr>\n",
       "      <th>3</th>\n",
       "      <td>A9922</td>\n",
       "      <td>Area 51 metal fragment</td>\n",
       "      <td>No Such Agency</td>\n",
       "      <td>9999.99</td>\n",
       "    </tr>\n",
       "  </tbody>\n",
       "</table>\n",
       "</div>"
      ],
      "text/plain": [
       "  Part_No             Description             Maker  Price (USD)\n",
       "0   12345    Wankle rotary engine  Acme Corporation       555.55\n",
       "1   67890              Sousaphone     Marching Inc.       333.33\n",
       "2    2468          Feather Duster       Sweeps Bros        22.22\n",
       "3   A9922  Area 51 metal fragment    No Such Agency      9999.99"
      ]
     },
     "execution_count": 18,
     "metadata": {},
     "output_type": "execute_result"
    }
   ],
   "source": [
    "df = pd.read_fwf('data/parts.fwf')\n",
    "df"
   ]
  },
  {
   "cell_type": "code",
   "execution_count": 19,
   "metadata": {},
   "outputs": [
    {
     "data": {
      "text/plain": [
       "Part_No         object\n",
       "Description     object\n",
       "Maker           object\n",
       "Price (USD)    float64\n",
       "dtype: object"
      ]
     },
     "execution_count": 19,
     "metadata": {},
     "output_type": "execute_result"
    }
   ],
   "source": [
    "df.dtypes  # type of `Part_No` changed"
   ]
  },
  {
   "cell_type": "code",
   "execution_count": 20,
   "metadata": {},
   "outputs": [
    {
     "name": "stdout",
     "output_type": "stream",
     "text": [
      "\n",
      "── Column specification ────────────────────────────────────────────────────────\n",
      "cols(\n",
      "  Part_No = col_character(),\n",
      "  Description = col_character(),\n",
      "  Maker = col_character(),\n",
      "  Price = col_character(),\n",
      "  `(USD)` = col_character()\n",
      ")\n",
      "\n",
      "# A tibble: 4 × 5\n",
      "  Part_No Description Maker    Price  `(USD)` \n",
      "  <chr>   <chr>       <chr>    <chr>  <chr>   \n",
      "1 12345   Wankle      rotary   engine Acme    \n",
      "2 67890   Sousaphone  Marching Inc.   333.33  \n",
      "3 2468    Feather     Duster   Sweeps Bros    \n",
      "4 A9922   Area        51       metal  fragment\n"
     ]
    }
   ],
   "source": [
    "%%capture --no-stdout err\n",
    "%%R\n",
    "read_table('data/parts.fwf')"
   ]
  },
  {
   "cell_type": "code",
   "execution_count": 21,
   "metadata": {},
   "outputs": [
    {
     "name": "stdout",
     "output_type": "stream",
     "text": [
      "# A tibble: 3 × 3\n",
      "  Part_No Maker    Price\n",
      "    <int> <fct>    <dbl>\n",
      "1   12345 rotary      NA\n",
      "2   67890 Marching    NA\n",
      "3    2468 Duster      NA\n"
     ]
    },
    {
     "data": {
      "text/plain": [
       "Warning: 7 parsing failures.\n",
       "row   col  expected    actual             file\n",
       "  1 Price a number  engine    'data/parts.fwf'\n",
       "  1 NA    4 columns 7 columns 'data/parts.fwf'\n",
       "  2 Price a number  Inc.      'data/parts.fwf'\n",
       "  2 NA    4 columns 5 columns 'data/parts.fwf'\n",
       "  3 Price a number  Sweeps    'data/parts.fwf'\n",
       "... ..... ......... ......... ................\n",
       "See problems(...) for more details.\n",
       "\n",
       "In addition: Warning message:\n",
       "Unnamed `col_types` should have the same length as `col_names`. Using smaller of the two. \n"
      ]
     },
     "metadata": {},
     "output_type": "display_data"
    }
   ],
   "source": [
    "%%R\n",
    "read_table('data/parts.fwf', \n",
    "           n_max = 3, \n",
    "           col_types = cols(\"i\", \"-\", \"f\", \"n\"))"
   ]
  },
  {
   "cell_type": "code",
   "execution_count": 22,
   "metadata": {},
   "outputs": [
    {
     "name": "stdout",
     "output_type": "stream",
     "text": [
      "Part_No\tDescription\tDate\tPrice (USD)\n",
      "12345\tWankle rotary\t2020-04-12T15:53:21\t555.55\n",
      "67890\tSousaphone\tApril 12, 2020\t333.33\n",
      "2468\tFeather Duster\t4/12/2020\t22.22\n",
      "A9922\tArea 51 metal\t04/12/20\t9999.99\n"
     ]
    }
   ],
   "source": [
    "%%bash\n",
    "# Notice many date formats\n",
    "cat data/parts.tsv"
   ]
  },
  {
   "cell_type": "code",
   "execution_count": 23,
   "metadata": {},
   "outputs": [
    {
     "data": {
      "text/html": [
       "<div>\n",
       "<style scoped>\n",
       "    .dataframe tbody tr th:only-of-type {\n",
       "        vertical-align: middle;\n",
       "    }\n",
       "\n",
       "    .dataframe tbody tr th {\n",
       "        vertical-align: top;\n",
       "    }\n",
       "\n",
       "    .dataframe thead th {\n",
       "        text-align: right;\n",
       "    }\n",
       "</style>\n",
       "<table border=\"1\" class=\"dataframe\">\n",
       "  <thead>\n",
       "    <tr style=\"text-align: right;\">\n",
       "      <th></th>\n",
       "      <th>Part_No</th>\n",
       "      <th>Description</th>\n",
       "      <th>Date</th>\n",
       "      <th>Price (USD)</th>\n",
       "    </tr>\n",
       "  </thead>\n",
       "  <tbody>\n",
       "    <tr>\n",
       "      <th>0</th>\n",
       "      <td>12345</td>\n",
       "      <td>Wankle rotary</td>\n",
       "      <td>2020-04-12T15:53:21</td>\n",
       "      <td>555.55</td>\n",
       "    </tr>\n",
       "    <tr>\n",
       "      <th>1</th>\n",
       "      <td>67890</td>\n",
       "      <td>Sousaphone</td>\n",
       "      <td>April 12, 2020</td>\n",
       "      <td>333.33</td>\n",
       "    </tr>\n",
       "    <tr>\n",
       "      <th>2</th>\n",
       "      <td>2468</td>\n",
       "      <td>Feather Duster</td>\n",
       "      <td>4/12/2020</td>\n",
       "      <td>22.22</td>\n",
       "    </tr>\n",
       "    <tr>\n",
       "      <th>3</th>\n",
       "      <td>A9922</td>\n",
       "      <td>Area 51 metal</td>\n",
       "      <td>04/12/20</td>\n",
       "      <td>9999.99</td>\n",
       "    </tr>\n",
       "  </tbody>\n",
       "</table>\n",
       "</div>"
      ],
      "text/plain": [
       "  Part_No     Description                 Date  Price (USD)\n",
       "0   12345   Wankle rotary  2020-04-12T15:53:21       555.55\n",
       "1   67890      Sousaphone       April 12, 2020       333.33\n",
       "2    2468  Feather Duster            4/12/2020        22.22\n",
       "3   A9922   Area 51 metal             04/12/20      9999.99"
      ]
     },
     "execution_count": 23,
     "metadata": {},
     "output_type": "execute_result"
    }
   ],
   "source": [
    "# Let Pandas make guesses for each row\n",
    "# VERY SLOW for large tables\n",
    "parts = pd.read_csv('data/parts.tsv', \n",
    "                    sep='\\t', parse_dates=['Date'])\n",
    "parts"
   ]
  },
  {
   "cell_type": "code",
   "execution_count": 24,
   "metadata": {},
   "outputs": [
    {
     "data": {
      "text/plain": [
       "Part_No         object\n",
       "Description     object\n",
       "Date            object\n",
       "Price (USD)    float64\n",
       "dtype: object"
      ]
     },
     "execution_count": 24,
     "metadata": {},
     "output_type": "execute_result"
    }
   ],
   "source": [
    "parts.dtypes"
   ]
  },
  {
   "cell_type": "markdown",
   "metadata": {},
   "source": [
    "**The Good**"
   ]
  },
  {
   "cell_type": "code",
   "execution_count": 25,
   "metadata": {},
   "outputs": [
    {
     "data": {
      "text/plain": [
       "['data/multicsv/2000-01-16.csv',\n",
       " 'data/multicsv/2000-01-25.csv',\n",
       " 'data/multicsv/2000-01-21.csv',\n",
       " 'data/multicsv/2000-01-19.csv',\n",
       " 'data/multicsv/2000-01-01.csv',\n",
       " 'data/multicsv/2000-01-22.csv',\n",
       " 'data/multicsv/2000-01-30.csv',\n",
       " 'data/multicsv/2000-01-13.csv']"
      ]
     },
     "execution_count": 25,
     "metadata": {},
     "output_type": "execute_result"
    }
   ],
   "source": [
    "# Generated data files with random values\n",
    "from glob import glob\n",
    "# Use glob() function to identify files matching pattern\n",
    "glob('data/multicsv/2000-*.csv')[:8] # ... and more"
   ]
  },
  {
   "cell_type": "code",
   "execution_count": 26,
   "metadata": {},
   "outputs": [
    {
     "name": "stdout",
     "output_type": "stream",
     "text": [
      "Total rows: 2592000\n"
     ]
    },
    {
     "data": {
      "text/html": [
       "<div>\n",
       "<style scoped>\n",
       "    .dataframe tbody tr th:only-of-type {\n",
       "        vertical-align: middle;\n",
       "    }\n",
       "\n",
       "    .dataframe tbody tr th {\n",
       "        vertical-align: top;\n",
       "    }\n",
       "\n",
       "    .dataframe thead th {\n",
       "        text-align: right;\n",
       "    }\n",
       "</style>\n",
       "<table border=\"1\" class=\"dataframe\">\n",
       "  <thead>\n",
       "    <tr style=\"text-align: right;\">\n",
       "      <th></th>\n",
       "      <th>timestamp</th>\n",
       "      <th>id</th>\n",
       "      <th>name</th>\n",
       "      <th>x</th>\n",
       "      <th>y</th>\n",
       "    </tr>\n",
       "  </thead>\n",
       "  <tbody>\n",
       "    <tr>\n",
       "      <th>0</th>\n",
       "      <td>2000-01-01 00:00:00</td>\n",
       "      <td>979</td>\n",
       "      <td>Zelda</td>\n",
       "      <td>0.802163</td>\n",
       "      <td>0.166619</td>\n",
       "    </tr>\n",
       "    <tr>\n",
       "      <th>1</th>\n",
       "      <td>2000-01-01 00:00:01</td>\n",
       "      <td>1019</td>\n",
       "      <td>Ingrid</td>\n",
       "      <td>-0.349999</td>\n",
       "      <td>0.704687</td>\n",
       "    </tr>\n",
       "    <tr>\n",
       "      <th>2</th>\n",
       "      <td>2000-01-01 00:00:02</td>\n",
       "      <td>1007</td>\n",
       "      <td>Hannah</td>\n",
       "      <td>-0.169853</td>\n",
       "      <td>-0.050842</td>\n",
       "    </tr>\n",
       "    <tr>\n",
       "      <th>3</th>\n",
       "      <td>2000-01-01 00:00:03</td>\n",
       "      <td>1034</td>\n",
       "      <td>Ursula</td>\n",
       "      <td>0.868090</td>\n",
       "      <td>-0.190783</td>\n",
       "    </tr>\n",
       "    <tr>\n",
       "      <th>4</th>\n",
       "      <td>2000-01-01 00:00:04</td>\n",
       "      <td>1024</td>\n",
       "      <td>Ingrid</td>\n",
       "      <td>0.083798</td>\n",
       "      <td>0.109101</td>\n",
       "    </tr>\n",
       "  </tbody>\n",
       "</table>\n",
       "</div>"
      ],
      "text/plain": [
       "            timestamp    id    name         x         y\n",
       "0 2000-01-01 00:00:00   979   Zelda  0.802163  0.166619\n",
       "1 2000-01-01 00:00:01  1019  Ingrid -0.349999  0.704687\n",
       "2 2000-01-01 00:00:02  1007  Hannah -0.169853 -0.050842\n",
       "3 2000-01-01 00:00:03  1034  Ursula  0.868090 -0.190783\n",
       "4 2000-01-01 00:00:04  1024  Ingrid  0.083798  0.109101"
      ]
     },
     "execution_count": 26,
     "metadata": {},
     "output_type": "execute_result"
    }
   ],
   "source": [
    "import dask.dataframe as dd\n",
    "df = dd.read_csv('data/multicsv/2000-*-*.csv', \n",
    "                 parse_dates=['timestamp'])\n",
    "print(\"Total rows:\", len(df))\n",
    "df.head()"
   ]
  },
  {
   "cell_type": "code",
   "execution_count": 30,
   "metadata": {},
   "outputs": [
    {
     "data": {
      "text/plain": [
       "id    999.965606\n",
       "x       0.000096\n",
       "y       0.000081\n",
       "dtype: float64"
      ]
     },
     "execution_count": 30,
     "metadata": {},
     "output_type": "execute_result"
    }
   ],
   "source": [
    "df.mean(numeric_only=True).compute()"
   ]
  },
  {
   "cell_type": "markdown",
   "metadata": {},
   "source": [
    "## Spreadsheets Considered Harmful"
   ]
  },
  {
   "cell_type": "code",
   "execution_count": 31,
   "metadata": {},
   "outputs": [
    {
     "data": {
      "text/html": [
       "<div>\n",
       "<style scoped>\n",
       "    .dataframe tbody tr th:only-of-type {\n",
       "        vertical-align: middle;\n",
       "    }\n",
       "\n",
       "    .dataframe tbody tr th {\n",
       "        vertical-align: top;\n",
       "    }\n",
       "\n",
       "    .dataframe thead th {\n",
       "        text-align: right;\n",
       "    }\n",
       "</style>\n",
       "<table border=\"1\" class=\"dataframe\">\n",
       "  <thead>\n",
       "    <tr style=\"text-align: right;\">\n",
       "      <th></th>\n",
       "      <th>timestamp</th>\n",
       "      <th>id</th>\n",
       "      <th>name</th>\n",
       "      <th>x</th>\n",
       "    </tr>\n",
       "  </thead>\n",
       "  <tbody>\n",
       "    <tr>\n",
       "      <th>0</th>\n",
       "      <td>2000-01-01 00:00:00</td>\n",
       "      <td>979</td>\n",
       "      <td>Zelda</td>\n",
       "      <td>0.802163</td>\n",
       "    </tr>\n",
       "    <tr>\n",
       "      <th>1</th>\n",
       "      <td>2000-01-01 0:00:01</td>\n",
       "      <td>1019.5</td>\n",
       "      <td>Ingrid</td>\n",
       "      <td>-0.349999</td>\n",
       "    </tr>\n",
       "    <tr>\n",
       "      <th>2</th>\n",
       "      <td>2000-01-01 00:00:02</td>\n",
       "      <td>1007</td>\n",
       "      <td>Hannah</td>\n",
       "      <td>-0.169853</td>\n",
       "    </tr>\n",
       "    <tr>\n",
       "      <th>3</th>\n",
       "      <td>2000-01-01 00:00:03</td>\n",
       "      <td>1034</td>\n",
       "      <td>Ursula</td>\n",
       "      <td>0.86809</td>\n",
       "    </tr>\n",
       "    <tr>\n",
       "      <th>...</th>\n",
       "      <td>...</td>\n",
       "      <td>...</td>\n",
       "      <td>...</td>\n",
       "      <td>...</td>\n",
       "    </tr>\n",
       "    <tr>\n",
       "      <th>6</th>\n",
       "      <td>timestamp</td>\n",
       "      <td>id</td>\n",
       "      <td>name</td>\n",
       "      <td>y</td>\n",
       "    </tr>\n",
       "    <tr>\n",
       "      <th>7</th>\n",
       "      <td>2000-01-01 00:00:02</td>\n",
       "      <td>1007</td>\n",
       "      <td>Hannah</td>\n",
       "      <td>-0.050842</td>\n",
       "    </tr>\n",
       "    <tr>\n",
       "      <th>8</th>\n",
       "      <td>2000-01-01 00:00:03</td>\n",
       "      <td>1034</td>\n",
       "      <td>Ursula</td>\n",
       "      <td>-0.190783</td>\n",
       "    </tr>\n",
       "    <tr>\n",
       "      <th>9</th>\n",
       "      <td>2000-01-01 00:00:04</td>\n",
       "      <td>1024</td>\n",
       "      <td>Ingrid</td>\n",
       "      <td>0.109101</td>\n",
       "    </tr>\n",
       "  </tbody>\n",
       "</table>\n",
       "<p>10 rows × 4 columns</p>\n",
       "</div>"
      ],
      "text/plain": [
       "              timestamp      id    name          x\n",
       "0   2000-01-01 00:00:00     979   Zelda   0.802163\n",
       "1    2000-01-01 0:00:01  1019.5  Ingrid  -0.349999\n",
       "2   2000-01-01 00:00:02    1007  Hannah  -0.169853\n",
       "3   2000-01-01 00:00:03    1034  Ursula    0.86809\n",
       "..                  ...     ...     ...        ...\n",
       "6             timestamp      id    name          y\n",
       "7   2000-01-01 00:00:02    1007  Hannah  -0.050842\n",
       "8   2000-01-01 00:00:03    1034  Ursula  -0.190783\n",
       "9   2000-01-01 00:00:04    1024  Ingrid   0.109101\n",
       "\n",
       "[10 rows x 4 columns]"
      ]
     },
     "execution_count": 31,
     "metadata": {},
     "output_type": "execute_result"
    }
   ],
   "source": [
    "# Default engine `xlrd` might have bug in Python 3.9\n",
    "pd.read_excel('data/Excel-Pitfalls.xlsx',\n",
    "              sheet_name=\"Dask Sample\", engine=\"openpyxl\")"
   ]
  },
  {
   "cell_type": "code",
   "execution_count": 40,
   "metadata": {},
   "outputs": [
    {
     "data": {
      "text/html": [
       "<div>\n",
       "<style scoped>\n",
       "    .dataframe tbody tr th:only-of-type {\n",
       "        vertical-align: middle;\n",
       "    }\n",
       "\n",
       "    .dataframe tbody tr th {\n",
       "        vertical-align: top;\n",
       "    }\n",
       "\n",
       "    .dataframe thead th {\n",
       "        text-align: right;\n",
       "    }\n",
       "</style>\n",
       "<table border=\"1\" class=\"dataframe\">\n",
       "  <thead>\n",
       "    <tr style=\"text-align: right;\">\n",
       "      <th></th>\n",
       "      <th>timestamp</th>\n",
       "      <th>id</th>\n",
       "      <th>name</th>\n",
       "      <th>x</th>\n",
       "    </tr>\n",
       "  </thead>\n",
       "  <tbody>\n",
       "    <tr>\n",
       "      <th>0</th>\n",
       "      <td>2000-01-01 00:00:00</td>\n",
       "      <td>979</td>\n",
       "      <td>Zelda</td>\n",
       "      <td>0.802163</td>\n",
       "    </tr>\n",
       "    <tr>\n",
       "      <th>1</th>\n",
       "      <td>2000-01-01 0:00:01</td>\n",
       "      <td>1019.5</td>\n",
       "      <td>Ingrid</td>\n",
       "      <td>-0.349999</td>\n",
       "    </tr>\n",
       "    <tr>\n",
       "      <th>2</th>\n",
       "      <td>2000-01-01 00:00:02</td>\n",
       "      <td>1007</td>\n",
       "      <td>Hannah</td>\n",
       "      <td>-0.169853</td>\n",
       "    </tr>\n",
       "  </tbody>\n",
       "</table>\n",
       "</div>"
      ],
      "text/plain": [
       "             timestamp      id    name          x\n",
       "0  2000-01-01 00:00:00     979   Zelda   0.802163\n",
       "1   2000-01-01 0:00:01  1019.5  Ingrid  -0.349999\n",
       "2  2000-01-01 00:00:02    1007  Hannah  -0.169853"
      ]
     },
     "execution_count": 40,
     "metadata": {},
     "output_type": "execute_result"
    }
   ],
   "source": [
    "df1 = pd.read_excel('data/Excel-Pitfalls.xlsx', \n",
    "                    nrows=5, dtype=object, engine=\"openpyxl\")\n",
    "df1.loc[:2]   # Just look at first few rows"
   ]
  },
  {
   "cell_type": "code",
   "execution_count": 41,
   "metadata": {},
   "outputs": [
    {
     "data": {
      "text/html": [
       "<div>\n",
       "<style scoped>\n",
       "    .dataframe tbody tr th:only-of-type {\n",
       "        vertical-align: middle;\n",
       "    }\n",
       "\n",
       "    .dataframe tbody tr th {\n",
       "        vertical-align: top;\n",
       "    }\n",
       "\n",
       "    .dataframe thead th {\n",
       "        text-align: right;\n",
       "    }\n",
       "</style>\n",
       "<table border=\"1\" class=\"dataframe\">\n",
       "  <thead>\n",
       "    <tr style=\"text-align: right;\">\n",
       "      <th></th>\n",
       "      <th>timestamp</th>\n",
       "      <th>id</th>\n",
       "      <th>name</th>\n",
       "      <th>y</th>\n",
       "    </tr>\n",
       "  </thead>\n",
       "  <tbody>\n",
       "    <tr>\n",
       "      <th>0</th>\n",
       "      <td>2000-01-01 00:00:02</td>\n",
       "      <td>1007</td>\n",
       "      <td>Hannah</td>\n",
       "      <td>-0.050842</td>\n",
       "    </tr>\n",
       "    <tr>\n",
       "      <th>1</th>\n",
       "      <td>2000-01-01 00:00:03</td>\n",
       "      <td>1034</td>\n",
       "      <td>Ursula</td>\n",
       "      <td>-0.190783</td>\n",
       "    </tr>\n",
       "    <tr>\n",
       "      <th>2</th>\n",
       "      <td>2000-01-01 00:00:04</td>\n",
       "      <td>1024</td>\n",
       "      <td>Ingrid</td>\n",
       "      <td>0.109101</td>\n",
       "    </tr>\n",
       "  </tbody>\n",
       "</table>\n",
       "</div>"
      ],
      "text/plain": [
       "            timestamp    id    name         y\n",
       "0 2000-01-01 00:00:02  1007  Hannah -0.050842\n",
       "1 2000-01-01 00:00:03  1034  Ursula -0.190783\n",
       "2 2000-01-01 00:00:04  1024  Ingrid  0.109101"
      ]
     },
     "execution_count": 41,
     "metadata": {},
     "output_type": "execute_result"
    }
   ],
   "source": [
    "pd.read_excel('data/Excel-Pitfalls.xlsx', skiprows=7, engine=\"openpyxl\")"
   ]
  },
  {
   "cell_type": "code",
   "execution_count": 42,
   "metadata": {},
   "outputs": [
    {
     "data": {
      "text/plain": [
       "timestamp    object\n",
       "id           object\n",
       "name         object\n",
       "x            object\n",
       "dtype: object"
      ]
     },
     "execution_count": 42,
     "metadata": {},
     "output_type": "execute_result"
    }
   ],
   "source": [
    "df1.dtypes"
   ]
  },
  {
   "cell_type": "code",
   "execution_count": 43,
   "metadata": {},
   "outputs": [
    {
     "name": "stdout",
     "output_type": "stream",
     "text": [
      "TS 0: 2000-01-01 00:00:00\tdatetime\n",
      "TS 1: 2000-01-01 0:00:01\tstr\n",
      "TS 2: 2000-01-01 00:00:02\tdatetime\n"
     ]
    }
   ],
   "source": [
    "# Look at the stored data type of each cell\n",
    "tss = df1.loc[:2, 'timestamp']\n",
    "for i, ts in enumerate(tss):\n",
    "    print(f\"TS {i}: {ts}\\t{ts.__class__.__name__}\")"
   ]
  },
  {
   "cell_type": "code",
   "execution_count": 44,
   "metadata": {},
   "outputs": [
    {
     "data": {
      "text/plain": [
       "0   2000-01-01 00:00:00\n",
       "1   2000-01-01 00:00:01\n",
       "2   2000-01-01 00:00:02\n",
       "Name: timestamp, dtype: datetime64[ns]"
      ]
     },
     "execution_count": 44,
     "metadata": {},
     "output_type": "execute_result"
    }
   ],
   "source": [
    "pd.to_datetime(tss)"
   ]
  },
  {
   "cell_type": "code",
   "execution_count": 45,
   "metadata": {},
   "outputs": [
    {
     "name": "stdout",
     "output_type": "stream",
     "text": [
      "id 0: 979\tint\n",
      "id 1: 1019.5\tfloat\n",
      "id 2: 1007\tint\n",
      "id 3: 1034\tstr\n"
     ]
    }
   ],
   "source": [
    "# Look at the stored data type of each cell\n",
    "ids = df1.loc[:3, 'id']\n",
    "for i, id_ in enumerate(ids):\n",
    "    print(f\"id {i}: {id_}\\t{id_.__class__.__name__}\")"
   ]
  },
  {
   "cell_type": "code",
   "execution_count": 46,
   "metadata": {},
   "outputs": [
    {
     "data": {
      "text/plain": [
       "0     979\n",
       "1    1019\n",
       "2    1007\n",
       "3    1034\n",
       "Name: id, dtype: int64"
      ]
     },
     "execution_count": 46,
     "metadata": {},
     "output_type": "execute_result"
    }
   ],
   "source": [
    "ids.astype(int)"
   ]
  },
  {
   "cell_type": "code",
   "execution_count": 47,
   "metadata": {},
   "outputs": [
    {
     "name": "stdout",
     "output_type": "stream",
     "text": [
      "timestamp    datetime64[ns]\n",
      "id                   uint16\n",
      "name         string[python]\n",
      "x                   float64\n",
      "dtype: object\n"
     ]
    }
   ],
   "source": [
    "# Only rows through index `3` are useful\n",
    "# We are casting to more specific data types \n",
    "#   based on domain and problem knowledge\n",
    "df1 = df1.loc[0:3].astype(\n",
    "    {'id': np.uint16, \n",
    "     'name': pd.StringDtype(), \n",
    "     'x': float})\n",
    "# datetimes require conversion function, not just type\n",
    "df1['timestamp'] = pd.to_datetime(df1.timestamp)\n",
    "print(df1.dtypes)"
   ]
  },
  {
   "cell_type": "code",
   "execution_count": 48,
   "metadata": {},
   "outputs": [
    {
     "data": {
      "text/html": [
       "<div>\n",
       "<style scoped>\n",
       "    .dataframe tbody tr th:only-of-type {\n",
       "        vertical-align: middle;\n",
       "    }\n",
       "\n",
       "    .dataframe tbody tr th {\n",
       "        vertical-align: top;\n",
       "    }\n",
       "\n",
       "    .dataframe thead th {\n",
       "        text-align: right;\n",
       "    }\n",
       "</style>\n",
       "<table border=\"1\" class=\"dataframe\">\n",
       "  <thead>\n",
       "    <tr style=\"text-align: right;\">\n",
       "      <th></th>\n",
       "      <th>id</th>\n",
       "      <th>name</th>\n",
       "      <th>x</th>\n",
       "    </tr>\n",
       "    <tr>\n",
       "      <th>timestamp</th>\n",
       "      <th></th>\n",
       "      <th></th>\n",
       "      <th></th>\n",
       "    </tr>\n",
       "  </thead>\n",
       "  <tbody>\n",
       "    <tr>\n",
       "      <th>2000-01-01 00:00:00</th>\n",
       "      <td>979</td>\n",
       "      <td>Zelda</td>\n",
       "      <td>0.802163</td>\n",
       "    </tr>\n",
       "    <tr>\n",
       "      <th>2000-01-01 00:00:01</th>\n",
       "      <td>1019</td>\n",
       "      <td>Ingrid</td>\n",
       "      <td>-0.349999</td>\n",
       "    </tr>\n",
       "    <tr>\n",
       "      <th>2000-01-01 00:00:02</th>\n",
       "      <td>1007</td>\n",
       "      <td>Hannah</td>\n",
       "      <td>-0.169853</td>\n",
       "    </tr>\n",
       "    <tr>\n",
       "      <th>2000-01-01 00:00:03</th>\n",
       "      <td>1034</td>\n",
       "      <td>Ursula</td>\n",
       "      <td>0.868090</td>\n",
       "    </tr>\n",
       "  </tbody>\n",
       "</table>\n",
       "</div>"
      ],
      "text/plain": [
       "                       id    name         x\n",
       "timestamp                                  \n",
       "2000-01-01 00:00:00   979   Zelda  0.802163\n",
       "2000-01-01 00:00:01  1019  Ingrid -0.349999\n",
       "2000-01-01 00:00:02  1007  Hannah -0.169853\n",
       "2000-01-01 00:00:03  1034  Ursula  0.868090"
      ]
     },
     "execution_count": 48,
     "metadata": {},
     "output_type": "execute_result"
    }
   ],
   "source": [
    "df1.set_index('timestamp')"
   ]
  },
  {
   "cell_type": "markdown",
   "metadata": {},
   "source": [
    "## SQL RDBMS"
   ]
  },
  {
   "cell_type": "markdown",
   "metadata": {},
   "source": [
    "### Massaging Data Types"
   ]
  },
  {
   "cell_type": "code",
   "execution_count": 68,
   "metadata": {},
   "outputs": [],
   "source": [
    "con, engine = connect_local()"
   ]
  },
  {
   "cell_type": "code",
   "execution_count": 56,
   "metadata": {},
   "outputs": [],
   "source": [
    "make_dask_data()"
   ]
  },
  {
   "cell_type": "code",
   "execution_count": 70,
   "metadata": {},
   "outputs": [],
   "source": [
    "\"Put some data into postgres.  Assumes Dask data was generated\"\n",
    "out = io.StringIO()\n",
    "df = pd.read_csv('data/dask/2000-01-02.csv', parse_dates=['timestamp'])\n",
    "df = df.loc[3456:5678]\n",
    "df.to_sql('dask_sample', engine, if_exists='replace')\n",
    "sql = \"\"\"\n",
    "    ALTER TABLE dask_sample\n",
    "    ALTER COLUMN id TYPE smallint,\n",
    "    ALTER COLUMN name TYPE char(10),\n",
    "    ALTER COLUMN x TYPE decimal(6, 3),\n",
    "    ALTER COLUMN y TYPE real,\n",
    "    ALTER COLUMN index TYPE integer;\n",
    "    \"\"\"\n",
    "cur = con.cursor()\n",
    "cur.execute(sql)\n",
    "cur.execute('COMMIT;')\n",
    "describe = \"\"\"\n",
    "    SELECT column_name, data_type, numeric_precision, character_maximum_length\n",
    "    FROM information_schema.columns \n",
    "    WHERE table_name='dask_sample';\"\"\"\n",
    "cur.execute(describe)\n",
    "for tup in cur:\n",
    "    print(f\"{tup[0]}: {tup[1]} ({tup[2] or tup[3]})\", file=out)\n",
    "cur.execute(\"SELECT count(*) FROM dask_sample\")\n",
    "print(\"Rows:\", cur.fetchone()[0], file=out)"
   ]
  },
  {
   "cell_type": "code",
   "execution_count": 71,
   "metadata": {},
   "outputs": [
    {
     "name": "stdout",
     "output_type": "stream",
     "text": [
      "[(3456,\n",
      "  datetime.datetime(2000, 1, 2, 0, 57, 36),\n",
      "  'Zelda     ',\n",
      "  1017,\n",
      "  Decimal('-0.489'),\n",
      "  -0.61577815),\n",
      " (3457,\n",
      "  datetime.datetime(2000, 1, 2, 0, 57, 37),\n",
      "  'Ray       ',\n",
      "  1094,\n",
      "  Decimal('-0.782'),\n",
      "  0.7568845)]\n"
     ]
    }
   ],
   "source": [
    "# Function connect_local() spelled out in chapter 4 (Anomaly Detection)\n",
    "con, engine = connect_local()\n",
    "cur = con.cursor()\n",
    "cur.execute(\"SELECT * FROM dask_sample\")\n",
    "pprint(cur.fetchmany(2))"
   ]
  },
  {
   "cell_type": "code",
   "execution_count": 72,
   "metadata": {},
   "outputs": [
    {
     "data": {
      "text/html": [
       "<div>\n",
       "<style scoped>\n",
       "    .dataframe tbody tr th:only-of-type {\n",
       "        vertical-align: middle;\n",
       "    }\n",
       "\n",
       "    .dataframe tbody tr th {\n",
       "        vertical-align: top;\n",
       "    }\n",
       "\n",
       "    .dataframe thead th {\n",
       "        text-align: right;\n",
       "    }\n",
       "</style>\n",
       "<table border=\"1\" class=\"dataframe\">\n",
       "  <thead>\n",
       "    <tr style=\"text-align: right;\">\n",
       "      <th></th>\n",
       "      <th>timestamp</th>\n",
       "      <th>name</th>\n",
       "      <th>id</th>\n",
       "      <th>x</th>\n",
       "      <th>y</th>\n",
       "    </tr>\n",
       "    <tr>\n",
       "      <th>index</th>\n",
       "      <th></th>\n",
       "      <th></th>\n",
       "      <th></th>\n",
       "      <th></th>\n",
       "      <th></th>\n",
       "    </tr>\n",
       "  </thead>\n",
       "  <tbody>\n",
       "    <tr>\n",
       "      <th>5676</th>\n",
       "      <td>2000-01-02 01:34:36</td>\n",
       "      <td>Laura</td>\n",
       "      <td>1030</td>\n",
       "      <td>-0.918</td>\n",
       "      <td>0.293872</td>\n",
       "    </tr>\n",
       "    <tr>\n",
       "      <th>5677</th>\n",
       "      <td>2000-01-02 01:34:37</td>\n",
       "      <td>Victor</td>\n",
       "      <td>980</td>\n",
       "      <td>-0.620</td>\n",
       "      <td>0.963750</td>\n",
       "    </tr>\n",
       "    <tr>\n",
       "      <th>5678</th>\n",
       "      <td>2000-01-02 01:34:38</td>\n",
       "      <td>Alice</td>\n",
       "      <td>985</td>\n",
       "      <td>0.132</td>\n",
       "      <td>0.706138</td>\n",
       "    </tr>\n",
       "  </tbody>\n",
       "</table>\n",
       "</div>"
      ],
      "text/plain": [
       "                timestamp        name    id      x         y\n",
       "index                                                       \n",
       "5676  2000-01-02 01:34:36  Laura       1030 -0.918  0.293872\n",
       "5677  2000-01-02 01:34:37  Victor       980 -0.620  0.963750\n",
       "5678  2000-01-02 01:34:38  Alice        985  0.132  0.706138"
      ]
     },
     "execution_count": 72,
     "metadata": {},
     "output_type": "execute_result"
    }
   ],
   "source": [
    "df = pd.read_sql('dask_sample', engine, index_col='index')\n",
    "df.tail(3)"
   ]
  },
  {
   "cell_type": "code",
   "execution_count": 73,
   "metadata": {},
   "outputs": [
    {
     "data": {
      "text/plain": [
       "timestamp    datetime64[ns]\n",
       "name                 object\n",
       "id                    int64\n",
       "x                   float64\n",
       "y                   float64\n",
       "dtype: object"
      ]
     },
     "execution_count": 73,
     "metadata": {},
     "output_type": "execute_result"
    }
   ],
   "source": [
    "df.dtypes"
   ]
  },
  {
   "cell_type": "code",
   "execution_count": 74,
   "metadata": {},
   "outputs": [
    {
     "data": {
      "text/plain": [
       "(Column(name='index', type_code=23),\n",
       " Column(name='timestamp', type_code=1114),\n",
       " Column(name='name', type_code=1042),\n",
       " Column(name='id', type_code=21),\n",
       " Column(name='x', type_code=1700),\n",
       " Column(name='y', type_code=700))"
      ]
     },
     "execution_count": 74,
     "metadata": {},
     "output_type": "execute_result"
    }
   ],
   "source": [
    "cur.execute(\"SELECT * FROM dask_sample\")\n",
    "cur.description"
   ]
  },
  {
   "cell_type": "code",
   "execution_count": 75,
   "metadata": {},
   "outputs": [
    {
     "data": {
      "text/plain": [
       "[int, datetime.datetime, str, int, decimal.Decimal, float]"
      ]
     },
     "execution_count": 75,
     "metadata": {},
     "output_type": "execute_result"
    }
   ],
   "source": [
    "rows = cur.fetchall()\n",
    "[type(v) for v in rows[0]]"
   ]
  },
  {
   "cell_type": "code",
   "execution_count": 76,
   "metadata": {},
   "outputs": [
    {
     "data": {
      "text/html": [
       "<div>\n",
       "<style scoped>\n",
       "    .dataframe tbody tr th:only-of-type {\n",
       "        vertical-align: middle;\n",
       "    }\n",
       "\n",
       "    .dataframe tbody tr th {\n",
       "        vertical-align: top;\n",
       "    }\n",
       "\n",
       "    .dataframe thead th {\n",
       "        text-align: right;\n",
       "    }\n",
       "</style>\n",
       "<table border=\"1\" class=\"dataframe\">\n",
       "  <thead>\n",
       "    <tr style=\"text-align: right;\">\n",
       "      <th></th>\n",
       "      <th>timestamp</th>\n",
       "      <th>name</th>\n",
       "      <th>id</th>\n",
       "      <th>x</th>\n",
       "      <th>y</th>\n",
       "    </tr>\n",
       "    <tr>\n",
       "      <th>index</th>\n",
       "      <th></th>\n",
       "      <th></th>\n",
       "      <th></th>\n",
       "      <th></th>\n",
       "      <th></th>\n",
       "    </tr>\n",
       "  </thead>\n",
       "  <tbody>\n",
       "    <tr>\n",
       "      <th>3456</th>\n",
       "      <td>2000-01-02 00:57:36</td>\n",
       "      <td>Zelda</td>\n",
       "      <td>1017</td>\n",
       "      <td>-0.489</td>\n",
       "      <td>-0.615778</td>\n",
       "    </tr>\n",
       "    <tr>\n",
       "      <th>3457</th>\n",
       "      <td>2000-01-02 00:57:37</td>\n",
       "      <td>Ray</td>\n",
       "      <td>1094</td>\n",
       "      <td>-0.782</td>\n",
       "      <td>0.756885</td>\n",
       "    </tr>\n",
       "    <tr>\n",
       "      <th>3458</th>\n",
       "      <td>2000-01-02 00:57:38</td>\n",
       "      <td>Wendy</td>\n",
       "      <td>986</td>\n",
       "      <td>-0.471</td>\n",
       "      <td>0.983392</td>\n",
       "    </tr>\n",
       "  </tbody>\n",
       "</table>\n",
       "</div>"
      ],
      "text/plain": [
       "                timestamp        name    id       x         y\n",
       "index                                                        \n",
       "3456  2000-01-02 00:57:36  Zelda       1017  -0.489 -0.615778\n",
       "3457  2000-01-02 00:57:37  Ray         1094  -0.782  0.756885\n",
       "3458  2000-01-02 00:57:38  Wendy        986  -0.471  0.983392"
      ]
     },
     "execution_count": 76,
     "metadata": {},
     "output_type": "execute_result"
    }
   ],
   "source": [
    "# Read the data with no imposed data types\n",
    "df = pd.DataFrame(rows, \n",
    "                  columns=[col.name for col in cur.description],\n",
    "                  dtype=object)\n",
    "\n",
    "# Assign specific int or float lengths to some fields\n",
    "types = {'index': np.int32, 'id': np.int16, 'y': np.float32}\n",
    "df = df.astype(types)\n",
    "\n",
    "# Cast the Python datetime to a Pandas datetime\n",
    "df['timestamp'] = pd.to_datetime(df.timestamp)\n",
    "df.set_index('index').head(3)"
   ]
  },
  {
   "cell_type": "code",
   "execution_count": 77,
   "metadata": {},
   "outputs": [
    {
     "data": {
      "text/plain": [
       "index                 int32\n",
       "timestamp    datetime64[ns]\n",
       "name                 object\n",
       "id                    int16\n",
       "x                    object\n",
       "y                   float32\n",
       "dtype: object"
      ]
     },
     "execution_count": 77,
     "metadata": {},
     "output_type": "execute_result"
    }
   ],
   "source": [
    "df.dtypes"
   ]
  },
  {
   "cell_type": "code",
   "execution_count": 78,
   "metadata": {},
   "outputs": [
    {
     "name": "stdout",
     "output_type": "stream",
     "text": [
      "{\"'Zelda     '\": 'str',\n",
      " \"Decimal('-0.489')\": 'Decimal',\n",
      " \"Timestamp('2000-01-02 00:57:36')\": 'Timestamp',\n",
      " 'np.float32(-0.61577815)': 'float32',\n",
      " 'np.int16(1017)': 'int16',\n",
      " 'np.int32(3456)': 'int32',\n",
      " 'np.int64(0)': 'int64'}\n"
     ]
    }
   ],
   "source": [
    "pprint({repr(x): x.__class__.__name__ \n",
    "        for x in df.reset_index().iloc[0]})"
   ]
  },
  {
   "cell_type": "markdown",
   "metadata": {},
   "source": [
    "### Repeating in R"
   ]
  },
  {
   "cell_type": "code",
   "execution_count": 79,
   "metadata": {},
   "outputs": [
    {
     "name": "stdout",
     "output_type": "stream",
     "text": [
      "# A tibble: 3 × 4\n",
      "     id name              x      y\n",
      "  <int> <chr>         <dbl>  <dbl>\n",
      "1  1017 \"Zelda     \" -0.489 -0.616\n",
      "2  1094 \"Ray       \" -0.782  0.757\n",
      "3   986 \"Wendy     \" -0.471  0.983\n"
     ]
    }
   ],
   "source": [
    "%%capture --no-stdout err\n",
    "%%R\n",
    "require(\"RPostgreSQL\")\n",
    "drv <- dbDriver(\"PostgreSQL\")\n",
    "con <- dbConnect(drv, dbname = \"dirty\",\n",
    "                 host = \"localhost\", port = 5432,\n",
    "                 user = \"cleaning\", password = \"data\")\n",
    "sql <- \"SELECT id, name, x, y FROM dask_sample LIMIT 3\"\n",
    "data <- tibble(dbGetQuery(con, sql))\n",
    "data"
   ]
  },
  {
   "cell_type": "code",
   "execution_count": 82,
   "metadata": {},
   "outputs": [
    {
     "name": "stdout",
     "output_type": "stream",
     "text": [
      "    max_x     max_y       name count\n",
      "1   0.957 0.9741784 Michael        8\n",
      "2   0.514 0.5175206 Kevin          8\n",
      "3   0.840 0.8458282 Xavier         7\n",
      "4   0.887 0.7497735 Charlie        6\n",
      "5   0.879 0.5652965 Alice          6\n",
      "6   0.990 0.7184983 Laura          5\n",
      "7  -0.292 0.8931112 Patricia       5\n",
      "8   0.557 0.8699002 Zelda          5\n",
      "9   0.561 0.9357566 Jerry          5\n",
      "10  0.456 0.7619607 Norbert        5\n",
      "11  0.435 0.7568845 Ray            5\n",
      "12  0.870 0.2510659 Hannah         5\n"
     ]
    }
   ],
   "source": [
    "%%capture --no-stdout err\n",
    "%%R\n",
    "sql <- \"SELECT max(x) AS max_x, max(y) AS max_y, \n",
    "name, count(name) \n",
    "FROM dask_sample \n",
    "WHERE id > 1050 \n",
    "GROUP BY name \n",
    "ORDER BY count(name) DESC\n",
    "LIMIT 12;\"\n",
    "# Here we simply retrieve a data.frame \n",
    "# rather than convert to tibble \n",
    "dbGetQuery(con, sql)"
   ]
  },
  {
   "cell_type": "markdown",
   "metadata": {},
   "source": [
    "### Where SQL Goes Wrong (And How to Notice It)"
   ]
  },
  {
   "cell_type": "code",
   "execution_count": 88,
   "metadata": {},
   "outputs": [],
   "source": [
    "\"Create deliberately truncated data\"\n",
    "out = io.StringIO()\n",
    "df = pd.read_csv('data/AMTRAK-Stations-Database_2012.csv')\n",
    "df = df[['Code', 'StationName', 'City', 'State']]\n",
    "df['Visitors'] = np.random.randint(0, 35_000, 973)\n",
    "df['StationName'] = df.StationName.str.split(', ', expand=True)[0]\n",
    "df['StationName'] = df.StationName.str[:20]\n",
    "df['Visitors'] = np.clip(df.Visitors, 0, 2**15-1)\n",
    "df.to_sql('bad_amtrak', engine, if_exists='replace', index=False)\n",
    "sql = \"\"\"\n",
    "    ALTER TABLE bad_amtrak\n",
    "    ALTER COLUMN \"StationName\" TYPE char(20),\n",
    "    ALTER COLUMN \"Visitors\" TYPE smallint;    \n",
    "    \"\"\"\n",
    "cur = con.cursor()\n",
    "cur.execute(sql)\n",
    "cur.execute('COMMIT;')\n",
    "describe = \"\"\"\n",
    "    SELECT column_name, data_type, numeric_precision, character_maximum_length\n",
    "    FROM information_schema.columns \n",
    "    WHERE table_name='bad_amtrak';\"\"\"\n",
    "cur.execute(describe)\n",
    "for tup in cur:\n",
    "    print(f\"{tup[0]}: {tup[1]} ({tup[2] or tup[3]})\", file=out)\n",
    "cur.execute(\"SELECT count(*) FROM bad_amtrak\")\n",
    "print(\"Rows:\", cur.fetchone()[0], file=out)"
   ]
  },
  {
   "cell_type": "code",
   "execution_count": 89,
   "metadata": {},
   "outputs": [
    {
     "data": {
      "text/html": [
       "<div>\n",
       "<style scoped>\n",
       "    .dataframe tbody tr th:only-of-type {\n",
       "        vertical-align: middle;\n",
       "    }\n",
       "\n",
       "    .dataframe tbody tr th {\n",
       "        vertical-align: top;\n",
       "    }\n",
       "\n",
       "    .dataframe thead th {\n",
       "        text-align: right;\n",
       "    }\n",
       "</style>\n",
       "<table border=\"1\" class=\"dataframe\">\n",
       "  <thead>\n",
       "    <tr style=\"text-align: right;\">\n",
       "      <th></th>\n",
       "      <th>Code</th>\n",
       "      <th>StationName</th>\n",
       "      <th>City</th>\n",
       "      <th>State</th>\n",
       "      <th>Visitors</th>\n",
       "    </tr>\n",
       "  </thead>\n",
       "  <tbody>\n",
       "    <tr>\n",
       "      <th>0</th>\n",
       "      <td>ABB</td>\n",
       "      <td>Abbotsford-Colby</td>\n",
       "      <td>Colby</td>\n",
       "      <td>WI</td>\n",
       "      <td>14835</td>\n",
       "    </tr>\n",
       "    <tr>\n",
       "      <th>1</th>\n",
       "      <td>ABE</td>\n",
       "      <td>Aberdeen</td>\n",
       "      <td>Aberdeen</td>\n",
       "      <td>MD</td>\n",
       "      <td>19738</td>\n",
       "    </tr>\n",
       "    <tr>\n",
       "      <th>2</th>\n",
       "      <td>ABN</td>\n",
       "      <td>Absecon</td>\n",
       "      <td>Absecon</td>\n",
       "      <td>NJ</td>\n",
       "      <td>21518</td>\n",
       "    </tr>\n",
       "    <tr>\n",
       "      <th>3</th>\n",
       "      <td>ABQ</td>\n",
       "      <td>Albuquerque</td>\n",
       "      <td>Albuquerque</td>\n",
       "      <td>NM</td>\n",
       "      <td>2978</td>\n",
       "    </tr>\n",
       "    <tr>\n",
       "      <th>4</th>\n",
       "      <td>ACA</td>\n",
       "      <td>Antioch-Pittsburg</td>\n",
       "      <td>Antioch</td>\n",
       "      <td>CA</td>\n",
       "      <td>20042</td>\n",
       "    </tr>\n",
       "  </tbody>\n",
       "</table>\n",
       "</div>"
      ],
      "text/plain": [
       "  Code           StationName         City State  Visitors\n",
       "0  ABB  Abbotsford-Colby            Colby    WI     14835\n",
       "1  ABE  Aberdeen                 Aberdeen    MD     19738\n",
       "2  ABN  Absecon                   Absecon    NJ     21518\n",
       "3  ABQ  Albuquerque           Albuquerque    NM      2978\n",
       "4  ACA  Antioch-Pittsburg         Antioch    CA     20042"
      ]
     },
     "execution_count": 89,
     "metadata": {},
     "output_type": "execute_result"
    }
   ],
   "source": [
    "amtrak = pd.read_sql('bad_amtrak', engine)\n",
    "amtrak.head()"
   ]
  },
  {
   "cell_type": "code",
   "execution_count": 90,
   "metadata": {},
   "outputs": [
    {
     "data": {
      "text/plain": [
       "StationName\n",
       "4      15\n",
       "5      46\n",
       "6     100\n",
       "7     114\n",
       "     ... \n",
       "17     15\n",
       "18     17\n",
       "19     27\n",
       "20    116\n",
       "Name: count, Length: 17, dtype: int64"
      ]
     },
     "execution_count": 90,
     "metadata": {},
     "output_type": "execute_result"
    }
   ],
   "source": [
    "amtrak['StationName'] = amtrak.StationName.str.strip()\n",
    "hist = amtrak.StationName.str.len().value_counts().sort_index()\n",
    "hist"
   ]
  },
  {
   "cell_type": "code",
   "execution_count": 91,
   "metadata": {},
   "outputs": [
    {
     "data": {
      "image/png": "[encoded data removed]",
      "text/plain": [
       "<Figure size 640x480 with 1 Axes>"
      ]
     },
     "metadata": {},
     "output_type": "display_data"
    }
   ],
   "source": [
    "hist.plot(kind='bar', \n",
    "          title=\"Lengths of Station Names\")\n",
    "plt.savefig('img/(Ch01)Lengths of Station Names')"
   ]
  },
  {
   "cell_type": "code",
   "execution_count": 92,
   "metadata": {},
   "outputs": [
    {
     "data": {
      "text/html": [
       "<div>\n",
       "<style scoped>\n",
       "    .dataframe tbody tr th:only-of-type {\n",
       "        vertical-align: middle;\n",
       "    }\n",
       "\n",
       "    .dataframe tbody tr th {\n",
       "        vertical-align: top;\n",
       "    }\n",
       "\n",
       "    .dataframe thead th {\n",
       "        text-align: right;\n",
       "    }\n",
       "</style>\n",
       "<table border=\"1\" class=\"dataframe\">\n",
       "  <thead>\n",
       "    <tr style=\"text-align: right;\">\n",
       "      <th></th>\n",
       "      <th>Code</th>\n",
       "      <th>StationName</th>\n",
       "      <th>City</th>\n",
       "      <th>State</th>\n",
       "      <th>Visitors</th>\n",
       "    </tr>\n",
       "  </thead>\n",
       "  <tbody>\n",
       "    <tr>\n",
       "      <th>28</th>\n",
       "      <td>ARI</td>\n",
       "      <td>Astoria (Shell Stati</td>\n",
       "      <td>Astoria</td>\n",
       "      <td>OR</td>\n",
       "      <td>28456</td>\n",
       "    </tr>\n",
       "    <tr>\n",
       "      <th>31</th>\n",
       "      <td>ART</td>\n",
       "      <td>Astoria (Transit Cen</td>\n",
       "      <td>Astoria</td>\n",
       "      <td>OR</td>\n",
       "      <td>31366</td>\n",
       "    </tr>\n",
       "    <tr>\n",
       "      <th>42</th>\n",
       "      <td>BAL</td>\n",
       "      <td>Baltimore (Penn Stat</td>\n",
       "      <td>Baltimore</td>\n",
       "      <td>MD</td>\n",
       "      <td>27105</td>\n",
       "    </tr>\n",
       "    <tr>\n",
       "      <th>50</th>\n",
       "      <td>BCA</td>\n",
       "      <td>Baltimore (Camden St</td>\n",
       "      <td>Baltimore</td>\n",
       "      <td>MD</td>\n",
       "      <td>32767</td>\n",
       "    </tr>\n",
       "    <tr>\n",
       "      <th>...</th>\n",
       "      <td>...</td>\n",
       "      <td>...</td>\n",
       "      <td>...</td>\n",
       "      <td>...</td>\n",
       "      <td>...</td>\n",
       "    </tr>\n",
       "    <tr>\n",
       "      <th>965</th>\n",
       "      <td>YOC</td>\n",
       "      <td>Yosemite - Curry Vil</td>\n",
       "      <td>Yosemite National Park</td>\n",
       "      <td>CA</td>\n",
       "      <td>32753</td>\n",
       "    </tr>\n",
       "    <tr>\n",
       "      <th>966</th>\n",
       "      <td>YOF</td>\n",
       "      <td>Yosemite - Crane Fla</td>\n",
       "      <td>Yosemite National Park</td>\n",
       "      <td>CA</td>\n",
       "      <td>19839</td>\n",
       "    </tr>\n",
       "    <tr>\n",
       "      <th>969</th>\n",
       "      <td>YOV</td>\n",
       "      <td>Yosemite - Visitor C</td>\n",
       "      <td>Yosemite National Park</td>\n",
       "      <td>CA</td>\n",
       "      <td>32767</td>\n",
       "    </tr>\n",
       "    <tr>\n",
       "      <th>970</th>\n",
       "      <td>YOW</td>\n",
       "      <td>Yosemite - White Wol</td>\n",
       "      <td>Yosemite National Park</td>\n",
       "      <td>CA</td>\n",
       "      <td>763</td>\n",
       "    </tr>\n",
       "  </tbody>\n",
       "</table>\n",
       "<p>116 rows × 5 columns</p>\n",
       "</div>"
      ],
      "text/plain": [
       "    Code           StationName                    City State  Visitors\n",
       "28   ARI  Astoria (Shell Stati                 Astoria    OR     28456\n",
       "31   ART  Astoria (Transit Cen                 Astoria    OR     31366\n",
       "42   BAL  Baltimore (Penn Stat               Baltimore    MD     27105\n",
       "50   BCA  Baltimore (Camden St               Baltimore    MD     32767\n",
       "..   ...                   ...                     ...   ...       ...\n",
       "965  YOC  Yosemite - Curry Vil  Yosemite National Park    CA     32753\n",
       "966  YOF  Yosemite - Crane Fla  Yosemite National Park    CA     19839\n",
       "969  YOV  Yosemite - Visitor C  Yosemite National Park    CA     32767\n",
       "970  YOW  Yosemite - White Wol  Yosemite National Park    CA       763\n",
       "\n",
       "[116 rows x 5 columns]"
      ]
     },
     "execution_count": 92,
     "metadata": {},
     "output_type": "execute_result"
    }
   ],
   "source": [
    "amtrak[amtrak.StationName.str.len() == 20]"
   ]
  },
  {
   "cell_type": "code",
   "execution_count": 93,
   "metadata": {},
   "outputs": [
    {
     "data": {
      "image/png": "[encoded data removed]",
      "text/plain": [
       "<Figure size 640x480 with 1 Axes>"
      ]
     },
     "metadata": {},
     "output_type": "display_data"
    }
   ],
   "source": [
    "max_ = amtrak.Visitors.max()\n",
    "amtrak.Visitors.plot(\n",
    "        kind='hist', bins=20, \n",
    "        title=f\"Visitors per station (max {max_})\")\n",
    "plt.savefig(f\"img/(Ch01)Visitors per station (max {max_})\")"
   ]
  },
  {
   "cell_type": "code",
   "execution_count": 94,
   "metadata": {},
   "outputs": [
    {
     "data": {
      "text/plain": [
       "0      100\n",
       "1      200\n",
       "2    15000\n",
       "3   -15536\n",
       "4   -15000\n",
       "5    15536\n",
       "dtype: int16"
      ]
     },
     "execution_count": 94,
     "metadata": {},
     "output_type": "execute_result"
    }
   ],
   "source": [
    "ints = pd.Series(\n",
    "    [100, 200, 15_000, 50_000, -15_000, -50_000])\n",
    "ints.astype(np.int16)"
   ]
  },
  {
   "cell_type": "markdown",
   "metadata": {},
   "source": [
    "## Other Formats"
   ]
  },
  {
   "cell_type": "markdown",
   "metadata": {},
   "source": [
    "### HDF5 and NetCDF-4"
   ]
  },
  {
   "cell_type": "markdown",
   "metadata": {},
   "source": [
    "#### Tools and Libraries"
   ]
  },
  {
   "cell_type": "code",
   "execution_count": 96,
   "metadata": {},
   "outputs": [
    {
     "name": "stdout",
     "output_type": "stream",
     "text": [
      "Collecting h5py\n",
      "  Downloading h5py-3.13.0-cp311-cp311-manylinux_2_17_aarch64.manylinux2014_aarch64.whl.metadata (2.5 kB)\n",
      "Requirement already satisfied: numpy>=1.19.3 in /opt/conda/lib/python3.11/site-packages (from h5py) (2.1.0)\n",
      "Downloading h5py-3.13.0-cp311-cp311-manylinux_2_17_aarch64.manylinux2014_aarch64.whl (4.3 MB)\n",
      "\u001b[2K   \u001b[90m━━━━━━━━━━━━━━━━━━━━━━━━━━━━━━━━━━━━━━━━\u001b[0m \u001b[32m4.3/4.3 MB\u001b[0m \u001b[31m9.7 MB/s\u001b[0m eta \u001b[36m0:00:00\u001b[0m:00:01\u001b[0m0:01\u001b[0m\n",
      "\u001b[?25hInstalling collected packages: h5py\n",
      "Successfully installed h5py-3.13.0\n"
     ]
    }
   ],
   "source": [
    "!pip install h5py"
   ]
  },
  {
   "cell_type": "code",
   "execution_count": 97,
   "metadata": {},
   "outputs": [
    {
     "name": "stdout",
     "output_type": "stream",
     "text": [
      "line   | (1494,)        | int16   | 1\n",
      "lev    | (47,)          | int16   | 1\n",
      "sample | (60,)          | int16   | 1\n",
      "lat    | (1494, 60)     | float32 | degrees_north\n",
      "lon    | (1494, 60)     | float32 | degrees_east\n",
      "time   | (1494,)        | float64 | seconds since 1993-01-01 00:00:00\n",
      "DELP   | (1494, 60, 47) | float32 | Pa\n",
      "PS     | (1494, 60)     | float32 | Pa\n",
      "PHIS   | (1494, 60)     | float32 | m+2 s-2\n",
      "T      | (1494, 60, 47) | float32 | K\n",
      "U      | (1494, 60, 47) | float32 | m s-1\n",
      "V      | (1494, 60, 47) | float32 | m s-1\n",
      "U10M   | (1494, 60)     | float32 | m s-1\n",
      "V10M   | (1494, 60)     | float32 | m s-1\n",
      "PBLTOP | (1494, 60)     | float32 | Pa\n",
      "TROPPB | (1494, 60)     | float32 | Pa\n"
     ]
    }
   ],
   "source": [
    "import h5py\n",
    "h5fname = ('data/earthdata/OMI-Aura_ANC-OMVFPITMET'\n",
    "           '_2020m0216t225854-o82929_v003'\n",
    "           '-2020m0217t090311.nc4')\n",
    "\n",
    "data = h5py.File(h5fname, mode='r')\n",
    "\n",
    "for name, arr in data.items():\n",
    "    print(f\"{name:6s} | {str(arr.shape):14s} | \"\n",
    "          f\"{str(arr.dtype):7s} | {arr.attrs['units'][0]}\")"
   ]
  },
  {
   "cell_type": "code",
   "execution_count": 98,
   "metadata": {},
   "outputs": [
    {
     "data": {
      "text/plain": [
       "array([[[17.032158  , 12.763597  ,  3.7710803 ],\n",
       "        [16.53227   , 12.759642  ,  4.1722884 ]],\n",
       "\n",
       "       [[ 4.003829  , -1.0843939 , -6.7918572 ],\n",
       "        [ 3.818467  , -1.0030019 , -6.6708655 ]],\n",
       "\n",
       "       [[-2.7798688 ,  0.24923703, 20.513933  ],\n",
       "        [-2.690715  ,  0.2226392 , 20.473366  ]]], dtype=float32)"
      ]
     },
     "execution_count": 98,
     "metadata": {},
     "output_type": "execute_result"
    }
   ],
   "source": [
    "# A 3-D block from middle of DELP array\n",
    "middle = data['V'][::500, 10:12, :3]\n",
    "middle"
   ]
  },
  {
   "cell_type": "code",
   "execution_count": 99,
   "metadata": {},
   "outputs": [
    {
     "data": {
      "text/plain": [
       "array([[16.782215  , 12.76162   ,  3.9716845 ],\n",
       "       [ 3.911148  , -1.0436978 , -6.7313614 ],\n",
       "       [-2.735292  ,  0.23593812, 20.493649  ]], dtype=float32)"
      ]
     },
     "execution_count": 99,
     "metadata": {},
     "output_type": "execute_result"
    }
   ],
   "source": [
    "middle.mean(axis=1)"
   ]
  },
  {
   "cell_type": "code",
   "execution_count": 100,
   "metadata": {},
   "outputs": [
    {
     "name": "stdout",
     "output_type": "stream",
     "text": [
      "   group   name       otype  dclass            dim\n",
      "0      /   DELP H5I_DATASET   FLOAT 47 x 60 x 1494\n",
      "1      / PBLTOP H5I_DATASET   FLOAT      60 x 1494\n",
      "2      /   PHIS H5I_DATASET   FLOAT      60 x 1494\n",
      "3      /     PS H5I_DATASET   FLOAT      60 x 1494\n",
      "4      /      T H5I_DATASET   FLOAT 47 x 60 x 1494\n",
      "5      / TROPPB H5I_DATASET   FLOAT      60 x 1494\n",
      "6      /      U H5I_DATASET   FLOAT 47 x 60 x 1494\n",
      "7      /   U10M H5I_DATASET   FLOAT      60 x 1494\n",
      "8      /      V H5I_DATASET   FLOAT 47 x 60 x 1494\n",
      "9      /   V10M H5I_DATASET   FLOAT      60 x 1494\n",
      "10     /    lat H5I_DATASET   FLOAT      60 x 1494\n",
      "11     /    lev H5I_DATASET INTEGER             47\n",
      "12     /   line H5I_DATASET INTEGER           1494\n",
      "13     /    lon H5I_DATASET   FLOAT      60 x 1494\n",
      "14     / sample H5I_DATASET INTEGER             60\n",
      "15     /   time H5I_DATASET   FLOAT           1494\n"
     ]
    }
   ],
   "source": [
    "%%R -i h5fname\n",
    "library(rhdf5)\n",
    "h5ls(h5fname)"
   ]
  },
  {
   "cell_type": "code",
   "execution_count": 101,
   "metadata": {},
   "outputs": [
    {
     "name": "stdout",
     "output_type": "stream",
     "text": [
      ", , 1\n",
      "\n",
      "         [,1]     [,2]     [,3]\n",
      "[1,] 17.69524 17.23481 16.57238\n",
      "[2,] 12.46370 12.44905 12.47155\n",
      "\n",
      ", , 2\n",
      "\n",
      "         [,1]     [,2]     [,3]\n",
      "[1,] 17.71876 17.25898 16.56942\n",
      "[2,] 12.42049 12.40599 12.43139\n",
      "\n"
     ]
    }
   ],
   "source": [
    "%%R -i h5fname\n",
    "V = h5read(h5fname, 'V')\n",
    "V[1:2, 10:12, 10:11]"
   ]
  },
  {
   "cell_type": "code",
   "execution_count": 102,
   "metadata": {},
   "outputs": [
    {
     "name": "stdout",
     "output_type": "stream",
     "text": [
      "(10, 10, 10, 10) int32\n"
     ]
    }
   ],
   "source": [
    "make_h5_hierarchy()  # initialize the HDF5 file\n",
    "f = h5py.File('data/hierarchy.h5', 'r+')\n",
    "dset = f['/deeply/nested/group/my_data']\n",
    "print(dset.shape, dset.dtype)"
   ]
  },
  {
   "cell_type": "code",
   "execution_count": 103,
   "metadata": {},
   "outputs": [
    {
     "name": "stdout",
     "output_type": "stream",
     "text": [
      "author → David Mertz\n",
      "citation → Cleaning Data Book\n",
      "shape_type → 4-D integer array\n",
      "\n",
      "Data block:\n",
      " [[-93 -53]\n",
      " [ 18 -37]]\n"
     ]
    }
   ],
   "source": [
    "for key, val in dset.attrs.items():\n",
    "    print(key, \"→\", val)\n",
    "print()\n",
    "print(\"Data block:\\n\", dset[5, 3, 2:4, 8:])"
   ]
  },
  {
   "cell_type": "code",
   "execution_count": 104,
   "metadata": {},
   "outputs": [
    {
     "name": "stdout",
     "output_type": "stream",
     "text": [
      "[[-45 -76]\n",
      " [-96 -21]]\n"
     ]
    }
   ],
   "source": [
    "dset[5, 3, 2:4, 8:] = np.random.randint(-99, 99, (2, 2))\n",
    "print(dset[5, 3, 2:4, 8:])\n",
    "f.close()                   # write change to disk"
   ]
  },
  {
   "cell_type": "code",
   "execution_count": 105,
   "metadata": {},
   "outputs": [
    {
     "name": "stdout",
     "output_type": "stream",
     "text": [
      "                   group      name       otype  dclass               dim\n",
      "0                      /    deeply   H5I_GROUP                          \n",
      "1                /deeply    nested   H5I_GROUP                          \n",
      "2         /deeply/nested     group   H5I_GROUP                          \n",
      "3   /deeply/nested/group   my_data H5I_DATASET INTEGER 10 x 10 x 10 x 10\n",
      "4                /deeply      path   H5I_GROUP                          \n",
      "5           /deeply/path elsewhere   H5I_GROUP                          \n",
      "6 /deeply/path/elsewhere     other H5I_DATASET INTEGER                20\n",
      "7           /deeply/path that_data H5I_DATASET   FLOAT             5 x 5\n"
     ]
    }
   ],
   "source": [
    "%%R \n",
    "library(rhdf5)\n",
    "h5ls('data/hierarchy.h5')"
   ]
  },
  {
   "cell_type": "markdown",
   "metadata": {},
   "source": [
    "### SQLite"
   ]
  },
  {
   "cell_type": "code",
   "execution_count": 106,
   "metadata": {},
   "outputs": [
    {
     "name": "stdout",
     "output_type": "stream",
     "text": [
      "['int 123', 'str 456', 'float 789.0']\n",
      "['str xyz', 'str 3.14', 'float 2.71']\n"
     ]
    }
   ],
   "source": [
    "import sqlite3\n",
    "db = sqlite3.connect('data/affinity.sqlite')\n",
    "cur = db.cursor()\n",
    "cur.execute(\"SELECT a, b, c FROM t1\")\n",
    "for row in cur:\n",
    "    print([f\"{x.__class__.__name__} {x}\" for x in row])"
   ]
  },
  {
   "cell_type": "markdown",
   "metadata": {},
   "source": [
    "### Apache Parquet"
   ]
  },
  {
   "cell_type": "code",
   "execution_count": 110,
   "metadata": {},
   "outputs": [
    {
     "name": "stdout",
     "output_type": "stream",
     "text": [
      "Collecting pyarrow\n",
      "  Downloading pyarrow-20.0.0-cp311-cp311-manylinux_2_28_aarch64.whl.metadata (3.3 kB)\n",
      "Collecting fastparquet\n",
      "  Downloading fastparquet-2024.11.0-cp311-cp311-manylinux_2_17_aarch64.manylinux2014_aarch64.whl.metadata (4.2 kB)\n",
      "Requirement already satisfied: pandas>=1.5.0 in /opt/conda/lib/python3.11/site-packages (from fastparquet) (2.2.2)\n",
      "Requirement already satisfied: numpy in /opt/conda/lib/python3.11/site-packages (from fastparquet) (2.1.0)\n",
      "Collecting cramjam>=2.3 (from fastparquet)\n",
      "  Downloading cramjam-2.10.0-cp311-cp311-manylinux_2_17_aarch64.manylinux2014_aarch64.whl.metadata (5.0 kB)\n",
      "Requirement already satisfied: fsspec in /opt/conda/lib/python3.11/site-packages (from fastparquet) (2024.6.1)\n",
      "Requirement already satisfied: packaging in /opt/conda/lib/python3.11/site-packages (from fastparquet) (23.2)\n",
      "Requirement already satisfied: python-dateutil>=2.8.2 in /opt/conda/lib/python3.11/site-packages (from pandas>=1.5.0->fastparquet) (2.8.2)\n",
      "Requirement already satisfied: pytz>=2020.1 in /opt/conda/lib/python3.11/site-packages (from pandas>=1.5.0->fastparquet) (2023.3.post1)\n",
      "Requirement already satisfied: tzdata>=2022.7 in /opt/conda/lib/python3.11/site-packages (from pandas>=1.5.0->fastparquet) (2024.1)\n",
      "Requirement already satisfied: six>=1.5 in /opt/conda/lib/python3.11/site-packages (from python-dateutil>=2.8.2->pandas>=1.5.0->fastparquet) (1.16.0)\n",
      "Downloading pyarrow-20.0.0-cp311-cp311-manylinux_2_28_aarch64.whl (40.7 MB)\n",
      "\u001b[2K   \u001b[90m━━━━━━━━━━━━━━━━━━━━━━━━━━━━━━━━━━━━━━━━\u001b[0m \u001b[32m40.7/40.7 MB\u001b[0m \u001b[31m13.8 MB/s\u001b[0m eta \u001b[36m0:00:00\u001b[0m00:01\u001b[0m00:01\u001b[0m\n",
      "\u001b[?25hDownloading fastparquet-2024.11.0-cp311-cp311-manylinux_2_17_aarch64.manylinux2014_aarch64.whl (1.8 MB)\n",
      "\u001b[2K   \u001b[90m━━━━━━━━━━━━━━━━━━━━━━━━━━━━━━━━━━━━━━━━\u001b[0m \u001b[32m1.8/1.8 MB\u001b[0m \u001b[31m13.2 MB/s\u001b[0m eta \u001b[36m0:00:00\u001b[0ma \u001b[36m0:00:01\u001b[0m\n",
      "\u001b[?25hDownloading cramjam-2.10.0-cp311-cp311-manylinux_2_17_aarch64.manylinux2014_aarch64.whl (1.8 MB)\n",
      "\u001b[2K   \u001b[90m━━━━━━━━━━━━━━━━━━━━━━━━━━━━━━━━━━━━━━━━\u001b[0m \u001b[32m1.8/1.8 MB\u001b[0m \u001b[31m10.4 MB/s\u001b[0m eta \u001b[36m0:00:00\u001b[0ma \u001b[36m0:00:01\u001b[0m\n",
      "\u001b[?25hInstalling collected packages: pyarrow, cramjam, fastparquet\n",
      "Successfully installed cramjam-2.10.0 fastparquet-2024.11.0 pyarrow-20.0.0\n"
     ]
    }
   ],
   "source": [
    "! pip install pyarrow fastparquet"
   ]
  },
  {
   "cell_type": "code",
   "execution_count": 107,
   "metadata": {},
   "outputs": [
    {
     "name": "stdout",
     "output_type": "stream",
     "text": [
      "_common_metadata  _metadata\t   part.0.parquet   part.10.parquet\n",
      "part.11.parquet   part.12.parquet  part.13.parquet  part.14.parquet\n",
      "part.15.parquet   part.16.parquet  part.17.parquet  part.18.parquet\n",
      "part.19.parquet   part.1.parquet   part.20.parquet  part.21.parquet\n",
      "part.22.parquet   part.23.parquet  part.24.parquet  part.25.parquet\n",
      "part.26.parquet   part.27.parquet  part.28.parquet  part.29.parquet\n",
      "part.2.parquet\t  part.3.parquet   part.4.parquet   part.5.parquet\n",
      "part.6.parquet\t  part.7.parquet   part.8.parquet   part.9.parquet\n"
     ]
    }
   ],
   "source": [
    "%%bash\n",
    "ls -x data/multicsv.parq"
   ]
  },
  {
   "cell_type": "code",
   "execution_count": 112,
   "metadata": {},
   "outputs": [
    {
     "data": {
      "text/html": [
       "<div>\n",
       "<style scoped>\n",
       "    .dataframe tbody tr th:only-of-type {\n",
       "        vertical-align: middle;\n",
       "    }\n",
       "\n",
       "    .dataframe tbody tr th {\n",
       "        vertical-align: top;\n",
       "    }\n",
       "\n",
       "    .dataframe thead th {\n",
       "        text-align: right;\n",
       "    }\n",
       "</style>\n",
       "<table border=\"1\" class=\"dataframe\">\n",
       "  <thead>\n",
       "    <tr style=\"text-align: right;\">\n",
       "      <th></th>\n",
       "      <th>timestamp</th>\n",
       "      <th>id</th>\n",
       "      <th>name</th>\n",
       "      <th>x</th>\n",
       "      <th>y</th>\n",
       "    </tr>\n",
       "    <tr>\n",
       "      <th>index</th>\n",
       "      <th></th>\n",
       "      <th></th>\n",
       "      <th></th>\n",
       "      <th></th>\n",
       "      <th></th>\n",
       "    </tr>\n",
       "  </thead>\n",
       "  <tbody>\n",
       "    <tr>\n",
       "      <th>0</th>\n",
       "      <td>2000-01-01 00:00:00</td>\n",
       "      <td>979</td>\n",
       "      <td>Zelda</td>\n",
       "      <td>0.802163</td>\n",
       "      <td>0.166619</td>\n",
       "    </tr>\n",
       "    <tr>\n",
       "      <th>1</th>\n",
       "      <td>2000-01-01 00:00:01</td>\n",
       "      <td>1019</td>\n",
       "      <td>Ingrid</td>\n",
       "      <td>-0.349999</td>\n",
       "      <td>0.704687</td>\n",
       "    </tr>\n",
       "    <tr>\n",
       "      <th>2</th>\n",
       "      <td>2000-01-01 00:00:02</td>\n",
       "      <td>1007</td>\n",
       "      <td>Hannah</td>\n",
       "      <td>-0.169853</td>\n",
       "      <td>-0.050842</td>\n",
       "    </tr>\n",
       "    <tr>\n",
       "      <th>3</th>\n",
       "      <td>2000-01-01 00:00:03</td>\n",
       "      <td>1034</td>\n",
       "      <td>Ursula</td>\n",
       "      <td>0.868090</td>\n",
       "      <td>-0.190783</td>\n",
       "    </tr>\n",
       "    <tr>\n",
       "      <th>...</th>\n",
       "      <td>...</td>\n",
       "      <td>...</td>\n",
       "      <td>...</td>\n",
       "      <td>...</td>\n",
       "      <td>...</td>\n",
       "    </tr>\n",
       "    <tr>\n",
       "      <th>86396</th>\n",
       "      <td>2000-01-10 23:59:56</td>\n",
       "      <td>998</td>\n",
       "      <td>Jerry</td>\n",
       "      <td>0.589575</td>\n",
       "      <td>0.412477</td>\n",
       "    </tr>\n",
       "    <tr>\n",
       "      <th>86397</th>\n",
       "      <td>2000-01-10 23:59:57</td>\n",
       "      <td>1011</td>\n",
       "      <td>Yvonne</td>\n",
       "      <td>0.047785</td>\n",
       "      <td>-0.202337</td>\n",
       "    </tr>\n",
       "    <tr>\n",
       "      <th>86398</th>\n",
       "      <td>2000-01-10 23:59:58</td>\n",
       "      <td>1053</td>\n",
       "      <td>Oliver</td>\n",
       "      <td>0.690303</td>\n",
       "      <td>-0.639954</td>\n",
       "    </tr>\n",
       "    <tr>\n",
       "      <th>86399</th>\n",
       "      <td>2000-01-10 23:59:59</td>\n",
       "      <td>1009</td>\n",
       "      <td>Ursula</td>\n",
       "      <td>0.228775</td>\n",
       "      <td>0.750066</td>\n",
       "    </tr>\n",
       "  </tbody>\n",
       "</table>\n",
       "<p>2592000 rows × 5 columns</p>\n",
       "</div>"
      ],
      "text/plain": [
       "                timestamp    id    name         x         y\n",
       "index                                                      \n",
       "0     2000-01-01 00:00:00   979   Zelda  0.802163  0.166619\n",
       "1     2000-01-01 00:00:01  1019  Ingrid -0.349999  0.704687\n",
       "2     2000-01-01 00:00:02  1007  Hannah -0.169853 -0.050842\n",
       "3     2000-01-01 00:00:03  1034  Ursula  0.868090 -0.190783\n",
       "...                   ...   ...     ...       ...       ...\n",
       "86396 2000-01-10 23:59:56   998   Jerry  0.589575  0.412477\n",
       "86397 2000-01-10 23:59:57  1011  Yvonne  0.047785 -0.202337\n",
       "86398 2000-01-10 23:59:58  1053  Oliver  0.690303 -0.639954\n",
       "86399 2000-01-10 23:59:59  1009  Ursula  0.228775  0.750066\n",
       "\n",
       "[2592000 rows x 5 columns]"
      ]
     },
     "execution_count": 112,
     "metadata": {},
     "output_type": "execute_result"
    }
   ],
   "source": [
    "pd.read_parquet('data/multicsv.parq/')"
   ]
  },
  {
   "cell_type": "markdown",
   "metadata": {},
   "source": [
    "## Data Frames"
   ]
  },
  {
   "cell_type": "markdown",
   "metadata": {},
   "source": [
    "### Spark/Scala"
   ]
  },
  {
   "cell_type": "markdown",
   "metadata": {},
   "source": [
    "### Pandas and Derived Wrappers"
   ]
  },
  {
   "cell_type": "code",
   "execution_count": 113,
   "metadata": {},
   "outputs": [],
   "source": [
    "import dask.dataframe as dd\n",
    "dfd = dd.read_csv('data/multicsv/*.csv', parse_dates=['timestamp'])"
   ]
  },
  {
   "cell_type": "code",
   "execution_count": 114,
   "metadata": {},
   "outputs": [
    {
     "data": {
      "text/html": [
       "<div>\n",
       "<style scoped>\n",
       "    .dataframe tbody tr th:only-of-type {\n",
       "        vertical-align: middle;\n",
       "    }\n",
       "\n",
       "    .dataframe tbody tr th {\n",
       "        vertical-align: top;\n",
       "    }\n",
       "\n",
       "    .dataframe thead th {\n",
       "        text-align: right;\n",
       "    }\n",
       "</style>\n",
       "<table border=\"1\" class=\"dataframe\">\n",
       "  <thead>\n",
       "    <tr style=\"text-align: right;\">\n",
       "      <th></th>\n",
       "      <th>Mean_x</th>\n",
       "    </tr>\n",
       "    <tr>\n",
       "      <th>name</th>\n",
       "      <th></th>\n",
       "    </tr>\n",
       "  </thead>\n",
       "  <tbody>\n",
       "    <tr>\n",
       "      <th>Ray</th>\n",
       "      <td>0.662570</td>\n",
       "    </tr>\n",
       "    <tr>\n",
       "      <th>Ursula</th>\n",
       "      <td>0.662811</td>\n",
       "    </tr>\n",
       "    <tr>\n",
       "      <th>Xavier</th>\n",
       "      <td>0.664117</td>\n",
       "    </tr>\n",
       "    <tr>\n",
       "      <th>Wendy</th>\n",
       "      <td>0.664238</td>\n",
       "    </tr>\n",
       "    <tr>\n",
       "      <th>Kevin</th>\n",
       "      <td>0.664836</td>\n",
       "    </tr>\n",
       "  </tbody>\n",
       "</table>\n",
       "</div>"
      ],
      "text/plain": [
       "          Mean_x\n",
       "name            \n",
       "Ray     0.662570\n",
       "Ursula  0.662811\n",
       "Xavier  0.664117\n",
       "Wendy   0.664238\n",
       "Kevin   0.664836"
      ]
     },
     "execution_count": 114,
     "metadata": {},
     "output_type": "execute_result"
    }
   ],
   "source": [
    "(dfd\n",
    "   .loc[dfd.x > dfd.y+1,            # Row predicate\n",
    "        ['name', 'x']]              # Column list\n",
    "   .groupby(\"name\")                 # Grouping column(s)\n",
    "   .mean()                          # Aggregation\n",
    "   .rename(columns={'x': 'Mean_x'}) # Naming\n",
    "   .nsmallest(5, 'Mean_x')          # Selection by order\n",
    ").compute()                         # Concretize"
   ]
  },
  {
   "cell_type": "markdown",
   "metadata": {},
   "source": [
    "### Vaex"
   ]
  },
  {
   "cell_type": "code",
   "execution_count": null,
   "metadata": {},
   "outputs": [],
   "source": [
    "import vaex\n",
    "dfv = vaex.read_csv_and_convert('data/multicsv/*.csv', copy_index=False)"
   ]
  },
  {
   "cell_type": "code",
   "execution_count": 69,
   "metadata": {},
   "outputs": [
    {
     "name": "stdout",
     "output_type": "stream",
     "text": [
      "  #  name           x\n",
      "  0  Ray     0.66257\n",
      "  1  Ursula  0.662811\n",
      "  2  Xavier  0.664117\n",
      "  3  Wendy   0.664238\n",
      "  4  Kevin   0.664836\n"
     ]
    }
   ],
   "source": [
    "print(\n",
    "dfv\n",
    "   [dfv.x > dfv.y + 1]  # Predicate selection of rows\n",
    "   [['name', 'x']]      # List selection of columns\n",
    "   .groupby('name')     # Grouping\n",
    "   .agg({'x': 'mean'})  # Aggregation\n",
    "   .sort('x')           # Sort (Vaex does not have .nsmallest() method)\n",
    "   .head(5)             # First 5\n",
    ")"
   ]
  },
  {
   "cell_type": "code",
   "execution_count": 127,
   "metadata": {},
   "outputs": [],
   "source": [
    "%%bash\n",
    "rm -f data/multicsv/*.hdf5"
   ]
  },
  {
   "cell_type": "markdown",
   "metadata": {},
   "source": [
    "### Data Frames in R (Tidyverse)"
   ]
  },
  {
   "cell_type": "code",
   "execution_count": 120,
   "metadata": {},
   "outputs": [
    {
     "name": "stdout",
     "output_type": "stream",
     "text": [
      "# A tibble: 2,592,000 × 5\n",
      "   timestamp              id name         x       y\n",
      "   <dttm>              <dbl> <fct>    <dbl>   <dbl>\n",
      " 1 2000-01-01 00:00:00   979 Zelda   0.802   0.167 \n",
      " 2 2000-01-01 00:00:01  1019 Ingrid -0.350   0.705 \n",
      " 3 2000-01-01 00:00:02  1007 Hannah -0.170  -0.0508\n",
      " 4 2000-01-01 00:00:03  1034 Ursula  0.868  -0.191 \n",
      " 5 2000-01-01 00:00:04  1024 Ingrid  0.0838  0.109 \n",
      " 6 2000-01-01 00:00:05   955 Ingrid -0.757   0.308 \n",
      " 7 2000-01-01 00:00:06   968 Laura   0.230  -0.913 \n",
      " 8 2000-01-01 00:00:07   945 Ursula  0.265  -0.271 \n",
      " 9 2000-01-01 00:00:08  1020 Victor  0.512  -0.481 \n",
      "10 2000-01-01 00:00:09   992 Wendy   0.862  -0.599 \n",
      "# ℹ 2,591,990 more rows\n",
      "# ℹ Use `print(n = ...)` to see more rows\n"
     ]
    }
   ],
   "source": [
    "%%R \n",
    "files <- dir(path = \"data/multicsv/\", pattern = \"*.csv\", full.names = TRUE)\n",
    "read_csv_quiet <- function(file) { \n",
    "    read_csv(file, col_types = cols(\"T\", \"n\", \"f\", \"n\", \"n\"), progress = FALSE) }\n",
    "\n",
    "data <- files   %>%\n",
    "  # read_csv() on each file, reduce to one DF with rbind\n",
    "  map(read_csv_quiet) %>%  \n",
    "  # If this were genuinely large data, we would process each file individually\n",
    "  reduce(rbind)  \n",
    "\n",
    "data"
   ]
  },
  {
   "cell_type": "code",
   "execution_count": 121,
   "metadata": {},
   "outputs": [
    {
     "name": "stdout",
     "output_type": "stream",
     "text": [
      "# A tibble: 5 × 2\n",
      "  name   Mean_x\n",
      "  <fct>   <dbl>\n",
      "1 Ray     0.663\n",
      "2 Ursula  0.663\n",
      "3 Xavier  0.664\n",
      "4 Wendy   0.664\n",
      "5 Kevin   0.665\n"
     ]
    }
   ],
   "source": [
    "%%R \n",
    "info <- capture.output( \n",
    "# --- hide nonsense on STDERR\n",
    "summary <- data   %>% \n",
    "  filter(x > y+1) %>%   # Predicate selection of rows\n",
    "  select(name, x) %>%   # Selection of columns\n",
    "  group_by(name)  %>%   # Grouping\n",
    "                        # Aggregation and naming\n",
    "  summarize(Mean_x = mean(x)) %>% \n",
    "  arrange(Mean_x) %>%   # Sort data\n",
    "  head(5)               # First 5\n",
    "# --- end of block for capture.output\n",
    ",type = \"message\")   \n",
    "\n",
    "summary"
   ]
  },
  {
   "cell_type": "markdown",
   "metadata": {},
   "source": [
    "### Data Frames in R (data.table)"
   ]
  },
  {
   "cell_type": "code",
   "execution_count": 122,
   "metadata": {},
   "outputs": [
    {
     "name": "stdout",
     "output_type": "stream",
     "text": [
      "     name    Mean_x\n",
      "   <fctr>     <num>\n",
      "1:    Ray 0.6625697\n",
      "2: Ursula 0.6628107\n",
      "3: Xavier 0.6641165\n",
      "4:  Wendy 0.6642382\n",
      "5:  Kevin 0.6648363\n"
     ]
    }
   ],
   "source": [
    "%%R\n",
    "info <- capture.output( \n",
    "# --- hide nonsense on STDERR\n",
    "library(data.table)\n",
    "# --- end of block for capture.output\n",
    ",type = \"message\")   \n",
    "\n",
    "dt <- data.table(data)\n",
    "summary <- dt[\n",
    "    i = x > y + 1,      # Predicate selection of rows\n",
    "                        # Aggregation and naming\n",
    "    j = .(Mean_x = mean(x)), \n",
    "    by = .(name)]       # Grouping\n",
    "\n",
    "# Sort data and first 5\n",
    "summary[order(Mean_x), .SD[1:5]]"
   ]
  },
  {
   "cell_type": "markdown",
   "metadata": {},
   "source": [
    "### Bash for Fun"
   ]
  },
  {
   "cell_type": "code",
   "execution_count": 123,
   "metadata": {},
   "outputs": [
    {
     "name": "stdout",
     "output_type": "stream",
     "text": [
      "Ray 0.66257\n",
      "Ursula 0.662811\n",
      "Xavier 0.664117\n",
      "Wendy 0.664238\n",
      "Kevin 0.664836\n"
     ]
    }
   ],
   "source": [
    "%%bash\n",
    "COND='{if ($4 > $5+1) print}'\n",
    "SHOW='{for(j in count) print j,sum[j]/count[j]}'\n",
    "AGG='{ count[$1]++; sum[$1]+=$2 }'\" END $SHOW\"\n",
    "\n",
    "cat data/multicsv/*.csv | # Create the \"data frame\"\n",
    "  grep -v ^timestamp    | # Remove the headers\n",
    "  awk -F, \"$COND\"       | # Predicate selection\n",
    "  cut -d, -f3,4         | # Select columns\n",
    "  awk -F, \"$AGG\"        | # Aggregate by group\n",
    "  sort -k2              | # Sort data\n",
    "  head -5                 # First 5"
   ]
  }
 ],
 "metadata": {
  "kernelspec": {
   "display_name": "Python 3 (ipykernel)",
   "language": "python",
   "name": "python3"
  },
  "language_info": {
   "codemirror_mode": {
    "name": "ipython",
    "version": 3
   },
   "file_extension": ".py",
   "mimetype": "text/x-python",
   "name": "python",
   "nbconvert_exporter": "python",
   "pygments_lexer": "ipython3",
   "version": "3.11.6"
  },
  "toc-autonumbering": true,
  "toc-showmarkdowntxt": false
 },
 "nbformat": 4,
 "nbformat_minor": 4
}
